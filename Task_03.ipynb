{
  "nbformat": 4,
  "nbformat_minor": 0,
  "metadata": {
    "colab": {
      "name": "Task_03.ipynb",
      "provenance": [],
      "collapsed_sections": [
        "0oi3v3cD5yrf",
        "EX99XMSz6NBj",
        "0-Zuenq3Mx5t"
      ],
      "authorship_tag": "ABX9TyPsirsj088P8yk9aGYEEhTj",
      "include_colab_link": true
    },
    "kernelspec": {
      "name": "python3",
      "display_name": "Python 3"
    },
    "language_info": {
      "name": "python"
    }
  },
  "cells": [
    {
      "cell_type": "markdown",
      "metadata": {
        "id": "view-in-github",
        "colab_type": "text"
      },
      "source": [
        "<a href=\"https://colab.research.google.com/github/FatemeFarhang/data-science/blob/main/Task_03.ipynb\" target=\"_parent\"><img src=\"https://colab.research.google.com/assets/colab-badge.svg\" alt=\"Open In Colab\"/></a>"
      ]
    },
    {
      "cell_type": "markdown",
      "source": [
        "For more convenience, I switched my data to random tweets to include reply and like counts as well as retweet counts."
      ],
      "metadata": {
        "id": "kGfoRO4NLmoW"
      }
    },
    {
      "cell_type": "markdown",
      "source": [
        "## Import data and inquiries"
      ],
      "metadata": {
        "id": "UjPA0y3rJ7GP"
      }
    },
    {
      "cell_type": "markdown",
      "source": [
        "### Libraries"
      ],
      "metadata": {
        "id": "0oi3v3cD5yrf"
      }
    },
    {
      "cell_type": "code",
      "source": [
        "# DataFrame\n",
        "import pandas as pd\n",
        "pd.set_option(\"max_colwidth\", 200)\n",
        "\n",
        "# Matplot\n",
        "import matplotlib.pyplot as plt\n",
        "%matplotlib inline\n",
        "\n",
        "# # Scikit-learn\n",
        "# from sklearn.model_selection import train_test_split\n",
        "# from sklearn.preprocessing import LabelEncoder\n",
        "# from sklearn.metrics import confusion_matrix, classification_report, accuracy_score\n",
        "# from sklearn.manifold import TSNE\n",
        "# from sklearn.feature_extraction.text import TfidfVectorizer\n",
        "\n",
        "# Keras\n",
        "from tensorflow import keras\n",
        "from keras.preprocessing.text import Tokenizer\n",
        "from keras.preprocessing.sequence import pad_sequences\n",
        "# from keras.models import Sequential\n",
        "# from keras.layers import Activation, Dense, Dropout, Embedding, Flatten, Conv1D, MaxPooling1D, LSTM\n",
        "# from keras import utils\n",
        "# from keras.callbacks import ReduceLROnPlateau, EarlyStopping\n",
        "\n",
        "# nltk\n",
        "import nltk\n",
        "from nltk.corpus import stopwords\n",
        "from  nltk.stem import SnowballStemmer\n",
        "\n",
        "# Word2vec\n",
        "import gensim\n",
        "\n",
        "# Utility\n",
        "import re\n",
        "import numpy as np\n",
        "import os\n",
        "from collections import Counter\n",
        "import time\n",
        "import pickle\n",
        "from datetime import datetime, timedelta"
      ],
      "metadata": {
        "id": "gN2C_M_bSLgx"
      },
      "execution_count": 2,
      "outputs": []
    },
    {
      "cell_type": "markdown",
      "source": [
        "### Import Data"
      ],
      "metadata": {
        "id": "0-Zuenq3Mx5t"
      }
    },
    {
      "cell_type": "code",
      "source": [
        "url = \"https://github.com/sraeisi/MachineLearning_Physics/blob/master/Data/random_tweets.csv?raw=true\"\n",
        "df = pd.read_csv(url,\n",
        "                 usecols = [2,6,7,10,11,15,16,17]\n",
        "                 )\n",
        "df = df[df['language']=='en'].drop(['language'], axis=1)\n",
        "df.drop_duplicates(ignore_index=True, inplace=True)\n",
        "# df = df.sample(random_state=0, frac= .5, ignore_index = True)\n",
        "\n",
        "print(f'There are a total number of {len(df)} tweets in this dataset.')\n",
        "df.head()\n"
      ],
      "metadata": {
        "colab": {
          "base_uri": "https://localhost:8080/",
          "height": 0
        },
        "id": "50avRpNTFJV4",
        "outputId": "8afa51ce-ef71-417b-c0ee-d50349c67d31"
      },
      "execution_count": 3,
      "outputs": [
        {
          "output_type": "stream",
          "name": "stdout",
          "text": [
            "There are a total number of 17513 tweets in this dataset.\n"
          ]
        },
        {
          "output_type": "execute_result",
          "data": {
            "text/plain": [
              "                created_at              user_id  username  \\\n",
              "0  2021-10-02 23:59:59 UTC  1127431975520882688   maudi63   \n",
              "1  2021-10-02 23:59:58 UTC            793331593   tee_asz   \n",
              "2  2021-10-02 23:59:58 UTC            386317180  swtlovex   \n",
              "3  2021-10-02 23:59:56 UTC  1264612627516293121  kiergzn_   \n",
              "4  2021-10-02 23:59:56 UTC            265209421   mewiyev   \n",
              "\n",
              "                                                                                                                                                                                                     tweet  \\\n",
              "0  @Timodc I just looked up where he grew up. Lowell, Massachusetts. I live near there now. My 3 kids all got their degrees the same place as him, UMass Lowell. There were lots of ‘tough towns’ in MA...   \n",
              "1                                                                               Good morning to the ICAC commissioners in NSW who were doing the job they were tasked to do and enforcing the rule of law.   \n",
              "2                                          U see some of us that can’t dance just like Whitemoney? U have no idea how we dance beautifully in our heads.   The only problem is the execution in real steps   \n",
              "3                                                                                                         Thank you for all the killings and making the country more divided EVER in history. #SalamatPRRD   \n",
              "4                                                                                                                                  the bookworm swordsman #Xingqiu #GenshinImapct  https://t.co/OpVuz7rAG6   \n",
              "\n",
              "   replies_count  retweets_count  likes_count  \n",
              "0             28              13          214  \n",
              "1              7             107          584  \n",
              "2              8              10           41  \n",
              "3              5              17          125  \n",
              "4              1             101          534  "
            ],
            "text/html": [
              "\n",
              "  <div id=\"df-be16387c-fd12-4267-8e9e-776fd227c00c\">\n",
              "    <div class=\"colab-df-container\">\n",
              "      <div>\n",
              "<style scoped>\n",
              "    .dataframe tbody tr th:only-of-type {\n",
              "        vertical-align: middle;\n",
              "    }\n",
              "\n",
              "    .dataframe tbody tr th {\n",
              "        vertical-align: top;\n",
              "    }\n",
              "\n",
              "    .dataframe thead th {\n",
              "        text-align: right;\n",
              "    }\n",
              "</style>\n",
              "<table border=\"1\" class=\"dataframe\">\n",
              "  <thead>\n",
              "    <tr style=\"text-align: right;\">\n",
              "      <th></th>\n",
              "      <th>created_at</th>\n",
              "      <th>user_id</th>\n",
              "      <th>username</th>\n",
              "      <th>tweet</th>\n",
              "      <th>replies_count</th>\n",
              "      <th>retweets_count</th>\n",
              "      <th>likes_count</th>\n",
              "    </tr>\n",
              "  </thead>\n",
              "  <tbody>\n",
              "    <tr>\n",
              "      <th>0</th>\n",
              "      <td>2021-10-02 23:59:59 UTC</td>\n",
              "      <td>1127431975520882688</td>\n",
              "      <td>maudi63</td>\n",
              "      <td>@Timodc I just looked up where he grew up. Lowell, Massachusetts. I live near there now. My 3 kids all got their degrees the same place as him, UMass Lowell. There were lots of ‘tough towns’ in MA...</td>\n",
              "      <td>28</td>\n",
              "      <td>13</td>\n",
              "      <td>214</td>\n",
              "    </tr>\n",
              "    <tr>\n",
              "      <th>1</th>\n",
              "      <td>2021-10-02 23:59:58 UTC</td>\n",
              "      <td>793331593</td>\n",
              "      <td>tee_asz</td>\n",
              "      <td>Good morning to the ICAC commissioners in NSW who were doing the job they were tasked to do and enforcing the rule of law.</td>\n",
              "      <td>7</td>\n",
              "      <td>107</td>\n",
              "      <td>584</td>\n",
              "    </tr>\n",
              "    <tr>\n",
              "      <th>2</th>\n",
              "      <td>2021-10-02 23:59:58 UTC</td>\n",
              "      <td>386317180</td>\n",
              "      <td>swtlovex</td>\n",
              "      <td>U see some of us that can’t dance just like Whitemoney? U have no idea how we dance beautifully in our heads.   The only problem is the execution in real steps</td>\n",
              "      <td>8</td>\n",
              "      <td>10</td>\n",
              "      <td>41</td>\n",
              "    </tr>\n",
              "    <tr>\n",
              "      <th>3</th>\n",
              "      <td>2021-10-02 23:59:56 UTC</td>\n",
              "      <td>1264612627516293121</td>\n",
              "      <td>kiergzn_</td>\n",
              "      <td>Thank you for all the killings and making the country more divided EVER in history. #SalamatPRRD</td>\n",
              "      <td>5</td>\n",
              "      <td>17</td>\n",
              "      <td>125</td>\n",
              "    </tr>\n",
              "    <tr>\n",
              "      <th>4</th>\n",
              "      <td>2021-10-02 23:59:56 UTC</td>\n",
              "      <td>265209421</td>\n",
              "      <td>mewiyev</td>\n",
              "      <td>the bookworm swordsman #Xingqiu #GenshinImapct  https://t.co/OpVuz7rAG6</td>\n",
              "      <td>1</td>\n",
              "      <td>101</td>\n",
              "      <td>534</td>\n",
              "    </tr>\n",
              "  </tbody>\n",
              "</table>\n",
              "</div>\n",
              "      <button class=\"colab-df-convert\" onclick=\"convertToInteractive('df-be16387c-fd12-4267-8e9e-776fd227c00c')\"\n",
              "              title=\"Convert this dataframe to an interactive table.\"\n",
              "              style=\"display:none;\">\n",
              "        \n",
              "  <svg xmlns=\"http://www.w3.org/2000/svg\" height=\"24px\"viewBox=\"0 0 24 24\"\n",
              "       width=\"24px\">\n",
              "    <path d=\"M0 0h24v24H0V0z\" fill=\"none\"/>\n",
              "    <path d=\"M18.56 5.44l.94 2.06.94-2.06 2.06-.94-2.06-.94-.94-2.06-.94 2.06-2.06.94zm-11 1L8.5 8.5l.94-2.06 2.06-.94-2.06-.94L8.5 2.5l-.94 2.06-2.06.94zm10 10l.94 2.06.94-2.06 2.06-.94-2.06-.94-.94-2.06-.94 2.06-2.06.94z\"/><path d=\"M17.41 7.96l-1.37-1.37c-.4-.4-.92-.59-1.43-.59-.52 0-1.04.2-1.43.59L10.3 9.45l-7.72 7.72c-.78.78-.78 2.05 0 2.83L4 21.41c.39.39.9.59 1.41.59.51 0 1.02-.2 1.41-.59l7.78-7.78 2.81-2.81c.8-.78.8-2.07 0-2.86zM5.41 20L4 18.59l7.72-7.72 1.47 1.35L5.41 20z\"/>\n",
              "  </svg>\n",
              "      </button>\n",
              "      \n",
              "  <style>\n",
              "    .colab-df-container {\n",
              "      display:flex;\n",
              "      flex-wrap:wrap;\n",
              "      gap: 12px;\n",
              "    }\n",
              "\n",
              "    .colab-df-convert {\n",
              "      background-color: #E8F0FE;\n",
              "      border: none;\n",
              "      border-radius: 50%;\n",
              "      cursor: pointer;\n",
              "      display: none;\n",
              "      fill: #1967D2;\n",
              "      height: 32px;\n",
              "      padding: 0 0 0 0;\n",
              "      width: 32px;\n",
              "    }\n",
              "\n",
              "    .colab-df-convert:hover {\n",
              "      background-color: #E2EBFA;\n",
              "      box-shadow: 0px 1px 2px rgba(60, 64, 67, 0.3), 0px 1px 3px 1px rgba(60, 64, 67, 0.15);\n",
              "      fill: #174EA6;\n",
              "    }\n",
              "\n",
              "    [theme=dark] .colab-df-convert {\n",
              "      background-color: #3B4455;\n",
              "      fill: #D2E3FC;\n",
              "    }\n",
              "\n",
              "    [theme=dark] .colab-df-convert:hover {\n",
              "      background-color: #434B5C;\n",
              "      box-shadow: 0px 1px 3px 1px rgba(0, 0, 0, 0.15);\n",
              "      filter: drop-shadow(0px 1px 2px rgba(0, 0, 0, 0.3));\n",
              "      fill: #FFFFFF;\n",
              "    }\n",
              "  </style>\n",
              "\n",
              "      <script>\n",
              "        const buttonEl =\n",
              "          document.querySelector('#df-be16387c-fd12-4267-8e9e-776fd227c00c button.colab-df-convert');\n",
              "        buttonEl.style.display =\n",
              "          google.colab.kernel.accessAllowed ? 'block' : 'none';\n",
              "\n",
              "        async function convertToInteractive(key) {\n",
              "          const element = document.querySelector('#df-be16387c-fd12-4267-8e9e-776fd227c00c');\n",
              "          const dataTable =\n",
              "            await google.colab.kernel.invokeFunction('convertToInteractive',\n",
              "                                                     [key], {});\n",
              "          if (!dataTable) return;\n",
              "\n",
              "          const docLinkHtml = 'Like what you see? Visit the ' +\n",
              "            '<a target=\"_blank\" href=https://colab.research.google.com/notebooks/data_table.ipynb>data table notebook</a>'\n",
              "            + ' to learn more about interactive tables.';\n",
              "          element.innerHTML = '';\n",
              "          dataTable['output_type'] = 'display_data';\n",
              "          await google.colab.output.renderOutput(dataTable, element);\n",
              "          const docLink = document.createElement('div');\n",
              "          docLink.innerHTML = docLinkHtml;\n",
              "          element.appendChild(docLink);\n",
              "        }\n",
              "      </script>\n",
              "    </div>\n",
              "  </div>\n",
              "  "
            ]
          },
          "metadata": {},
          "execution_count": 3
        }
      ]
    },
    {
      "cell_type": "code",
      "source": [
        "# convert time\n",
        "df['created_at'] = [datetime.strptime(df.iloc[i]['created_at'], \"%Y-%d-%m %H:%M:%S %Z\") for i in range(len(df))]"
      ],
      "metadata": {
        "id": "-lck5N7oy71A"
      },
      "execution_count": 4,
      "outputs": []
    },
    {
      "cell_type": "markdown",
      "source": [
        "# First Metric | Average Interactions per Post"
      ],
      "metadata": {
        "id": "J2wc5Gd5HhJM"
      }
    },
    {
      "cell_type": "code",
      "source": [
        "users = df.user_id.unique()\n",
        "\n",
        "# no. of posts of each user\n",
        "for u in users:\n",
        "    df.loc[df['user_id']== u,'n_posts'] = len(df[df['user_id']== u])"
      ],
      "metadata": {
        "id": "JKpEqrdeac5K"
      },
      "execution_count": 5,
      "outputs": []
    },
    {
      "cell_type": "code",
      "source": [
        "df['avg_int'] = 0\n",
        "\n",
        "# average interactions per post\n",
        "for i,r in df.iterrows():\n",
        "    row = df.at[i, 'tweet']\n",
        "    sub_df = df[df['tweet'] == row]\n",
        "    origin = df.index[(df['tweet']==row) & (df['created_at']==min(sub_df['created_at']))][0] #the original tweet index\n",
        "    if ( abs(sub_df['created_at'].diff()) ).sum() < timedelta(hours = 4): #only take into account the tweets that are created within approximately 4 hours\n",
        "        n_int = 0\n",
        "        n_int = n_int + sum(sub_df['likes_count'] + sub_df['retweets_count'] + sub_df['replies_count'])\n",
        "        df.at[origin,'avg_int'] = ( n_int / df.at[origin, 'n_posts'] )\n",
        "    else:\n",
        "        n_int = 0\n",
        "        n_int = n_int + sum(df.at[origin, 'likes_count'] + df.at[origin, 'retweets_count'] + df.at[origin,'replies_count'])\n",
        "        df.at[origin,'avg_int'] = ( n_int / df.at[origin, 'n_posts'] )\n",
        "\n"
      ],
      "metadata": {
        "id": "43ioOSbfpA2a"
      },
      "execution_count": 6,
      "outputs": []
    },
    {
      "cell_type": "code",
      "source": [
        "df.head(5)"
      ],
      "metadata": {
        "colab": {
          "base_uri": "https://localhost:8080/",
          "height": 458
        },
        "id": "ILMOoIZ-QHC9",
        "outputId": "efa8d807-ffb3-4a69-f630-86b4e9c178c1"
      },
      "execution_count": 53,
      "outputs": [
        {
          "output_type": "execute_result",
          "data": {
            "text/plain": [
              "           created_at              user_id  username  \\\n",
              "0 2021-02-10 23:59:59  1127431975520882688   maudi63   \n",
              "1 2021-02-10 23:59:58            793331593   tee_asz   \n",
              "2 2021-02-10 23:59:58            386317180  swtlovex   \n",
              "3 2021-02-10 23:59:56  1264612627516293121  kiergzn_   \n",
              "4 2021-02-10 23:59:56            265209421   mewiyev   \n",
              "\n",
              "                                                                                                                                                                                                     tweet  \\\n",
              "0  @Timodc I just looked up where he grew up. Lowell, Massachusetts. I live near there now. My 3 kids all got their degrees the same place as him, UMass Lowell. There were lots of ‘tough towns’ in MA...   \n",
              "1                                                                               Good morning to the ICAC commissioners in NSW who were doing the job they were tasked to do and enforcing the rule of law.   \n",
              "2                                          U see some of us that can’t dance just like Whitemoney? U have no idea how we dance beautifully in our heads.   The only problem is the execution in real steps   \n",
              "3                                                                                                         Thank you for all the killings and making the country more divided EVER in history. #SalamatPRRD   \n",
              "4                                                                                                                                  the bookworm swordsman #Xingqiu #GenshinImapct  https://t.co/OpVuz7rAG6   \n",
              "\n",
              "   replies_count  retweets_count  likes_count  n_posts  avg_int  \n",
              "0             28              13          214      1.0      255  \n",
              "1              7             107          584      1.0      698  \n",
              "2              8              10           41      1.0       59  \n",
              "3              5              17          125      1.0      147  \n",
              "4              1             101          534      1.0      636  "
            ],
            "text/html": [
              "\n",
              "  <div id=\"df-95b4fce9-b0ad-4c9e-aac4-ce903b2ca52d\">\n",
              "    <div class=\"colab-df-container\">\n",
              "      <div>\n",
              "<style scoped>\n",
              "    .dataframe tbody tr th:only-of-type {\n",
              "        vertical-align: middle;\n",
              "    }\n",
              "\n",
              "    .dataframe tbody tr th {\n",
              "        vertical-align: top;\n",
              "    }\n",
              "\n",
              "    .dataframe thead th {\n",
              "        text-align: right;\n",
              "    }\n",
              "</style>\n",
              "<table border=\"1\" class=\"dataframe\">\n",
              "  <thead>\n",
              "    <tr style=\"text-align: right;\">\n",
              "      <th></th>\n",
              "      <th>created_at</th>\n",
              "      <th>user_id</th>\n",
              "      <th>username</th>\n",
              "      <th>tweet</th>\n",
              "      <th>replies_count</th>\n",
              "      <th>retweets_count</th>\n",
              "      <th>likes_count</th>\n",
              "      <th>n_posts</th>\n",
              "      <th>avg_int</th>\n",
              "    </tr>\n",
              "  </thead>\n",
              "  <tbody>\n",
              "    <tr>\n",
              "      <th>0</th>\n",
              "      <td>2021-02-10 23:59:59</td>\n",
              "      <td>1127431975520882688</td>\n",
              "      <td>maudi63</td>\n",
              "      <td>@Timodc I just looked up where he grew up. Lowell, Massachusetts. I live near there now. My 3 kids all got their degrees the same place as him, UMass Lowell. There were lots of ‘tough towns’ in MA...</td>\n",
              "      <td>28</td>\n",
              "      <td>13</td>\n",
              "      <td>214</td>\n",
              "      <td>1.0</td>\n",
              "      <td>255</td>\n",
              "    </tr>\n",
              "    <tr>\n",
              "      <th>1</th>\n",
              "      <td>2021-02-10 23:59:58</td>\n",
              "      <td>793331593</td>\n",
              "      <td>tee_asz</td>\n",
              "      <td>Good morning to the ICAC commissioners in NSW who were doing the job they were tasked to do and enforcing the rule of law.</td>\n",
              "      <td>7</td>\n",
              "      <td>107</td>\n",
              "      <td>584</td>\n",
              "      <td>1.0</td>\n",
              "      <td>698</td>\n",
              "    </tr>\n",
              "    <tr>\n",
              "      <th>2</th>\n",
              "      <td>2021-02-10 23:59:58</td>\n",
              "      <td>386317180</td>\n",
              "      <td>swtlovex</td>\n",
              "      <td>U see some of us that can’t dance just like Whitemoney? U have no idea how we dance beautifully in our heads.   The only problem is the execution in real steps</td>\n",
              "      <td>8</td>\n",
              "      <td>10</td>\n",
              "      <td>41</td>\n",
              "      <td>1.0</td>\n",
              "      <td>59</td>\n",
              "    </tr>\n",
              "    <tr>\n",
              "      <th>3</th>\n",
              "      <td>2021-02-10 23:59:56</td>\n",
              "      <td>1264612627516293121</td>\n",
              "      <td>kiergzn_</td>\n",
              "      <td>Thank you for all the killings and making the country more divided EVER in history. #SalamatPRRD</td>\n",
              "      <td>5</td>\n",
              "      <td>17</td>\n",
              "      <td>125</td>\n",
              "      <td>1.0</td>\n",
              "      <td>147</td>\n",
              "    </tr>\n",
              "    <tr>\n",
              "      <th>4</th>\n",
              "      <td>2021-02-10 23:59:56</td>\n",
              "      <td>265209421</td>\n",
              "      <td>mewiyev</td>\n",
              "      <td>the bookworm swordsman #Xingqiu #GenshinImapct  https://t.co/OpVuz7rAG6</td>\n",
              "      <td>1</td>\n",
              "      <td>101</td>\n",
              "      <td>534</td>\n",
              "      <td>1.0</td>\n",
              "      <td>636</td>\n",
              "    </tr>\n",
              "  </tbody>\n",
              "</table>\n",
              "</div>\n",
              "      <button class=\"colab-df-convert\" onclick=\"convertToInteractive('df-95b4fce9-b0ad-4c9e-aac4-ce903b2ca52d')\"\n",
              "              title=\"Convert this dataframe to an interactive table.\"\n",
              "              style=\"display:none;\">\n",
              "        \n",
              "  <svg xmlns=\"http://www.w3.org/2000/svg\" height=\"24px\"viewBox=\"0 0 24 24\"\n",
              "       width=\"24px\">\n",
              "    <path d=\"M0 0h24v24H0V0z\" fill=\"none\"/>\n",
              "    <path d=\"M18.56 5.44l.94 2.06.94-2.06 2.06-.94-2.06-.94-.94-2.06-.94 2.06-2.06.94zm-11 1L8.5 8.5l.94-2.06 2.06-.94-2.06-.94L8.5 2.5l-.94 2.06-2.06.94zm10 10l.94 2.06.94-2.06 2.06-.94-2.06-.94-.94-2.06-.94 2.06-2.06.94z\"/><path d=\"M17.41 7.96l-1.37-1.37c-.4-.4-.92-.59-1.43-.59-.52 0-1.04.2-1.43.59L10.3 9.45l-7.72 7.72c-.78.78-.78 2.05 0 2.83L4 21.41c.39.39.9.59 1.41.59.51 0 1.02-.2 1.41-.59l7.78-7.78 2.81-2.81c.8-.78.8-2.07 0-2.86zM5.41 20L4 18.59l7.72-7.72 1.47 1.35L5.41 20z\"/>\n",
              "  </svg>\n",
              "      </button>\n",
              "      \n",
              "  <style>\n",
              "    .colab-df-container {\n",
              "      display:flex;\n",
              "      flex-wrap:wrap;\n",
              "      gap: 12px;\n",
              "    }\n",
              "\n",
              "    .colab-df-convert {\n",
              "      background-color: #E8F0FE;\n",
              "      border: none;\n",
              "      border-radius: 50%;\n",
              "      cursor: pointer;\n",
              "      display: none;\n",
              "      fill: #1967D2;\n",
              "      height: 32px;\n",
              "      padding: 0 0 0 0;\n",
              "      width: 32px;\n",
              "    }\n",
              "\n",
              "    .colab-df-convert:hover {\n",
              "      background-color: #E2EBFA;\n",
              "      box-shadow: 0px 1px 2px rgba(60, 64, 67, 0.3), 0px 1px 3px 1px rgba(60, 64, 67, 0.15);\n",
              "      fill: #174EA6;\n",
              "    }\n",
              "\n",
              "    [theme=dark] .colab-df-convert {\n",
              "      background-color: #3B4455;\n",
              "      fill: #D2E3FC;\n",
              "    }\n",
              "\n",
              "    [theme=dark] .colab-df-convert:hover {\n",
              "      background-color: #434B5C;\n",
              "      box-shadow: 0px 1px 3px 1px rgba(0, 0, 0, 0.15);\n",
              "      filter: drop-shadow(0px 1px 2px rgba(0, 0, 0, 0.3));\n",
              "      fill: #FFFFFF;\n",
              "    }\n",
              "  </style>\n",
              "\n",
              "      <script>\n",
              "        const buttonEl =\n",
              "          document.querySelector('#df-95b4fce9-b0ad-4c9e-aac4-ce903b2ca52d button.colab-df-convert');\n",
              "        buttonEl.style.display =\n",
              "          google.colab.kernel.accessAllowed ? 'block' : 'none';\n",
              "\n",
              "        async function convertToInteractive(key) {\n",
              "          const element = document.querySelector('#df-95b4fce9-b0ad-4c9e-aac4-ce903b2ca52d');\n",
              "          const dataTable =\n",
              "            await google.colab.kernel.invokeFunction('convertToInteractive',\n",
              "                                                     [key], {});\n",
              "          if (!dataTable) return;\n",
              "\n",
              "          const docLinkHtml = 'Like what you see? Visit the ' +\n",
              "            '<a target=\"_blank\" href=https://colab.research.google.com/notebooks/data_table.ipynb>data table notebook</a>'\n",
              "            + ' to learn more about interactive tables.';\n",
              "          element.innerHTML = '';\n",
              "          dataTable['output_type'] = 'display_data';\n",
              "          await google.colab.output.renderOutput(dataTable, element);\n",
              "          const docLink = document.createElement('div');\n",
              "          docLink.innerHTML = docLinkHtml;\n",
              "          element.appendChild(docLink);\n",
              "        }\n",
              "      </script>\n",
              "    </div>\n",
              "  </div>\n",
              "  "
            ]
          },
          "metadata": {},
          "execution_count": 53
        }
      ]
    },
    {
      "cell_type": "code",
      "source": [
        "df.hist(['avg_int','n_posts'],bins=30, log=True, figsize=(14,4))"
      ],
      "metadata": {
        "colab": {
          "base_uri": "https://localhost:8080/",
          "height": 334
        },
        "id": "rVQlAHAOQbEL",
        "outputId": "e7171f70-ef7a-4585-9546-019e53e07c0a"
      },
      "execution_count": 60,
      "outputs": [
        {
          "output_type": "execute_result",
          "data": {
            "text/plain": [
              "array([[<matplotlib.axes._subplots.AxesSubplot object at 0x7feee717af90>,\n",
              "        <matplotlib.axes._subplots.AxesSubplot object at 0x7feee70e03d0>]],\n",
              "      dtype=object)"
            ]
          },
          "metadata": {},
          "execution_count": 60
        },
        {
          "output_type": "display_data",
          "data": {
            "text/plain": [
              "<Figure size 1008x288 with 2 Axes>"
            ],
            "image/png": "[encoded data removed]"
          },
          "metadata": {
            "needs_background": "light"
          }
        }
      ]
    },
    {
      "cell_type": "markdown",
      "source": [
        "# Second Metric | Passion Point"
      ],
      "metadata": {
        "id": "ouCAsLo_LxsF"
      }
    },
    {
      "cell_type": "markdown",
      "source": [
        "For this part we need to label positive and negative tweets. <br/>\n",
        "Since _emojis_ are the most common seperators of negative and positive tweets, I will annotate the dataset mainly based on those in my first attempt."
      ],
      "metadata": {
        "id": "0g7XwNfFVEML"
      }
    },
    {
      "cell_type": "code",
      "source": [
        "semantic_list = []\n",
        "for i,r in df.iterrows():\n",
        "    for word in df.at[i,'tweet'].lower().split(\" \"):\n",
        "        # positive\n",
        "        if word in[':)', ':p', ':d', ':-)', ':))', 'love', 'great', 'thanks', 'thank', 'happy', 'nice', 'good', 'love', 'awesome', '&lt;3', 'follow']:\n",
        "            semantic_list.append(1)\n",
        "        # negative\n",
        "        elif word in[':(((', ':((', ':(', ':-(', 'sad', 'miss', 'sorry']:\n",
        "            semantic_list.append(0)\n",
        "        else:\n",
        "            semantic_list.append(0)\n",
        "\n",
        "print(f'Total number of tweets annonated as positive = {np.sum(semantic_list)}')"
      ],
      "metadata": {
        "colab": {
          "base_uri": "https://localhost:8080/"
        },
        "id": "PrQohjfOmkjk",
        "outputId": "d3741483-d186-40a0-b4a8-67f433dde362"
      },
      "execution_count": 188,
      "outputs": [
        {
          "output_type": "stream",
          "name": "stdout",
          "text": [
            "Total number of tweets annonated as positive = 2572\n"
          ]
        }
      ]
    },
    {
      "cell_type": "markdown",
      "source": [
        "So, this annotation is likely to be biased since it considers only a few expressions. <br/>\n",
        "Therefore I will use **transfer learning** to annotate tweets."
      ],
      "metadata": {
        "id": "ihqZCme36bJA"
      }
    },
    {
      "cell_type": "markdown",
      "source": [
        "### Download saved model"
      ],
      "metadata": {
        "id": "pBlzavgE-O9S"
      }
    },
    {
      "cell_type": "code",
      "source": [
        "from google.colab import drive\n",
        "drive.mount('/content/drive')\n",
        "os.environ['KAGGLE_CONFIG_DIR'] = \"/content/drive/My Drive\"\n",
        "if os.path.isdir('~/.kaggle')==0:\n",
        "    os.makedirs('~/.kaggle')\n",
        "! cp /content/drive/MyDrive/kaggle.json ~/.kaggle/kaggle.json"
      ],
      "metadata": {
        "id": "UZQOMV49WXYz",
        "colab": {
          "base_uri": "https://localhost:8080/"
        },
        "outputId": "7601a974-2c3c-4137-f035-f4684e6fbbfe"
      },
      "execution_count": 7,
      "outputs": [
        {
          "output_type": "stream",
          "name": "stdout",
          "text": [
            "Mounted at /content/drive\n",
            "cp: cannot create regular file '/root/.kaggle/kaggle.json': No such file or directory\n"
          ]
        }
      ]
    },
    {
      "cell_type": "code",
      "source": [
        "# download saved model\n",
        "!kaggle kernels output paoloripamonti/twitter-sentiment-analysis"
      ],
      "metadata": {
        "colab": {
          "base_uri": "https://localhost:8080/"
        },
        "id": "FU266GqaQUNT",
        "outputId": "db69ec16-a688-431c-aa7e-1e7d389c66d1"
      },
      "execution_count": 8,
      "outputs": [
        {
          "output_type": "stream",
          "name": "stdout",
          "text": [
            "Output file downloaded to /content/encoder.pkl\n",
            "Output file downloaded to /content/model.h5\n",
            "Output file downloaded to /content/model.w2v\n",
            "Output file downloaded to /content/tokenizer.pkl\n",
            "Kernel log downloaded to /content/twitter-sentiment-analysis.log \n"
          ]
        }
      ]
    },
    {
      "cell_type": "markdown",
      "source": [
        "## Pre-Process dataset"
      ],
      "metadata": {
        "id": "0ac_09VtWDDQ"
      }
    },
    {
      "cell_type": "code",
      "source": [
        "nltk.download('stopwords')\n",
        "stop_words = stopwords.words(\"english\")\n",
        "stemmer = SnowballStemmer(\"english\")\n",
        "TEXT_CLEANING_RE = \"@\\S+|https?:\\S+|http?:\\S|[^A-Za-z0-9]+\"\n",
        "\n",
        "def preprocess(text, stem=False):\n",
        "    # Remove link,user and special characters\n",
        "    text = re.sub(TEXT_CLEANING_RE, ' ', str(text).lower()).strip()\n",
        "    tokens = []\n",
        "    for token in text.split():\n",
        "        if token not in stop_words:\n",
        "            if stem:\n",
        "                tokens.append(stemmer.stem(token))\n",
        "            else:\n",
        "                tokens.append(token)\n",
        "    return \" \".join(tokens)"
      ],
      "metadata": {
        "colab": {
          "base_uri": "https://localhost:8080/"
        },
        "id": "HfNkLnqRUnTE",
        "outputId": "c2997206-cf57-459c-ca67-648504607872"
      },
      "execution_count": 9,
      "outputs": [
        {
          "output_type": "stream",
          "name": "stdout",
          "text": [
            "[nltk_data] Downloading package stopwords to /root/nltk_data...\n",
            "[nltk_data]   Unzipping corpora/stopwords.zip.\n"
          ]
        }
      ]
    },
    {
      "cell_type": "code",
      "source": [
        "%%time\n",
        "df_doc = df.tweet.apply(lambda x: preprocess(x))"
      ],
      "metadata": {
        "colab": {
          "base_uri": "https://localhost:8080/"
        },
        "id": "62Ow1ej-WZdZ",
        "outputId": "d0fa93cd-b306-4e3c-891b-6587b9a5241f"
      },
      "execution_count": 10,
      "outputs": [
        {
          "output_type": "stream",
          "name": "stdout",
          "text": [
            "CPU times: user 1.25 s, sys: 12.8 ms, total: 1.26 s\n",
            "Wall time: 1.28 s\n"
          ]
        }
      ]
    },
    {
      "cell_type": "code",
      "source": [
        "%%time\n",
        "documents = [_text.split() for _text in df_doc] "
      ],
      "metadata": {
        "colab": {
          "base_uri": "https://localhost:8080/"
        },
        "id": "Q-wyGCZ0WZzP",
        "outputId": "3b382671-7208-4142-e250-c2dedca383e1"
      },
      "execution_count": 11,
      "outputs": [
        {
          "output_type": "stream",
          "name": "stdout",
          "text": [
            "CPU times: user 23.3 ms, sys: 12.1 ms, total: 35.4 ms\n",
            "Wall time: 35.4 ms\n"
          ]
        }
      ]
    },
    {
      "cell_type": "markdown",
      "source": [
        "### Tokenize text"
      ],
      "metadata": {
        "id": "vZFQuf7uRO-n"
      }
    },
    {
      "cell_type": "markdown",
      "source": [
        "In order to use the saved model, I have to use the same tokenizer as the model was trained on. <br/>\n",
        "The downside to this is that the model won't see new words from my dataset. However the vocabulary is large enough to yield nice results."
      ],
      "metadata": {
        "id": "Cdu2TjoqkjqG"
      }
    },
    {
      "cell_type": "code",
      "source": [
        "%%time\n",
        "with open('tokenizer.pkl', 'rb') as tk:\n",
        "    tokenizer = pickle.load(tk)\n",
        "\n",
        "vocab_size = len(tokenizer.word_index) + 1\n",
        "print(\"Total words\", vocab_size)"
      ],
      "metadata": {
        "colab": {
          "base_uri": "https://localhost:8080/"
        },
        "id": "7u2pWKhbRRmm",
        "outputId": "5405886b-51da-4bf8-a941-cbbb500eed7f"
      },
      "execution_count": 12,
      "outputs": [
        {
          "output_type": "stream",
          "name": "stdout",
          "text": [
            "Total words 290419\n",
            "CPU times: user 617 ms, sys: 87.8 ms, total: 705 ms\n",
            "Wall time: 698 ms\n"
          ]
        }
      ]
    },
    {
      "cell_type": "markdown",
      "source": [
        "## Load model and predict"
      ],
      "metadata": {
        "id": "_fQ_OxsQRAi7"
      }
    },
    {
      "cell_type": "code",
      "source": [
        "model = keras.models.load_model('model.h5')\n",
        "model.summary()"
      ],
      "metadata": {
        "colab": {
          "base_uri": "https://localhost:8080/"
        },
        "id": "g6_8Qs_idnld",
        "outputId": "cda193d7-eeb7-40dd-adb2-83728900bd4d"
      },
      "execution_count": 13,
      "outputs": [
        {
          "output_type": "stream",
          "name": "stdout",
          "text": [
            "Model: \"sequential_1\"\n",
            "_________________________________________________________________\n",
            " Layer (type)                Output Shape              Param #   \n",
            "=================================================================\n",
            " embedding_1 (Embedding)     (None, 300, 300)          87125700  \n",
            "                                                                 \n",
            " dropout_1 (Dropout)         (None, 300, 300)          0         \n",
            "                                                                 \n",
            " lstm_1 (LSTM)               (None, 100)               160400    \n",
            "                                                                 \n",
            " dense_1 (Dense)             (None, 1)                 101       \n",
            "                                                                 \n",
            "=================================================================\n",
            "Total params: 87,286,201\n",
            "Trainable params: 160,501\n",
            "Non-trainable params: 87,125,700\n",
            "_________________________________________________________________\n"
          ]
        }
      ]
    },
    {
      "cell_type": "markdown",
      "source": [
        "### Predict"
      ],
      "metadata": {
        "id": "SHJshaosSc-7"
      }
    },
    {
      "cell_type": "code",
      "source": [
        "def decode_sentiment(score, include_neutral=True):\n",
        "    if include_neutral:        \n",
        "        label = 'NEUTRAL'\n",
        "        if score <= 0.4:\n",
        "            label = 'NEGATIVE'\n",
        "        elif score >= 0.6:\n",
        "            label = 'POSITIVE'\n",
        "\n",
        "        return label\n",
        "    else:\n",
        "        return 'NEGATIVE' if score < 0.5 else 'POSITIVE'"
      ],
      "metadata": {
        "id": "nFVWjn_NSfOr"
      },
      "execution_count": 14,
      "outputs": []
    },
    {
      "cell_type": "code",
      "source": [
        "def predict(text, include_neutral=True):\n",
        "    start_at = time.time()\n",
        "    # Tokenize text\n",
        "    x_test = pad_sequences(tokenizer.texts_to_sequences([text]), maxlen=300)\n",
        "    # Predict\n",
        "    score = model.predict([x_test])[0]\n",
        "    # Decode sentiment\n",
        "    label = decode_sentiment(score, include_neutral=include_neutral)\n",
        "\n",
        "    return {\"label\": label, \"score\": float(score),\n",
        "       \"elapsed_time\": time.time()-start_at}  "
      ],
      "metadata": {
        "id": "4aFUly2hSjS7"
      },
      "execution_count": 15,
      "outputs": []
    },
    {
      "cell_type": "code",
      "source": [
        "%%time\n",
        "for i,r in df.iterrows():\n",
        "    df.at[i, 'semantic'] = predict(df.at[i, 'tweet'])['label']"
      ],
      "metadata": {
        "colab": {
          "base_uri": "https://localhost:8080/"
        },
        "id": "lE3Lhh8tUcvp",
        "outputId": "fd4fa186-bf4c-476b-9339-db7607dd08ec"
      },
      "execution_count": 16,
      "outputs": [
        {
          "output_type": "stream",
          "name": "stdout",
          "text": [
            "CPU times: user 42min 7s, sys: 35.4 s, total: 42min 42s\n",
            "Wall time: 29min 37s\n"
          ]
        }
      ]
    },
    {
      "cell_type": "code",
      "source": [
        "df.tail()"
      ],
      "metadata": {
        "colab": {
          "base_uri": "https://localhost:8080/",
          "height": 562
        },
        "id": "BtbbqiJksas3",
        "outputId": "40b74f24-8cb7-4c20-cd3d-7e8b74732664"
      },
      "execution_count": 17,
      "outputs": [
        {
          "output_type": "execute_result",
          "data": {
            "text/plain": [
              "               created_at              user_id         username  \\\n",
              "17508 2021-02-10 23:52:51  1348203628910108681         _tannie5   \n",
              "17509 2021-02-10 23:52:51            418171272       thedano9er   \n",
              "17510 2021-02-10 23:52:51  1378288666485747715  pinocchioplyric   \n",
              "17511 2021-02-10 23:52:51           2777152740      leepavelich   \n",
              "17512 2021-02-10 23:52:51   923672752086757377   writtentherapy   \n",
              "\n",
              "                                                                                                                                                                                                         tweet  \\\n",
              "17508  @dylanbehavior @chartdata @coldplay @BTS_twt Deserved!😍💜 Its such  beautiful song, not just because the music and lyrics are incredible, but the message of love across boundaries and borders is so...   \n",
              "17509                                                                                                                           @spinnershells Can’t take credit, but love this idea.  https://t.co/84j3Uu1471   \n",
              "17510                                                                                                          Now with a smile worn down by the sands of time, I'm well on pace for my wrinkle-filled finale.   \n",
              "17511                                                                                                                                                     @tszzl @gbrl_dick The 100 Trillion-Year Boomer Reich   \n",
              "17512                                                                                              waking early to watch the creation of another day - light being born  #poetry #writing #storyin12 #creation   \n",
              "\n",
              "       replies_count  retweets_count  likes_count  n_posts  avg_int  semantic  \n",
              "17508              0               0            5      4.0        1  POSITIVE  \n",
              "17509              2               1           36      1.0       39  POSITIVE  \n",
              "17510              0               3            2      1.0        5  POSITIVE  \n",
              "17511              1               1            9      1.0       11   NEUTRAL  \n",
              "17512              0               2            8      2.0        5  POSITIVE  "
            ],
            "text/html": [
              "\n",
              "  <div id=\"df-07470ceb-cd6b-44f9-b46e-1e72cc4e97a5\">\n",
              "    <div class=\"colab-df-container\">\n",
              "      <div>\n",
              "<style scoped>\n",
              "    .dataframe tbody tr th:only-of-type {\n",
              "        vertical-align: middle;\n",
              "    }\n",
              "\n",
              "    .dataframe tbody tr th {\n",
              "        vertical-align: top;\n",
              "    }\n",
              "\n",
              "    .dataframe thead th {\n",
              "        text-align: right;\n",
              "    }\n",
              "</style>\n",
              "<table border=\"1\" class=\"dataframe\">\n",
              "  <thead>\n",
              "    <tr style=\"text-align: right;\">\n",
              "      <th></th>\n",
              "      <th>created_at</th>\n",
              "      <th>user_id</th>\n",
              "      <th>username</th>\n",
              "      <th>tweet</th>\n",
              "      <th>replies_count</th>\n",
              "      <th>retweets_count</th>\n",
              "      <th>likes_count</th>\n",
              "      <th>n_posts</th>\n",
              "      <th>avg_int</th>\n",
              "      <th>semantic</th>\n",
              "    </tr>\n",
              "  </thead>\n",
              "  <tbody>\n",
              "    <tr>\n",
              "      <th>17508</th>\n",
              "      <td>2021-02-10 23:52:51</td>\n",
              "      <td>1348203628910108681</td>\n",
              "      <td>_tannie5</td>\n",
              "      <td>@dylanbehavior @chartdata @coldplay @BTS_twt Deserved!😍💜 Its such  beautiful song, not just because the music and lyrics are incredible, but the message of love across boundaries and borders is so...</td>\n",
              "      <td>0</td>\n",
              "      <td>0</td>\n",
              "      <td>5</td>\n",
              "      <td>4.0</td>\n",
              "      <td>1</td>\n",
              "      <td>POSITIVE</td>\n",
              "    </tr>\n",
              "    <tr>\n",
              "      <th>17509</th>\n",
              "      <td>2021-02-10 23:52:51</td>\n",
              "      <td>418171272</td>\n",
              "      <td>thedano9er</td>\n",
              "      <td>@spinnershells Can’t take credit, but love this idea.  https://t.co/84j3Uu1471</td>\n",
              "      <td>2</td>\n",
              "      <td>1</td>\n",
              "      <td>36</td>\n",
              "      <td>1.0</td>\n",
              "      <td>39</td>\n",
              "      <td>POSITIVE</td>\n",
              "    </tr>\n",
              "    <tr>\n",
              "      <th>17510</th>\n",
              "      <td>2021-02-10 23:52:51</td>\n",
              "      <td>1378288666485747715</td>\n",
              "      <td>pinocchioplyric</td>\n",
              "      <td>Now with a smile worn down by the sands of time, I'm well on pace for my wrinkle-filled finale.</td>\n",
              "      <td>0</td>\n",
              "      <td>3</td>\n",
              "      <td>2</td>\n",
              "      <td>1.0</td>\n",
              "      <td>5</td>\n",
              "      <td>POSITIVE</td>\n",
              "    </tr>\n",
              "    <tr>\n",
              "      <th>17511</th>\n",
              "      <td>2021-02-10 23:52:51</td>\n",
              "      <td>2777152740</td>\n",
              "      <td>leepavelich</td>\n",
              "      <td>@tszzl @gbrl_dick The 100 Trillion-Year Boomer Reich</td>\n",
              "      <td>1</td>\n",
              "      <td>1</td>\n",
              "      <td>9</td>\n",
              "      <td>1.0</td>\n",
              "      <td>11</td>\n",
              "      <td>NEUTRAL</td>\n",
              "    </tr>\n",
              "    <tr>\n",
              "      <th>17512</th>\n",
              "      <td>2021-02-10 23:52:51</td>\n",
              "      <td>923672752086757377</td>\n",
              "      <td>writtentherapy</td>\n",
              "      <td>waking early to watch the creation of another day - light being born  #poetry #writing #storyin12 #creation</td>\n",
              "      <td>0</td>\n",
              "      <td>2</td>\n",
              "      <td>8</td>\n",
              "      <td>2.0</td>\n",
              "      <td>5</td>\n",
              "      <td>POSITIVE</td>\n",
              "    </tr>\n",
              "  </tbody>\n",
              "</table>\n",
              "</div>\n",
              "      <button class=\"colab-df-convert\" onclick=\"convertToInteractive('df-07470ceb-cd6b-44f9-b46e-1e72cc4e97a5')\"\n",
              "              title=\"Convert this dataframe to an interactive table.\"\n",
              "              style=\"display:none;\">\n",
              "        \n",
              "  <svg xmlns=\"http://www.w3.org/2000/svg\" height=\"24px\"viewBox=\"0 0 24 24\"\n",
              "       width=\"24px\">\n",
              "    <path d=\"M0 0h24v24H0V0z\" fill=\"none\"/>\n",
              "    <path d=\"M18.56 5.44l.94 2.06.94-2.06 2.06-.94-2.06-.94-.94-2.06-.94 2.06-2.06.94zm-11 1L8.5 8.5l.94-2.06 2.06-.94-2.06-.94L8.5 2.5l-.94 2.06-2.06.94zm10 10l.94 2.06.94-2.06 2.06-.94-2.06-.94-.94-2.06-.94 2.06-2.06.94z\"/><path d=\"M17.41 7.96l-1.37-1.37c-.4-.4-.92-.59-1.43-.59-.52 0-1.04.2-1.43.59L10.3 9.45l-7.72 7.72c-.78.78-.78 2.05 0 2.83L4 21.41c.39.39.9.59 1.41.59.51 0 1.02-.2 1.41-.59l7.78-7.78 2.81-2.81c.8-.78.8-2.07 0-2.86zM5.41 20L4 18.59l7.72-7.72 1.47 1.35L5.41 20z\"/>\n",
              "  </svg>\n",
              "      </button>\n",
              "      \n",
              "  <style>\n",
              "    .colab-df-container {\n",
              "      display:flex;\n",
              "      flex-wrap:wrap;\n",
              "      gap: 12px;\n",
              "    }\n",
              "\n",
              "    .colab-df-convert {\n",
              "      background-color: #E8F0FE;\n",
              "      border: none;\n",
              "      border-radius: 50%;\n",
              "      cursor: pointer;\n",
              "      display: none;\n",
              "      fill: #1967D2;\n",
              "      height: 32px;\n",
              "      padding: 0 0 0 0;\n",
              "      width: 32px;\n",
              "    }\n",
              "\n",
              "    .colab-df-convert:hover {\n",
              "      background-color: #E2EBFA;\n",
              "      box-shadow: 0px 1px 2px rgba(60, 64, 67, 0.3), 0px 1px 3px 1px rgba(60, 64, 67, 0.15);\n",
              "      fill: #174EA6;\n",
              "    }\n",
              "\n",
              "    [theme=dark] .colab-df-convert {\n",
              "      background-color: #3B4455;\n",
              "      fill: #D2E3FC;\n",
              "    }\n",
              "\n",
              "    [theme=dark] .colab-df-convert:hover {\n",
              "      background-color: #434B5C;\n",
              "      box-shadow: 0px 1px 3px 1px rgba(0, 0, 0, 0.15);\n",
              "      filter: drop-shadow(0px 1px 2px rgba(0, 0, 0, 0.3));\n",
              "      fill: #FFFFFF;\n",
              "    }\n",
              "  </style>\n",
              "\n",
              "      <script>\n",
              "        const buttonEl =\n",
              "          document.querySelector('#df-07470ceb-cd6b-44f9-b46e-1e72cc4e97a5 button.colab-df-convert');\n",
              "        buttonEl.style.display =\n",
              "          google.colab.kernel.accessAllowed ? 'block' : 'none';\n",
              "\n",
              "        async function convertToInteractive(key) {\n",
              "          const element = document.querySelector('#df-07470ceb-cd6b-44f9-b46e-1e72cc4e97a5');\n",
              "          const dataTable =\n",
              "            await google.colab.kernel.invokeFunction('convertToInteractive',\n",
              "                                                     [key], {});\n",
              "          if (!dataTable) return;\n",
              "\n",
              "          const docLinkHtml = 'Like what you see? Visit the ' +\n",
              "            '<a target=\"_blank\" href=https://colab.research.google.com/notebooks/data_table.ipynb>data table notebook</a>'\n",
              "            + ' to learn more about interactive tables.';\n",
              "          element.innerHTML = '';\n",
              "          dataTable['output_type'] = 'display_data';\n",
              "          await google.colab.output.renderOutput(dataTable, element);\n",
              "          const docLink = document.createElement('div');\n",
              "          docLink.innerHTML = docLinkHtml;\n",
              "          element.appendChild(docLink);\n",
              "        }\n",
              "      </script>\n",
              "    </div>\n",
              "  </div>\n",
              "  "
            ]
          },
          "metadata": {},
          "execution_count": 17
        }
      ]
    },
    {
      "cell_type": "code",
      "source": [
        "df.to_csv('semantic_analysed_tweets.csv')"
      ],
      "metadata": {
        "id": "YUQtnGu8HavN"
      },
      "execution_count": 18,
      "outputs": []
    },
    {
      "cell_type": "code",
      "source": [
        "# no. of positive posts of each user\n",
        "df_user = pd.DataFrame(users, columns=['id'])\n",
        "for u in users:\n",
        "    df_user.loc[df_user['id']== u,'n_posts'] = len(df[df['user_id']== u])\n",
        "df_user['n_positives'] = [len(df.loc[(df['user_id']== i) & (df['semantic'] == 'POSITIVE')]) for i in users]"
      ],
      "metadata": {
        "id": "S16JRdV1ugVb"
      },
      "execution_count": null,
      "outputs": []
    },
    {
      "cell_type": "code",
      "source": [
        "df_user.hist(['n_positives'],log=True)"
      ],
      "metadata": {
        "colab": {
          "base_uri": "https://localhost:8080/",
          "height": 316
        },
        "id": "ybcu0M2sU6qn",
        "outputId": "a78aec4f-41c4-4d95-f07b-de12aac4edaa"
      },
      "execution_count": 62,
      "outputs": [
        {
          "output_type": "execute_result",
          "data": {
            "text/plain": [
              "array([[<matplotlib.axes._subplots.AxesSubplot object at 0x7fc4dd79c310>]],\n",
              "      dtype=object)"
            ]
          },
          "metadata": {},
          "execution_count": 62
        },
        {
          "output_type": "display_data",
          "data": {
            "text/plain": [
              "<Figure size 432x288 with 1 Axes>"
            ],
            "image/png": "[encoded data removed]"
          },
          "metadata": {
            "needs_background": "light"
          }
        }
      ]
    },
    {
      "cell_type": "code",
      "source": [
        "# ranking of users\n",
        "def rank_user(n_plus, n_post):\n",
        "    z = 1.96\n",
        "    r = n_plus/n_post\n",
        "    return  float(( r + z**2/(2*n_post) ) / (1 + z**2/n_post) - z/ (1+ z**2/n_post)*np.sqrt(r*(1-r)/n_post + z**2/(4*n_post**2)) )\n",
        "\n",
        "# passion point of users\n",
        "def ppoint(n_plus, rank, n_post):\n",
        "    return round(float( n_plus * (rank + np.log(n_post)) ),3)"
      ],
      "metadata": {
        "id": "yws5XL-SSpyC"
      },
      "execution_count": 88,
      "outputs": []
    },
    {
      "cell_type": "code",
      "source": [
        "n_positive = df_user['n_positives'].values\n",
        "n_post = df_user['n_posts'].values\n",
        "df_user['rank'] = [rank_user( n_positive[u] , n_post[u] ) for u in range(len(users))]\n",
        "\n",
        "n_day = [abs(df.loc[df['user_id'] == u, 'created_at'].diff()).sum().days for u in users]\n",
        "print(f'since all time daltas are equal to {np.sum(n_day)} days, I will put n_day = 1 for all datapoints.')\n",
        "\n",
        "rank = df_user['rank'].values\n",
        "df_user['ppoint'] = [ppoint(n_positive[u], rank[u], n_post[u]) for u in range(len(users))]"
      ],
      "metadata": {
        "colab": {
          "base_uri": "https://localhost:8080/"
        },
        "id": "ua3xBGaKWgmO",
        "outputId": "93141ba8-5de7-4da6-f8d6-08f0916f3727"
      },
      "execution_count": 89,
      "outputs": [
        {
          "output_type": "stream",
          "name": "stdout",
          "text": [
            "since all time daltas are equal to 0 days, I will put n_day = 1 for all datapoints.\n"
          ]
        }
      ]
    },
    {
      "cell_type": "code",
      "source": [
        "df_user.sort_values('ppoint', axis=0, ascending=False)"
      ],
      "metadata": {
        "colab": {
          "base_uri": "https://localhost:8080/",
          "height": 423
        },
        "id": "tTXKTwc2Xte7",
        "outputId": "d7169143-bf4f-4139-fa05-757032002f0a"
      },
      "execution_count": 91,
      "outputs": [
        {
          "output_type": "execute_result",
          "data": {
            "text/plain": [
              "                        id  n_posts  n_positives          rank   ppoint\n",
              "106    1344497314052890625     39.0           33  7.027023e-01  144.087\n",
              "815     986480658888511488     15.0           15  7.961107e-01   52.562\n",
              "6191   1142549820797849601     12.0           12  7.574992e-01   38.909\n",
              "6890              32779145     11.0           11  7.411600e-01   34.530\n",
              "148                1917731     16.0            9  3.317820e-01   27.939\n",
              "...                    ...      ...          ...           ...      ...\n",
              "7645            3148707080      1.0            0 -5.551115e-17   -0.000\n",
              "7646   1195552169946238978      1.0            0 -5.551115e-17   -0.000\n",
              "7647   1017553698359271424      1.0            0 -5.551115e-17   -0.000\n",
              "7648              44239034      1.0            0 -5.551115e-17   -0.000\n",
              "15583           2777152740      1.0            0 -5.551115e-17   -0.000\n",
              "\n",
              "[15584 rows x 5 columns]"
            ],
            "text/html": [
              "\n",
              "  <div id=\"df-20a4b828-7c32-46dc-aa66-6d6c4c305274\">\n",
              "    <div class=\"colab-df-container\">\n",
              "      <div>\n",
              "<style scoped>\n",
              "    .dataframe tbody tr th:only-of-type {\n",
              "        vertical-align: middle;\n",
              "    }\n",
              "\n",
              "    .dataframe tbody tr th {\n",
              "        vertical-align: top;\n",
              "    }\n",
              "\n",
              "    .dataframe thead th {\n",
              "        text-align: right;\n",
              "    }\n",
              "</style>\n",
              "<table border=\"1\" class=\"dataframe\">\n",
              "  <thead>\n",
              "    <tr style=\"text-align: right;\">\n",
              "      <th></th>\n",
              "      <th>id</th>\n",
              "      <th>n_posts</th>\n",
              "      <th>n_positives</th>\n",
              "      <th>rank</th>\n",
              "      <th>ppoint</th>\n",
              "    </tr>\n",
              "  </thead>\n",
              "  <tbody>\n",
              "    <tr>\n",
              "      <th>106</th>\n",
              "      <td>1344497314052890625</td>\n",
              "      <td>39.0</td>\n",
              "      <td>33</td>\n",
              "      <td>7.027023e-01</td>\n",
              "      <td>144.087</td>\n",
              "    </tr>\n",
              "    <tr>\n",
              "      <th>815</th>\n",
              "      <td>986480658888511488</td>\n",
              "      <td>15.0</td>\n",
              "      <td>15</td>\n",
              "      <td>7.961107e-01</td>\n",
              "      <td>52.562</td>\n",
              "    </tr>\n",
              "    <tr>\n",
              "      <th>6191</th>\n",
              "      <td>1142549820797849601</td>\n",
              "      <td>12.0</td>\n",
              "      <td>12</td>\n",
              "      <td>7.574992e-01</td>\n",
              "      <td>38.909</td>\n",
              "    </tr>\n",
              "    <tr>\n",
              "      <th>6890</th>\n",
              "      <td>32779145</td>\n",
              "      <td>11.0</td>\n",
              "      <td>11</td>\n",
              "      <td>7.411600e-01</td>\n",
              "      <td>34.530</td>\n",
              "    </tr>\n",
              "    <tr>\n",
              "      <th>148</th>\n",
              "      <td>1917731</td>\n",
              "      <td>16.0</td>\n",
              "      <td>9</td>\n",
              "      <td>3.317820e-01</td>\n",
              "      <td>27.939</td>\n",
              "    </tr>\n",
              "    <tr>\n",
              "      <th>...</th>\n",
              "      <td>...</td>\n",
              "      <td>...</td>\n",
              "      <td>...</td>\n",
              "      <td>...</td>\n",
              "      <td>...</td>\n",
              "    </tr>\n",
              "    <tr>\n",
              "      <th>7645</th>\n",
              "      <td>3148707080</td>\n",
              "      <td>1.0</td>\n",
              "      <td>0</td>\n",
              "      <td>-5.551115e-17</td>\n",
              "      <td>-0.000</td>\n",
              "    </tr>\n",
              "    <tr>\n",
              "      <th>7646</th>\n",
              "      <td>1195552169946238978</td>\n",
              "      <td>1.0</td>\n",
              "      <td>0</td>\n",
              "      <td>-5.551115e-17</td>\n",
              "      <td>-0.000</td>\n",
              "    </tr>\n",
              "    <tr>\n",
              "      <th>7647</th>\n",
              "      <td>1017553698359271424</td>\n",
              "      <td>1.0</td>\n",
              "      <td>0</td>\n",
              "      <td>-5.551115e-17</td>\n",
              "      <td>-0.000</td>\n",
              "    </tr>\n",
              "    <tr>\n",
              "      <th>7648</th>\n",
              "      <td>44239034</td>\n",
              "      <td>1.0</td>\n",
              "      <td>0</td>\n",
              "      <td>-5.551115e-17</td>\n",
              "      <td>-0.000</td>\n",
              "    </tr>\n",
              "    <tr>\n",
              "      <th>15583</th>\n",
              "      <td>2777152740</td>\n",
              "      <td>1.0</td>\n",
              "      <td>0</td>\n",
              "      <td>-5.551115e-17</td>\n",
              "      <td>-0.000</td>\n",
              "    </tr>\n",
              "  </tbody>\n",
              "</table>\n",
              "<p>15584 rows × 5 columns</p>\n",
              "</div>\n",
              "      <button class=\"colab-df-convert\" onclick=\"convertToInteractive('df-20a4b828-7c32-46dc-aa66-6d6c4c305274')\"\n",
              "              title=\"Convert this dataframe to an interactive table.\"\n",
              "              style=\"display:none;\">\n",
              "        \n",
              "  <svg xmlns=\"http://www.w3.org/2000/svg\" height=\"24px\"viewBox=\"0 0 24 24\"\n",
              "       width=\"24px\">\n",
              "    <path d=\"M0 0h24v24H0V0z\" fill=\"none\"/>\n",
              "    <path d=\"M18.56 5.44l.94 2.06.94-2.06 2.06-.94-2.06-.94-.94-2.06-.94 2.06-2.06.94zm-11 1L8.5 8.5l.94-2.06 2.06-.94-2.06-.94L8.5 2.5l-.94 2.06-2.06.94zm10 10l.94 2.06.94-2.06 2.06-.94-2.06-.94-.94-2.06-.94 2.06-2.06.94z\"/><path d=\"M17.41 7.96l-1.37-1.37c-.4-.4-.92-.59-1.43-.59-.52 0-1.04.2-1.43.59L10.3 9.45l-7.72 7.72c-.78.78-.78 2.05 0 2.83L4 21.41c.39.39.9.59 1.41.59.51 0 1.02-.2 1.41-.59l7.78-7.78 2.81-2.81c.8-.78.8-2.07 0-2.86zM5.41 20L4 18.59l7.72-7.72 1.47 1.35L5.41 20z\"/>\n",
              "  </svg>\n",
              "      </button>\n",
              "      \n",
              "  <style>\n",
              "    .colab-df-container {\n",
              "      display:flex;\n",
              "      flex-wrap:wrap;\n",
              "      gap: 12px;\n",
              "    }\n",
              "\n",
              "    .colab-df-convert {\n",
              "      background-color: #E8F0FE;\n",
              "      border: none;\n",
              "      border-radius: 50%;\n",
              "      cursor: pointer;\n",
              "      display: none;\n",
              "      fill: #1967D2;\n",
              "      height: 32px;\n",
              "      padding: 0 0 0 0;\n",
              "      width: 32px;\n",
              "    }\n",
              "\n",
              "    .colab-df-convert:hover {\n",
              "      background-color: #E2EBFA;\n",
              "      box-shadow: 0px 1px 2px rgba(60, 64, 67, 0.3), 0px 1px 3px 1px rgba(60, 64, 67, 0.15);\n",
              "      fill: #174EA6;\n",
              "    }\n",
              "\n",
              "    [theme=dark] .colab-df-convert {\n",
              "      background-color: #3B4455;\n",
              "      fill: #D2E3FC;\n",
              "    }\n",
              "\n",
              "    [theme=dark] .colab-df-convert:hover {\n",
              "      background-color: #434B5C;\n",
              "      box-shadow: 0px 1px 3px 1px rgba(0, 0, 0, 0.15);\n",
              "      filter: drop-shadow(0px 1px 2px rgba(0, 0, 0, 0.3));\n",
              "      fill: #FFFFFF;\n",
              "    }\n",
              "  </style>\n",
              "\n",
              "      <script>\n",
              "        const buttonEl =\n",
              "          document.querySelector('#df-20a4b828-7c32-46dc-aa66-6d6c4c305274 button.colab-df-convert');\n",
              "        buttonEl.style.display =\n",
              "          google.colab.kernel.accessAllowed ? 'block' : 'none';\n",
              "\n",
              "        async function convertToInteractive(key) {\n",
              "          const element = document.querySelector('#df-20a4b828-7c32-46dc-aa66-6d6c4c305274');\n",
              "          const dataTable =\n",
              "            await google.colab.kernel.invokeFunction('convertToInteractive',\n",
              "                                                     [key], {});\n",
              "          if (!dataTable) return;\n",
              "\n",
              "          const docLinkHtml = 'Like what you see? Visit the ' +\n",
              "            '<a target=\"_blank\" href=https://colab.research.google.com/notebooks/data_table.ipynb>data table notebook</a>'\n",
              "            + ' to learn more about interactive tables.';\n",
              "          element.innerHTML = '';\n",
              "          dataTable['output_type'] = 'display_data';\n",
              "          await google.colab.output.renderOutput(dataTable, element);\n",
              "          const docLink = document.createElement('div');\n",
              "          docLink.innerHTML = docLinkHtml;\n",
              "          element.appendChild(docLink);\n",
              "        }\n",
              "      </script>\n",
              "    </div>\n",
              "  </div>\n",
              "  "
            ]
          },
          "metadata": {},
          "execution_count": 91
        }
      ]
    },
    {
      "cell_type": "markdown",
      "source": [
        "# Third Metric | Content Creation"
      ],
      "metadata": {
        "id": "xpma1HILYJh9"
      }
    },
    {
      "cell_type": "markdown",
      "source": [
        "## Word2Vec"
      ],
      "metadata": {
        "id": "RRjTOhgJXf_Z"
      }
    },
    {
      "cell_type": "code",
      "source": [
        "#load the model\n",
        "w2v_model = gensim.models.word2vec.Word2Vec.load(\"model.w2v\")"
      ],
      "metadata": {
        "id": "eLBFLxs-8kUA"
      },
      "execution_count": 113,
      "outputs": []
    },
    {
      "cell_type": "code",
      "source": [
        "w2v_model.build_vocab(documents, update=True)"
      ],
      "metadata": {
        "id": "23FFNTigFbdB"
      },
      "execution_count": 114,
      "outputs": []
    },
    {
      "cell_type": "code",
      "source": [
        "words = w2v_model.wv.vocab.keys()\n",
        "vocab_size = len(words)\n",
        "print(\"Vocab size =\", vocab_size)"
      ],
      "metadata": {
        "colab": {
          "base_uri": "https://localhost:8080/"
        },
        "id": "Lv28056D-GBx",
        "outputId": "a90c3045-11bd-4005-bdac-afd266fc122e"
      },
      "execution_count": 124,
      "outputs": [
        {
          "output_type": "stream",
          "name": "stdout",
          "text": [
            "Vocab size = 30577\n"
          ]
        }
      ]
    },
    {
      "cell_type": "code",
      "source": [
        "%%time\n",
        "w2v_model.train(documents, total_examples=len(documents), epochs=32)"
      ],
      "metadata": {
        "colab": {
          "base_uri": "https://localhost:8080/"
        },
        "id": "oRF3SiY9FjuJ",
        "outputId": "726854b9-2144-4619-ae66-8c4919b8bee2"
      },
      "execution_count": 117,
      "outputs": [
        {
          "output_type": "stream",
          "name": "stdout",
          "text": [
            "CPU times: user 34.8 s, sys: 235 ms, total: 35 s\n",
            "Wall time: 18.8 s\n"
          ]
        },
        {
          "output_type": "execute_result",
          "data": {
            "text/plain": [
              "(6141493, 7290752)"
            ]
          },
          "metadata": {},
          "execution_count": 117
        }
      ]
    },
    {
      "cell_type": "code",
      "source": [
        "w2v_model.wv.most_similar(\"happy\", topn=5)"
      ],
      "metadata": {
        "colab": {
          "base_uri": "https://localhost:8080/"
        },
        "id": "FjjrGhKl-Pj4",
        "outputId": "64c1a51c-d314-428b-cc5e-fa70bfe96ab2"
      },
      "execution_count": 223,
      "outputs": [
        {
          "output_type": "execute_result",
          "data": {
            "text/plain": [
              "[('happiest', 0.4015212953090668),\n",
              " ('celebrations', 0.3845559060573578),\n",
              " ('celebrating', 0.38072237372398376),\n",
              " ('blessed', 0.37290698289871216),\n",
              " ('celebrated', 0.3692379593849182)]"
            ]
          },
          "metadata": {},
          "execution_count": 223
        }
      ]
    },
    {
      "cell_type": "markdown",
      "source": [
        "In order to find the number of positine words in tweets, it's helpful to find the word similarities to positive words in tweets."
      ],
      "metadata": {
        "id": "LXOmN-66YRCT"
      }
    },
    {
      "cell_type": "code",
      "source": [
        ""
      ],
      "metadata": {
        "id": "lsbOr0CfUcjp"
      },
      "execution_count": null,
      "outputs": []
    }
  ]
}