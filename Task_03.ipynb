{
  "nbformat": 4,
  "nbformat_minor": 0,
  "metadata": {
    "colab": {
      "name": "Task_03.ipynb",
      "provenance": [],
      "collapsed_sections": [
        "0oi3v3cD5yrf",
        "EX99XMSz6NBj",
        "0-Zuenq3Mx5t"
      ],
      "authorship_tag": "ABX9TyOQyiehBRhvfv59+5mpiM5B",
      "include_colab_link": true
    },
    "kernelspec": {
      "name": "python3",
      "display_name": "Python 3"
    },
    "language_info": {
      "name": "python"
    }
  },
  "cells": [
    {
      "cell_type": "markdown",
      "metadata": {
        "id": "view-in-github",
        "colab_type": "text"
      },
      "source": [
        "<a href=\"https://colab.research.google.com/github/FatemeFarhang/data-science/blob/main/Task_03.ipynb\" target=\"_parent\"><img src=\"https://colab.research.google.com/assets/colab-badge.svg\" alt=\"Open In Colab\"/></a>"
      ]
    },
    {
      "cell_type": "markdown",
      "source": [
        "For more convenience, I switched my data to random tweets to include reply and like counts as well as retweet counts."
      ],
      "metadata": {
        "id": "kGfoRO4NLmoW"
      }
    },
    {
      "cell_type": "markdown",
      "source": [
        "## Import data and inquiries"
      ],
      "metadata": {
        "id": "UjPA0y3rJ7GP"
      }
    },
    {
      "cell_type": "markdown",
      "source": [
        "### Libraries"
      ],
      "metadata": {
        "id": "0oi3v3cD5yrf"
      }
    },
    {
      "cell_type": "code",
      "source": [
        "# DataFrame\n",
        "import pandas as pd\n",
        "pd.set_option(\"max_colwidth\", 200)\n",
        "\n",
        "# Matplot\n",
        "import matplotlib.pyplot as plt\n",
        "%matplotlib inline\n",
        "\n",
        "# # Scikit-learn\n",
        "# from sklearn.model_selection import train_test_split\n",
        "# from sklearn.preprocessing import LabelEncoder\n",
        "# from sklearn.metrics import confusion_matrix, classification_report, accuracy_score\n",
        "# from sklearn.manifold import TSNE\n",
        "# from sklearn.feature_extraction.text import TfidfVectorizer\n",
        "\n",
        "# nltk\n",
        "import nltk\n",
        "from nltk.corpus import stopwords\n",
        "from  nltk.stem import SnowballStemmer\n",
        "\n",
        "# Word2vec\n",
        "import gensim\n",
        "\n",
        "# Utility\n",
        "import re\n",
        "import numpy as np\n",
        "import os\n",
        "from collections import Counter\n",
        "import time\n",
        "import pickle\n",
        "import itertools\n",
        "from datetime import datetime, timedelta\n"
      ],
      "metadata": {
        "id": "gN2C_M_bSLgx"
      },
      "execution_count": 1,
      "outputs": []
    },
    {
      "cell_type": "markdown",
      "source": [
        "### Import Data"
      ],
      "metadata": {
        "id": "0-Zuenq3Mx5t"
      }
    },
    {
      "cell_type": "code",
      "source": [
        "url = \"https://github.com/sraeisi/MachineLearning_Physics/blob/master/Data/random_tweets.csv?raw=true\"\n",
        "df = pd.read_csv(url,\n",
        "                 usecols = [2,6,7,10,11,15,16,17]\n",
        "                 )\n",
        "df = df[df['language']=='en'].drop(['language'], axis=1)\n",
        "df.drop_duplicates(ignore_index=True, inplace=True)\n",
        "# df = df.sample(random_state=0, frac= .5, ignore_index = True)\n",
        "\n",
        "print(f'There are a total number of {len(df)} tweets in this dataset.')\n",
        "df.head()\n"
      ],
      "metadata": {
        "colab": {
          "base_uri": "https://localhost:8080/",
          "height": 739
        },
        "id": "50avRpNTFJV4",
        "outputId": "58f3e9c3-0f40-4e2f-af5f-c05a4512dd03"
      },
      "execution_count": 34,
      "outputs": [
        {
          "output_type": "stream",
          "name": "stdout",
          "text": [
            "There are a total number of 17513 tweets in this dataset.\n"
          ]
        },
        {
          "output_type": "execute_result",
          "data": {
            "text/plain": [
              "                created_at              user_id  username  \\\n",
              "0  2021-10-02 23:59:59 UTC  1127431975520882688   maudi63   \n",
              "1  2021-10-02 23:59:58 UTC            793331593   tee_asz   \n",
              "2  2021-10-02 23:59:58 UTC            386317180  swtlovex   \n",
              "3  2021-10-02 23:59:56 UTC  1264612627516293121  kiergzn_   \n",
              "4  2021-10-02 23:59:56 UTC            265209421   mewiyev   \n",
              "\n",
              "                                                                                                                                                                                                     tweet  \\\n",
              "0  @Timodc I just looked up where he grew up. Lowell, Massachusetts. I live near there now. My 3 kids all got their degrees the same place as him, UMass Lowell. There were lots of ‘tough towns’ in MA...   \n",
              "1                                                                               Good morning to the ICAC commissioners in NSW who were doing the job they were tasked to do and enforcing the rule of law.   \n",
              "2                                          U see some of us that can’t dance just like Whitemoney? U have no idea how we dance beautifully in our heads.   The only problem is the execution in real steps   \n",
              "3                                                                                                         Thank you for all the killings and making the country more divided EVER in history. #SalamatPRRD   \n",
              "4                                                                                                                                  the bookworm swordsman #Xingqiu #GenshinImapct  https://t.co/OpVuz7rAG6   \n",
              "\n",
              "   replies_count  retweets_count  likes_count  \n",
              "0             28              13          214  \n",
              "1              7             107          584  \n",
              "2              8              10           41  \n",
              "3              5              17          125  \n",
              "4              1             101          534  "
            ],
            "text/html": [
              "\n",
              "  <div id=\"df-208fa8db-862f-4f6f-8c95-33045157b5f0\">\n",
              "    <div class=\"colab-df-container\">\n",
              "      <div>\n",
              "<style scoped>\n",
              "    .dataframe tbody tr th:only-of-type {\n",
              "        vertical-align: middle;\n",
              "    }\n",
              "\n",
              "    .dataframe tbody tr th {\n",
              "        vertical-align: top;\n",
              "    }\n",
              "\n",
              "    .dataframe thead th {\n",
              "        text-align: right;\n",
              "    }\n",
              "</style>\n",
              "<table border=\"1\" class=\"dataframe\">\n",
              "  <thead>\n",
              "    <tr style=\"text-align: right;\">\n",
              "      <th></th>\n",
              "      <th>created_at</th>\n",
              "      <th>user_id</th>\n",
              "      <th>username</th>\n",
              "      <th>tweet</th>\n",
              "      <th>replies_count</th>\n",
              "      <th>retweets_count</th>\n",
              "      <th>likes_count</th>\n",
              "    </tr>\n",
              "  </thead>\n",
              "  <tbody>\n",
              "    <tr>\n",
              "      <th>0</th>\n",
              "      <td>2021-10-02 23:59:59 UTC</td>\n",
              "      <td>1127431975520882688</td>\n",
              "      <td>maudi63</td>\n",
              "      <td>@Timodc I just looked up where he grew up. Lowell, Massachusetts. I live near there now. My 3 kids all got their degrees the same place as him, UMass Lowell. There were lots of ‘tough towns’ in MA...</td>\n",
              "      <td>28</td>\n",
              "      <td>13</td>\n",
              "      <td>214</td>\n",
              "    </tr>\n",
              "    <tr>\n",
              "      <th>1</th>\n",
              "      <td>2021-10-02 23:59:58 UTC</td>\n",
              "      <td>793331593</td>\n",
              "      <td>tee_asz</td>\n",
              "      <td>Good morning to the ICAC commissioners in NSW who were doing the job they were tasked to do and enforcing the rule of law.</td>\n",
              "      <td>7</td>\n",
              "      <td>107</td>\n",
              "      <td>584</td>\n",
              "    </tr>\n",
              "    <tr>\n",
              "      <th>2</th>\n",
              "      <td>2021-10-02 23:59:58 UTC</td>\n",
              "      <td>386317180</td>\n",
              "      <td>swtlovex</td>\n",
              "      <td>U see some of us that can’t dance just like Whitemoney? U have no idea how we dance beautifully in our heads.   The only problem is the execution in real steps</td>\n",
              "      <td>8</td>\n",
              "      <td>10</td>\n",
              "      <td>41</td>\n",
              "    </tr>\n",
              "    <tr>\n",
              "      <th>3</th>\n",
              "      <td>2021-10-02 23:59:56 UTC</td>\n",
              "      <td>1264612627516293121</td>\n",
              "      <td>kiergzn_</td>\n",
              "      <td>Thank you for all the killings and making the country more divided EVER in history. #SalamatPRRD</td>\n",
              "      <td>5</td>\n",
              "      <td>17</td>\n",
              "      <td>125</td>\n",
              "    </tr>\n",
              "    <tr>\n",
              "      <th>4</th>\n",
              "      <td>2021-10-02 23:59:56 UTC</td>\n",
              "      <td>265209421</td>\n",
              "      <td>mewiyev</td>\n",
              "      <td>the bookworm swordsman #Xingqiu #GenshinImapct  https://t.co/OpVuz7rAG6</td>\n",
              "      <td>1</td>\n",
              "      <td>101</td>\n",
              "      <td>534</td>\n",
              "    </tr>\n",
              "  </tbody>\n",
              "</table>\n",
              "</div>\n",
              "      <button class=\"colab-df-convert\" onclick=\"convertToInteractive('df-208fa8db-862f-4f6f-8c95-33045157b5f0')\"\n",
              "              title=\"Convert this dataframe to an interactive table.\"\n",
              "              style=\"display:none;\">\n",
              "        \n",
              "  <svg xmlns=\"http://www.w3.org/2000/svg\" height=\"24px\"viewBox=\"0 0 24 24\"\n",
              "       width=\"24px\">\n",
              "    <path d=\"M0 0h24v24H0V0z\" fill=\"none\"/>\n",
              "    <path d=\"M18.56 5.44l.94 2.06.94-2.06 2.06-.94-2.06-.94-.94-2.06-.94 2.06-2.06.94zm-11 1L8.5 8.5l.94-2.06 2.06-.94-2.06-.94L8.5 2.5l-.94 2.06-2.06.94zm10 10l.94 2.06.94-2.06 2.06-.94-2.06-.94-.94-2.06-.94 2.06-2.06.94z\"/><path d=\"M17.41 7.96l-1.37-1.37c-.4-.4-.92-.59-1.43-.59-.52 0-1.04.2-1.43.59L10.3 9.45l-7.72 7.72c-.78.78-.78 2.05 0 2.83L4 21.41c.39.39.9.59 1.41.59.51 0 1.02-.2 1.41-.59l7.78-7.78 2.81-2.81c.8-.78.8-2.07 0-2.86zM5.41 20L4 18.59l7.72-7.72 1.47 1.35L5.41 20z\"/>\n",
              "  </svg>\n",
              "      </button>\n",
              "      \n",
              "  <style>\n",
              "    .colab-df-container {\n",
              "      display:flex;\n",
              "      flex-wrap:wrap;\n",
              "      gap: 12px;\n",
              "    }\n",
              "\n",
              "    .colab-df-convert {\n",
              "      background-color: #E8F0FE;\n",
              "      border: none;\n",
              "      border-radius: 50%;\n",
              "      cursor: pointer;\n",
              "      display: none;\n",
              "      fill: #1967D2;\n",
              "      height: 32px;\n",
              "      padding: 0 0 0 0;\n",
              "      width: 32px;\n",
              "    }\n",
              "\n",
              "    .colab-df-convert:hover {\n",
              "      background-color: #E2EBFA;\n",
              "      box-shadow: 0px 1px 2px rgba(60, 64, 67, 0.3), 0px 1px 3px 1px rgba(60, 64, 67, 0.15);\n",
              "      fill: #174EA6;\n",
              "    }\n",
              "\n",
              "    [theme=dark] .colab-df-convert {\n",
              "      background-color: #3B4455;\n",
              "      fill: #D2E3FC;\n",
              "    }\n",
              "\n",
              "    [theme=dark] .colab-df-convert:hover {\n",
              "      background-color: #434B5C;\n",
              "      box-shadow: 0px 1px 3px 1px rgba(0, 0, 0, 0.15);\n",
              "      filter: drop-shadow(0px 1px 2px rgba(0, 0, 0, 0.3));\n",
              "      fill: #FFFFFF;\n",
              "    }\n",
              "  </style>\n",
              "\n",
              "      <script>\n",
              "        const buttonEl =\n",
              "          document.querySelector('#df-208fa8db-862f-4f6f-8c95-33045157b5f0 button.colab-df-convert');\n",
              "        buttonEl.style.display =\n",
              "          google.colab.kernel.accessAllowed ? 'block' : 'none';\n",
              "\n",
              "        async function convertToInteractive(key) {\n",
              "          const element = document.querySelector('#df-208fa8db-862f-4f6f-8c95-33045157b5f0');\n",
              "          const dataTable =\n",
              "            await google.colab.kernel.invokeFunction('convertToInteractive',\n",
              "                                                     [key], {});\n",
              "          if (!dataTable) return;\n",
              "\n",
              "          const docLinkHtml = 'Like what you see? Visit the ' +\n",
              "            '<a target=\"_blank\" href=https://colab.research.google.com/notebooks/data_table.ipynb>data table notebook</a>'\n",
              "            + ' to learn more about interactive tables.';\n",
              "          element.innerHTML = '';\n",
              "          dataTable['output_type'] = 'display_data';\n",
              "          await google.colab.output.renderOutput(dataTable, element);\n",
              "          const docLink = document.createElement('div');\n",
              "          docLink.innerHTML = docLinkHtml;\n",
              "          element.appendChild(docLink);\n",
              "        }\n",
              "      </script>\n",
              "    </div>\n",
              "  </div>\n",
              "  "
            ]
          },
          "metadata": {},
          "execution_count": 34
        }
      ]
    },
    {
      "cell_type": "code",
      "source": [
        "# convert time\n",
        "df['created_at'] = [datetime.strptime(df.iloc[i]['created_at'], \"%Y-%d-%m %H:%M:%S %Z\") for i in range(len(df))]"
      ],
      "metadata": {
        "id": "-lck5N7oy71A"
      },
      "execution_count": 36,
      "outputs": []
    },
    {
      "cell_type": "markdown",
      "source": [
        "# First Metric | Average Interactions per Post"
      ],
      "metadata": {
        "id": "J2wc5Gd5HhJM"
      }
    },
    {
      "cell_type": "code",
      "source": [
        "users = df.user_id.unique()\n",
        "\n",
        "# no. of posts of each user\n",
        "for u in users:\n",
        "    df.loc[df['user_id']== u,'n_posts'] = len(df[df['user_id']== u])"
      ],
      "metadata": {
        "id": "JKpEqrdeac5K"
      },
      "execution_count": 54,
      "outputs": []
    },
    {
      "cell_type": "code",
      "source": [
        "df['avg_int'] = 0\n",
        "\n",
        "# average interactions per post\n",
        "# tweets = df['tweet']\n",
        "for i,r in df.iterrows():\n",
        "    row = df.at[i, 'tweet']\n",
        "    sub_df = df[df['tweet'] == row]\n",
        "    origin = df.index[(df['tweet']==row) & (df['created_at']==min(sub_df['created_at']))][0] #the original tweet index\n",
        "    if ( abs(sub_df['created_at'].diff()) ).sum() < timedelta(hours = 4): #only take into account the tweets that are created within approximately 2 hours\n",
        "        n_int = 0\n",
        "        n_int = n_int + sum(sub_df['likes_count'] + sub_df['retweets_count'] + sub_df['replies_count'])\n",
        "        df.at[origin,'avg_int'] = ( n_int / df.at[origin, 'n_posts'] )\n",
        "    else:\n",
        "        n_int = 0\n",
        "        n_int = n_int + sum(df.at[origin, 'likes_count'] + df.at[origin, 'retweets_count'] + df.at[origin,'replies_count'])\n",
        "        df.at[origin,'avg_int'] = ( n_int / df.at[origin, 'n_posts'] )\n",
        "\n"
      ],
      "metadata": {
        "id": "43ioOSbfpA2a"
      },
      "execution_count": 38,
      "outputs": []
    },
    {
      "cell_type": "code",
      "source": [
        "df.head(5)"
      ],
      "metadata": {
        "colab": {
          "base_uri": "https://localhost:8080/",
          "height": 721
        },
        "id": "ILMOoIZ-QHC9",
        "outputId": "efa8d807-ffb3-4a69-f630-86b4e9c178c1"
      },
      "execution_count": 53,
      "outputs": [
        {
          "output_type": "execute_result",
          "data": {
            "text/plain": [
              "           created_at              user_id  username  \\\n",
              "0 2021-02-10 23:59:59  1127431975520882688   maudi63   \n",
              "1 2021-02-10 23:59:58            793331593   tee_asz   \n",
              "2 2021-02-10 23:59:58            386317180  swtlovex   \n",
              "3 2021-02-10 23:59:56  1264612627516293121  kiergzn_   \n",
              "4 2021-02-10 23:59:56            265209421   mewiyev   \n",
              "\n",
              "                                                                                                                                                                                                     tweet  \\\n",
              "0  @Timodc I just looked up where he grew up. Lowell, Massachusetts. I live near there now. My 3 kids all got their degrees the same place as him, UMass Lowell. There were lots of ‘tough towns’ in MA...   \n",
              "1                                                                               Good morning to the ICAC commissioners in NSW who were doing the job they were tasked to do and enforcing the rule of law.   \n",
              "2                                          U see some of us that can’t dance just like Whitemoney? U have no idea how we dance beautifully in our heads.   The only problem is the execution in real steps   \n",
              "3                                                                                                         Thank you for all the killings and making the country more divided EVER in history. #SalamatPRRD   \n",
              "4                                                                                                                                  the bookworm swordsman #Xingqiu #GenshinImapct  https://t.co/OpVuz7rAG6   \n",
              "\n",
              "   replies_count  retweets_count  likes_count  n_posts  avg_int  \n",
              "0             28              13          214      1.0      255  \n",
              "1              7             107          584      1.0      698  \n",
              "2              8              10           41      1.0       59  \n",
              "3              5              17          125      1.0      147  \n",
              "4              1             101          534      1.0      636  "
            ],
            "text/html": [
              "\n",
              "  <div id=\"df-95b4fce9-b0ad-4c9e-aac4-ce903b2ca52d\">\n",
              "    <div class=\"colab-df-container\">\n",
              "      <div>\n",
              "<style scoped>\n",
              "    .dataframe tbody tr th:only-of-type {\n",
              "        vertical-align: middle;\n",
              "    }\n",
              "\n",
              "    .dataframe tbody tr th {\n",
              "        vertical-align: top;\n",
              "    }\n",
              "\n",
              "    .dataframe thead th {\n",
              "        text-align: right;\n",
              "    }\n",
              "</style>\n",
              "<table border=\"1\" class=\"dataframe\">\n",
              "  <thead>\n",
              "    <tr style=\"text-align: right;\">\n",
              "      <th></th>\n",
              "      <th>created_at</th>\n",
              "      <th>user_id</th>\n",
              "      <th>username</th>\n",
              "      <th>tweet</th>\n",
              "      <th>replies_count</th>\n",
              "      <th>retweets_count</th>\n",
              "      <th>likes_count</th>\n",
              "      <th>n_posts</th>\n",
              "      <th>avg_int</th>\n",
              "    </tr>\n",
              "  </thead>\n",
              "  <tbody>\n",
              "    <tr>\n",
              "      <th>0</th>\n",
              "      <td>2021-02-10 23:59:59</td>\n",
              "      <td>1127431975520882688</td>\n",
              "      <td>maudi63</td>\n",
              "      <td>@Timodc I just looked up where he grew up. Lowell, Massachusetts. I live near there now. My 3 kids all got their degrees the same place as him, UMass Lowell. There were lots of ‘tough towns’ in MA...</td>\n",
              "      <td>28</td>\n",
              "      <td>13</td>\n",
              "      <td>214</td>\n",
              "      <td>1.0</td>\n",
              "      <td>255</td>\n",
              "    </tr>\n",
              "    <tr>\n",
              "      <th>1</th>\n",
              "      <td>2021-02-10 23:59:58</td>\n",
              "      <td>793331593</td>\n",
              "      <td>tee_asz</td>\n",
              "      <td>Good morning to the ICAC commissioners in NSW who were doing the job they were tasked to do and enforcing the rule of law.</td>\n",
              "      <td>7</td>\n",
              "      <td>107</td>\n",
              "      <td>584</td>\n",
              "      <td>1.0</td>\n",
              "      <td>698</td>\n",
              "    </tr>\n",
              "    <tr>\n",
              "      <th>2</th>\n",
              "      <td>2021-02-10 23:59:58</td>\n",
              "      <td>386317180</td>\n",
              "      <td>swtlovex</td>\n",
              "      <td>U see some of us that can’t dance just like Whitemoney? U have no idea how we dance beautifully in our heads.   The only problem is the execution in real steps</td>\n",
              "      <td>8</td>\n",
              "      <td>10</td>\n",
              "      <td>41</td>\n",
              "      <td>1.0</td>\n",
              "      <td>59</td>\n",
              "    </tr>\n",
              "    <tr>\n",
              "      <th>3</th>\n",
              "      <td>2021-02-10 23:59:56</td>\n",
              "      <td>1264612627516293121</td>\n",
              "      <td>kiergzn_</td>\n",
              "      <td>Thank you for all the killings and making the country more divided EVER in history. #SalamatPRRD</td>\n",
              "      <td>5</td>\n",
              "      <td>17</td>\n",
              "      <td>125</td>\n",
              "      <td>1.0</td>\n",
              "      <td>147</td>\n",
              "    </tr>\n",
              "    <tr>\n",
              "      <th>4</th>\n",
              "      <td>2021-02-10 23:59:56</td>\n",
              "      <td>265209421</td>\n",
              "      <td>mewiyev</td>\n",
              "      <td>the bookworm swordsman #Xingqiu #GenshinImapct  https://t.co/OpVuz7rAG6</td>\n",
              "      <td>1</td>\n",
              "      <td>101</td>\n",
              "      <td>534</td>\n",
              "      <td>1.0</td>\n",
              "      <td>636</td>\n",
              "    </tr>\n",
              "  </tbody>\n",
              "</table>\n",
              "</div>\n",
              "      <button class=\"colab-df-convert\" onclick=\"convertToInteractive('df-95b4fce9-b0ad-4c9e-aac4-ce903b2ca52d')\"\n",
              "              title=\"Convert this dataframe to an interactive table.\"\n",
              "              style=\"display:none;\">\n",
              "        \n",
              "  <svg xmlns=\"http://www.w3.org/2000/svg\" height=\"24px\"viewBox=\"0 0 24 24\"\n",
              "       width=\"24px\">\n",
              "    <path d=\"M0 0h24v24H0V0z\" fill=\"none\"/>\n",
              "    <path d=\"M18.56 5.44l.94 2.06.94-2.06 2.06-.94-2.06-.94-.94-2.06-.94 2.06-2.06.94zm-11 1L8.5 8.5l.94-2.06 2.06-.94-2.06-.94L8.5 2.5l-.94 2.06-2.06.94zm10 10l.94 2.06.94-2.06 2.06-.94-2.06-.94-.94-2.06-.94 2.06-2.06.94z\"/><path d=\"M17.41 7.96l-1.37-1.37c-.4-.4-.92-.59-1.43-.59-.52 0-1.04.2-1.43.59L10.3 9.45l-7.72 7.72c-.78.78-.78 2.05 0 2.83L4 21.41c.39.39.9.59 1.41.59.51 0 1.02-.2 1.41-.59l7.78-7.78 2.81-2.81c.8-.78.8-2.07 0-2.86zM5.41 20L4 18.59l7.72-7.72 1.47 1.35L5.41 20z\"/>\n",
              "  </svg>\n",
              "      </button>\n",
              "      \n",
              "  <style>\n",
              "    .colab-df-container {\n",
              "      display:flex;\n",
              "      flex-wrap:wrap;\n",
              "      gap: 12px;\n",
              "    }\n",
              "\n",
              "    .colab-df-convert {\n",
              "      background-color: #E8F0FE;\n",
              "      border: none;\n",
              "      border-radius: 50%;\n",
              "      cursor: pointer;\n",
              "      display: none;\n",
              "      fill: #1967D2;\n",
              "      height: 32px;\n",
              "      padding: 0 0 0 0;\n",
              "      width: 32px;\n",
              "    }\n",
              "\n",
              "    .colab-df-convert:hover {\n",
              "      background-color: #E2EBFA;\n",
              "      box-shadow: 0px 1px 2px rgba(60, 64, 67, 0.3), 0px 1px 3px 1px rgba(60, 64, 67, 0.15);\n",
              "      fill: #174EA6;\n",
              "    }\n",
              "\n",
              "    [theme=dark] .colab-df-convert {\n",
              "      background-color: #3B4455;\n",
              "      fill: #D2E3FC;\n",
              "    }\n",
              "\n",
              "    [theme=dark] .colab-df-convert:hover {\n",
              "      background-color: #434B5C;\n",
              "      box-shadow: 0px 1px 3px 1px rgba(0, 0, 0, 0.15);\n",
              "      filter: drop-shadow(0px 1px 2px rgba(0, 0, 0, 0.3));\n",
              "      fill: #FFFFFF;\n",
              "    }\n",
              "  </style>\n",
              "\n",
              "      <script>\n",
              "        const buttonEl =\n",
              "          document.querySelector('#df-95b4fce9-b0ad-4c9e-aac4-ce903b2ca52d button.colab-df-convert');\n",
              "        buttonEl.style.display =\n",
              "          google.colab.kernel.accessAllowed ? 'block' : 'none';\n",
              "\n",
              "        async function convertToInteractive(key) {\n",
              "          const element = document.querySelector('#df-95b4fce9-b0ad-4c9e-aac4-ce903b2ca52d');\n",
              "          const dataTable =\n",
              "            await google.colab.kernel.invokeFunction('convertToInteractive',\n",
              "                                                     [key], {});\n",
              "          if (!dataTable) return;\n",
              "\n",
              "          const docLinkHtml = 'Like what you see? Visit the ' +\n",
              "            '<a target=\"_blank\" href=https://colab.research.google.com/notebooks/data_table.ipynb>data table notebook</a>'\n",
              "            + ' to learn more about interactive tables.';\n",
              "          element.innerHTML = '';\n",
              "          dataTable['output_type'] = 'display_data';\n",
              "          await google.colab.output.renderOutput(dataTable, element);\n",
              "          const docLink = document.createElement('div');\n",
              "          docLink.innerHTML = docLinkHtml;\n",
              "          element.appendChild(docLink);\n",
              "        }\n",
              "      </script>\n",
              "    </div>\n",
              "  </div>\n",
              "  "
            ]
          },
          "metadata": {},
          "execution_count": 53
        }
      ]
    },
    {
      "cell_type": "code",
      "source": [
        "df.hist(['avg_int','n_posts'],bins=30, log=True, figsize=(14,4))"
      ],
      "metadata": {
        "colab": {
          "base_uri": "https://localhost:8080/",
          "height": 334
        },
        "id": "rVQlAHAOQbEL",
        "outputId": "e7171f70-ef7a-4585-9546-019e53e07c0a"
      },
      "execution_count": 60,
      "outputs": [
        {
          "output_type": "execute_result",
          "data": {
            "text/plain": [
              "array([[<matplotlib.axes._subplots.AxesSubplot object at 0x7feee717af90>,\n",
              "        <matplotlib.axes._subplots.AxesSubplot object at 0x7feee70e03d0>]],\n",
              "      dtype=object)"
            ]
          },
          "metadata": {},
          "execution_count": 60
        },
        {
          "output_type": "display_data",
          "data": {
            "text/plain": [
              "<Figure size 1008x288 with 2 Axes>"
            ],
            "image/png": "[encoded data removed]"
          },
          "metadata": {
            "needs_background": "light"
          }
        }
      ]
    },
    {
      "cell_type": "markdown",
      "source": [
        "# Second Metric | Passion Point"
      ],
      "metadata": {
        "id": "ouCAsLo_LxsF"
      }
    },
    {
      "cell_type": "markdown",
      "source": [
        "For this part we need to label positive and negative tweets. <br/>\n",
        "Since _emojis_ are the most common seperators of negative and positive tweets, I will annotate the dataset mainly based on those in my first attempt."
      ],
      "metadata": {
        "id": "0g7XwNfFVEML"
      }
    },
    {
      "cell_type": "code",
      "source": [
        "for i,r in df.iterrows():\n",
        "    for word in df.at[i,'tweet'].lower().split(\" \"):\n",
        "        # positive\n",
        "        if word in[':)', ':p', ':d', ':-)', ':))', 'love', 'great', 'thanks', 'thank', 'happy', 'nice', 'good', 'love', 'awesome', '&lt;3', 'follow']:\n",
        "            df.at[i, 'semantic'] = int(1)\n",
        "        # negative\n",
        "        elif word in[':(((', ':((', ':(', ':-(', 'sad', 'miss', 'sorry']:\n",
        "            df.at[i, 'semantic'] = int(0)\n",
        "        else:\n",
        "            df.at[i, 'semantic'] = int(0)\n",
        "\n",
        "print(f'Total number of tweets annonated as positive = {df.semantic.sum()}')"
      ],
      "metadata": {
        "colab": {
          "base_uri": "https://localhost:8080/"
        },
        "id": "PrQohjfOmkjk",
        "outputId": "f358fdb5-051c-43af-d9e4-0753dcf33aa5"
      },
      "execution_count": 80,
      "outputs": [
        {
          "output_type": "stream",
          "name": "stdout",
          "text": [
            "Total number of tweets annonated as positive = 66.0\n"
          ]
        }
      ]
    },
    {
      "cell_type": "markdown",
      "source": [
        "So, this annotation is likely to be biased since it considers only a few expressions. <br/>\n",
        "Therefore I will use **transfer learning** to annotate tweets."
      ],
      "metadata": {
        "id": "ihqZCme36bJA"
      }
    },
    {
      "cell_type": "markdown",
      "source": [
        "### Download saved model"
      ],
      "metadata": {
        "id": "pBlzavgE-O9S"
      }
    },
    {
      "cell_type": "code",
      "source": [
        "from google.colab import drive\n",
        "drive.mount('/content/drive')\n",
        "os.environ['KAGGLE_CONFIG_DIR'] = \"/content/drive/My Drive\"\n",
        "if os.path.isdir('~/.kaggle')==0:\n",
        "    os.makedirs('~/.kaggle')\n",
        "! cp /content/drive/MyDrive/kaggle.json ~/.kaggle/kaggle.json"
      ],
      "metadata": {
        "id": "UZQOMV49WXYz",
        "colab": {
          "base_uri": "https://localhost:8080/"
        },
        "outputId": "f46cafa0-98c1-4775-8187-31ab2dd3cd2f"
      },
      "execution_count": 94,
      "outputs": [
        {
          "output_type": "stream",
          "name": "stdout",
          "text": [
            "Drive already mounted at /content/drive; to attempt to forcibly remount, call drive.mount(\"/content/drive\", force_remount=True).\n"
          ]
        }
      ]
    },
    {
      "cell_type": "code",
      "source": [
        "# download saved model\n",
        "!kaggle kernels output paoloripamonti/twitter-sentiment-analysis"
      ],
      "metadata": {
        "colab": {
          "base_uri": "https://localhost:8080/"
        },
        "id": "FU266GqaQUNT",
        "outputId": "1b629f38-bf80-4392-9bc5-75f1670f5b0a"
      },
      "execution_count": 95,
      "outputs": [
        {
          "output_type": "stream",
          "name": "stdout",
          "text": [
            "Output file downloaded to /content/encoder.pkl\n",
            "Output file downloaded to /content/model.h5\n",
            "Output file downloaded to /content/model.w2v\n",
            "Output file downloaded to /content/tokenizer.pkl\n",
            "Kernel log downloaded to /content/twitter-sentiment-analysis.log \n"
          ]
        }
      ]
    },
    {
      "cell_type": "markdown",
      "source": [
        "## Pre-Process dataset"
      ],
      "metadata": {
        "id": "0ac_09VtWDDQ"
      }
    },
    {
      "cell_type": "code",
      "source": [
        "nltk.download('stopwords')\n",
        "stop_words = stopwords.words(\"english\")\n",
        "stemmer = SnowballStemmer(\"english\")\n",
        "\n",
        "def preprocess(text, stem=False):\n",
        "    # Remove link,user and special characters\n",
        "    text = re.sub(TEXT_CLEANING_RE, ' ', str(text).lower()).strip()\n",
        "    tokens = []\n",
        "    for token in text.split():\n",
        "        if token not in stop_words:\n",
        "            if stem:\n",
        "                tokens.append(stemmer.stem(token))\n",
        "            else:\n",
        "                tokens.append(token)\n",
        "    return \" \".join(tokens)"
      ],
      "metadata": {
        "colab": {
          "base_uri": "https://localhost:8080/"
        },
        "id": "HfNkLnqRUnTE",
        "outputId": "cec62348-c190-493b-9250-a8793508685f"
      },
      "execution_count": 101,
      "outputs": [
        {
          "output_type": "stream",
          "name": "stdout",
          "text": [
            "[nltk_data] Downloading package stopwords to /root/nltk_data...\n",
            "[nltk_data]   Package stopwords is already up-to-date!\n"
          ]
        }
      ]
    },
    {
      "cell_type": "code",
      "source": [
        "%%time\n",
        "TEXT_CLEANING_RE = \"@\\S+|https?:\\S+|http?:\\S|[^A-Za-z0-9]+\"\n",
        "df_doc = df.tweet.apply(lambda x: preprocess(x))"
      ],
      "metadata": {
        "colab": {
          "base_uri": "https://localhost:8080/"
        },
        "id": "62Ow1ej-WZdZ",
        "outputId": "fe4d7a7e-196f-467c-b6a1-4e0cd7b1eec3"
      },
      "execution_count": 102,
      "outputs": [
        {
          "output_type": "stream",
          "name": "stdout",
          "text": [
            "CPU times: user 1.22 s, sys: 5.66 ms, total: 1.23 s\n",
            "Wall time: 1.23 s\n"
          ]
        }
      ]
    },
    {
      "cell_type": "code",
      "source": [
        "%%time\n",
        "documents = [_text.split() for _text in df_doc] "
      ],
      "metadata": {
        "colab": {
          "base_uri": "https://localhost:8080/"
        },
        "id": "Q-wyGCZ0WZzP",
        "outputId": "7e4aa856-01c8-4442-d43a-df388736d2ab"
      },
      "execution_count": 104,
      "outputs": [
        {
          "output_type": "stream",
          "name": "stdout",
          "text": [
            "CPU times: user 43.1 ms, sys: 13.2 ms, total: 56.3 ms\n",
            "Wall time: 102 ms\n"
          ]
        }
      ]
    },
    {
      "cell_type": "markdown",
      "source": [
        "## Word2Vec"
      ],
      "metadata": {
        "id": "RRjTOhgJXf_Z"
      }
    },
    {
      "cell_type": "code",
      "source": [
        "#load the model\n",
        "w2v_model = gensim.models.word2vec.Word2Vec.load(\"model.w2v\")"
      ],
      "metadata": {
        "id": "eLBFLxs-8kUA"
      },
      "execution_count": 113,
      "outputs": []
    },
    {
      "cell_type": "code",
      "source": [
        "w2v_model.build_vocab(documents, update= True)"
      ],
      "metadata": {
        "id": "23FFNTigFbdB"
      },
      "execution_count": 114,
      "outputs": []
    },
    {
      "cell_type": "code",
      "source": [
        "words = w2v_model.wv.vocab.keys()\n",
        "vocab_size = len(words)\n",
        "print(\"Vocab size =\", vocab_size)"
      ],
      "metadata": {
        "colab": {
          "base_uri": "https://localhost:8080/"
        },
        "id": "Lv28056D-GBx",
        "outputId": "a90c3045-11bd-4005-bdac-afd266fc122e"
      },
      "execution_count": 124,
      "outputs": [
        {
          "output_type": "stream",
          "name": "stdout",
          "text": [
            "Vocab size = 30577\n"
          ]
        }
      ]
    },
    {
      "cell_type": "code",
      "source": [
        "%%time\n",
        "w2v_model.train(documents, total_examples=len(documents), epochs=32)"
      ],
      "metadata": {
        "colab": {
          "base_uri": "https://localhost:8080/"
        },
        "id": "oRF3SiY9FjuJ",
        "outputId": "726854b9-2144-4619-ae66-8c4919b8bee2"
      },
      "execution_count": 117,
      "outputs": [
        {
          "output_type": "stream",
          "name": "stdout",
          "text": [
            "CPU times: user 34.8 s, sys: 235 ms, total: 35 s\n",
            "Wall time: 18.8 s\n"
          ]
        },
        {
          "output_type": "execute_result",
          "data": {
            "text/plain": [
              "(6141493, 7290752)"
            ]
          },
          "metadata": {},
          "execution_count": 117
        }
      ]
    },
    {
      "cell_type": "code",
      "source": [
        "w2v_model.wv.most_similar(\"nice\", topn=15)"
      ],
      "metadata": {
        "colab": {
          "base_uri": "https://localhost:8080/"
        },
        "id": "FjjrGhKl-Pj4",
        "outputId": "53017a44-1280-4ea5-ec5b-3232bc0249a6"
      },
      "execution_count": 123,
      "outputs": [
        {
          "output_type": "execute_result",
          "data": {
            "text/plain": [
              "[('lovely', 0.4983063340187073),\n",
              " ('great', 0.4413699507713318),\n",
              " ('cool', 0.3828105628490448),\n",
              " ('wonderful', 0.3778040409088135),\n",
              " ('fab', 0.36366233229637146),\n",
              " ('fantastic', 0.35376614332199097),\n",
              " ('fancy', 0.32479211688041687),\n",
              " ('gorgeous', 0.3220602571964264),\n",
              " ('pleasant', 0.31885385513305664),\n",
              " ('beautiful', 0.3147013783454895),\n",
              " ('lush', 0.31272709369659424),\n",
              " ('nicer', 0.29557162523269653),\n",
              " ('pleased', 0.2856575846672058),\n",
              " ('nicely', 0.28565528988838196),\n",
              " ('awesome', 0.28550511598587036)]"
            ]
          },
          "metadata": {},
          "execution_count": 123
        }
      ]
    },
    {
      "cell_type": "markdown",
      "source": [
        "# Third Metric | Content Creation"
      ],
      "metadata": {
        "id": "xpma1HILYJh9"
      }
    },
    {
      "cell_type": "markdown",
      "source": [
        "In order to find the number of positine words in tweets, it's helpful to find the word similarities to positive words in tweets."
      ],
      "metadata": {
        "id": "LXOmN-66YRCT"
      }
    },
    {
      "cell_type": "code",
      "source": [
        ""
      ],
      "metadata": {
        "id": "lsbOr0CfUcjp"
      },
      "execution_count": null,
      "outputs": []
    }
  ]
}