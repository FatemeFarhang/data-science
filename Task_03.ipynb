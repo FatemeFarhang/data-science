{
  "nbformat": 4,
  "nbformat_minor": 0,
  "metadata": {
    "colab": {
      "name": "Task_03.ipynb",
      "provenance": [],
      "collapsed_sections": [
        "v56BSDgY5aWB",
        "0oi3v3cD5yrf",
        "EX99XMSz6NBj",
        "hn4dk_tRW-Jj",
        "J2wc5Gd5HhJM",
        "ouCAsLo_LxsF"
      ],
      "authorship_tag": "ABX9TyOf5cxEHQhQJZ1xu6EhADz7",
      "include_colab_link": true
    },
    "kernelspec": {
      "name": "python3",
      "display_name": "Python 3"
    },
    "language_info": {
      "name": "python"
    }
  },
  "cells": [
    {
      "cell_type": "markdown",
      "metadata": {
        "id": "view-in-github",
        "colab_type": "text"
      },
      "source": [
        "<a href=\"https://colab.research.google.com/github/FatemeFarhang/data-science/blob/main/Task_03.ipynb\" target=\"_parent\"><img src=\"https://colab.research.google.com/assets/colab-badge.svg\" alt=\"Open In Colab\"/></a>"
      ]
    },
    {
      "cell_type": "code",
      "source": [
        "from google.colab import drive\n",
        "drive.mount('/content/drive')"
      ],
      "metadata": {
        "colab": {
          "base_uri": "https://localhost:8080/"
        },
        "id": "QVOtcedYLGwt",
        "outputId": "11157e8a-5fdd-4d6b-f238-0ad826e20a54"
      },
      "execution_count": null,
      "outputs": [
        {
          "output_type": "stream",
          "name": "stdout",
          "text": [
            "Mounted at /content/drive\n"
          ]
        }
      ]
    },
    {
      "cell_type": "markdown",
      "source": [
        "### Download dataset and saved models (only first run)"
      ],
      "metadata": {
        "id": "v56BSDgY5aWB"
      }
    },
    {
      "cell_type": "code",
      "source": [
        "! mkdir ~/.kaggle\n",
        "!cp /content/drive/MyDrive/kaggle.json ~/.kaggle/kaggle.json"
      ],
      "metadata": {
        "id": "UZQOMV49WXYz"
      },
      "execution_count": null,
      "outputs": []
    },
    {
      "cell_type": "code",
      "source": [
        "# download dataset\n",
        "!kaggle datasets download -d kazanova/sentiment140"
      ],
      "metadata": {
        "colab": {
          "base_uri": "https://localhost:8080/"
        },
        "id": "JeEp6XQUQBzb",
        "outputId": "1b38d484-499c-4453-950c-7f1ee3174c70"
      },
      "execution_count": null,
      "outputs": [
        {
          "output_type": "stream",
          "name": "stdout",
          "text": [
            "Downloading sentiment140.zip to /content/drive/MyDrive/prav_tests\n",
            " 90% 73.0M/80.9M [00:03<00:00, 26.2MB/s]\n",
            "100% 80.9M/80.9M [00:03<00:00, 25.0MB/s]\n"
          ]
        }
      ]
    },
    {
      "cell_type": "code",
      "source": [
        "# Unzip data file\n",
        "!unzip sentiment140.zip"
      ],
      "metadata": {
        "colab": {
          "base_uri": "https://localhost:8080/"
        },
        "id": "YrmwkT8fUIdx",
        "outputId": "9014961a-a4b4-457e-f5b7-6ab51f1f8eb2"
      },
      "execution_count": null,
      "outputs": [
        {
          "output_type": "stream",
          "name": "stdout",
          "text": [
            "Archive:  sentiment140.zip\n",
            "  inflating: training.1600000.processed.noemoticon.csv  \n"
          ]
        }
      ]
    },
    {
      "cell_type": "code",
      "source": [
        "# download saved model\n",
        "!kaggle kernels output paoloripamonti/twitter-sentiment-analysis"
      ],
      "metadata": {
        "colab": {
          "base_uri": "https://localhost:8080/"
        },
        "id": "FU266GqaQUNT",
        "outputId": "100bd9fc-b859-44fc-f146-fb95057bbe3c"
      },
      "execution_count": null,
      "outputs": [
        {
          "output_type": "stream",
          "name": "stdout",
          "text": [
            "usage: kaggle [-h] [-v] {competitions,c,datasets,d,kernels,k,config} ...\n",
            "kaggle: error: unrecognized arguments: model.w2v\n"
          ]
        }
      ]
    },
    {
      "cell_type": "markdown",
      "source": [
        "### Required Libraries (every run)"
      ],
      "metadata": {
        "id": "0oi3v3cD5yrf"
      }
    },
    {
      "cell_type": "code",
      "source": [
        "# DataFrame\n",
        "import pandas as pd\n",
        "\n",
        "# Matplot\n",
        "import matplotlib.pyplot as plt\n",
        "%matplotlib inline\n",
        "\n",
        "# # Scikit-learn\n",
        "# from sklearn.model_selection import train_test_split\n",
        "# from sklearn.preprocessing import LabelEncoder\n",
        "# from sklearn.metrics import confusion_matrix, classification_report, accuracy_score\n",
        "# from sklearn.manifold import TSNE\n",
        "# from sklearn.feature_extraction.text import TfidfVectorizer\n",
        "\n",
        "# nltk\n",
        "import nltk\n",
        "from nltk.corpus import stopwords\n",
        "from  nltk.stem import SnowballStemmer\n",
        "\n",
        "# Word2vec\n",
        "import gensim\n",
        "\n",
        "# Utility\n",
        "import re\n",
        "import numpy as np\n",
        "import os\n",
        "from collections import Counter\n",
        "import logging\n",
        "import time\n",
        "import pickle\n",
        "import itertools\n",
        "from datetime import datetime\n"
      ],
      "metadata": {
        "id": "gN2C_M_bSLgx"
      },
      "execution_count": null,
      "outputs": []
    },
    {
      "cell_type": "markdown",
      "source": [
        "### Defaults"
      ],
      "metadata": {
        "id": "EX99XMSz6NBj"
      }
    },
    {
      "cell_type": "code",
      "source": [
        "# DATASET\n",
        "DATASET_COLUMNS = [\"target\", \"ids\", \"date\", \"flag\", \"user\", \"text\"]\n",
        "DATASET_ENCODING = \"ISO-8859-1\"\n",
        "\n",
        "# TEXT CLENAING\n",
        "TEXT_CLEANING_RE = \"@\\S+|https?:\\S+|http?:\\S|[^A-Za-z0-9]+\""
      ],
      "metadata": {
        "id": "jYcQCiyRUcww"
      },
      "execution_count": null,
      "outputs": []
    },
    {
      "cell_type": "markdown",
      "source": [
        "## Load dataset"
      ],
      "metadata": {
        "id": "hn4dk_tRW-Jj"
      }
    },
    {
      "cell_type": "code",
      "source": [
        "path_saved_files = 'drive/MyDrive/prav_tests'\n",
        "dataset_path = path_saved_files +  '/training.1600000.processed.noemoticon.csv'\n",
        "print(\"Open file:\", dataset_path)\n",
        "df = pd.read_csv(dataset_path, encoding =DATASET_ENCODING , names=DATASET_COLUMNS, usecols =[0,2,4,5])\n",
        "df = df.sample(frac = 0.01 , random_state = 0)"
      ],
      "metadata": {
        "colab": {
          "base_uri": "https://localhost:8080/"
        },
        "id": "HT_-OIWFSWl7",
        "outputId": "195f6e4f-01c9-4138-d3ed-ff514cba4834"
      },
      "execution_count": null,
      "outputs": [
        {
          "output_type": "stream",
          "name": "stdout",
          "text": [
            "Open file: drive/MyDrive/prav_tests/training.1600000.processed.noemoticon.csv\n"
          ]
        }
      ]
    },
    {
      "cell_type": "code",
      "source": [
        "pd.set_option(\"max_colwidth\", 200)\n",
        "df.head(6)"
      ],
      "metadata": {
        "colab": {
          "base_uri": "https://localhost:8080/",
          "height": 385
        },
        "id": "cZNgX3gFVlp_",
        "outputId": "4108c7ef-c8da-4706-c95f-776a9175be9d"
      },
      "execution_count": null,
      "outputs": [
        {
          "output_type": "execute_result",
          "data": {
            "text/plain": [
              "         target                          date           user  \\\n",
              "557138        0  Wed Jun 17 02:14:00 PDT 2009      einmensch   \n",
              "349381        0  Wed Jun 03 07:56:34 PDT 2009  keithmorrison   \n",
              "182051        0  Fri May 29 18:52:13 PDT 2009     PunkieDory   \n",
              "571236        0  Wed Jun 17 09:32:48 PDT 2009     DYkEY_tYPE   \n",
              "1339637       4  Wed Jun 03 10:25:27 PDT 2009  BlueSmartiies   \n",
              "758738        0  Tue Jun 23 08:29:12 PDT 2009         abtony   \n",
              "\n",
              "                                                                                                                                                  text  \n",
              "557138               wants to compete! i want hard competition! i want to rally. i want to feel the power coming out of the engine! i want to compete   \n",
              "349381       It seems we are stuck on the ground in Amarillo. They have put a ground stop for all flights leaving for Denver. Said updates in an hour   \n",
              "182051   where the f are my pinking shears? rarararrrarararr...babyproofing while cutting stuff makes me stick shears random places &amp; forget them   \n",
              "571236                                                                              0ff t0 tHE MEEtiN..  i HAtE WhEN PPl V0lUNtEER MY fREE tiME..gRRR!  \n",
              "1339637                                                                                                                                @ reply me pls   \n",
              "758738      @bharathy_99: Jazz in India is just Honda strategy to prove they can make affordable cars for the working class. It still doesn't fit me.   "
            ],
            "text/html": [
              "\n",
              "  <div id=\"df-856c5bb0-2198-42ce-ab3b-fbeda2e8c689\">\n",
              "    <div class=\"colab-df-container\">\n",
              "      <div>\n",
              "<style scoped>\n",
              "    .dataframe tbody tr th:only-of-type {\n",
              "        vertical-align: middle;\n",
              "    }\n",
              "\n",
              "    .dataframe tbody tr th {\n",
              "        vertical-align: top;\n",
              "    }\n",
              "\n",
              "    .dataframe thead th {\n",
              "        text-align: right;\n",
              "    }\n",
              "</style>\n",
              "<table border=\"1\" class=\"dataframe\">\n",
              "  <thead>\n",
              "    <tr style=\"text-align: right;\">\n",
              "      <th></th>\n",
              "      <th>target</th>\n",
              "      <th>date</th>\n",
              "      <th>user</th>\n",
              "      <th>text</th>\n",
              "    </tr>\n",
              "  </thead>\n",
              "  <tbody>\n",
              "    <tr>\n",
              "      <th>557138</th>\n",
              "      <td>0</td>\n",
              "      <td>Wed Jun 17 02:14:00 PDT 2009</td>\n",
              "      <td>einmensch</td>\n",
              "      <td>wants to compete! i want hard competition! i want to rally. i want to feel the power coming out of the engine! i want to compete</td>\n",
              "    </tr>\n",
              "    <tr>\n",
              "      <th>349381</th>\n",
              "      <td>0</td>\n",
              "      <td>Wed Jun 03 07:56:34 PDT 2009</td>\n",
              "      <td>keithmorrison</td>\n",
              "      <td>It seems we are stuck on the ground in Amarillo. They have put a ground stop for all flights leaving for Denver. Said updates in an hour</td>\n",
              "    </tr>\n",
              "    <tr>\n",
              "      <th>182051</th>\n",
              "      <td>0</td>\n",
              "      <td>Fri May 29 18:52:13 PDT 2009</td>\n",
              "      <td>PunkieDory</td>\n",
              "      <td>where the f are my pinking shears? rarararrrarararr...babyproofing while cutting stuff makes me stick shears random places &amp;amp; forget them</td>\n",
              "    </tr>\n",
              "    <tr>\n",
              "      <th>571236</th>\n",
              "      <td>0</td>\n",
              "      <td>Wed Jun 17 09:32:48 PDT 2009</td>\n",
              "      <td>DYkEY_tYPE</td>\n",
              "      <td>0ff t0 tHE MEEtiN..  i HAtE WhEN PPl V0lUNtEER MY fREE tiME..gRRR!</td>\n",
              "    </tr>\n",
              "    <tr>\n",
              "      <th>1339637</th>\n",
              "      <td>4</td>\n",
              "      <td>Wed Jun 03 10:25:27 PDT 2009</td>\n",
              "      <td>BlueSmartiies</td>\n",
              "      <td>@ reply me pls</td>\n",
              "    </tr>\n",
              "    <tr>\n",
              "      <th>758738</th>\n",
              "      <td>0</td>\n",
              "      <td>Tue Jun 23 08:29:12 PDT 2009</td>\n",
              "      <td>abtony</td>\n",
              "      <td>@bharathy_99: Jazz in India is just Honda strategy to prove they can make affordable cars for the working class. It still doesn't fit me.</td>\n",
              "    </tr>\n",
              "  </tbody>\n",
              "</table>\n",
              "</div>\n",
              "      <button class=\"colab-df-convert\" onclick=\"convertToInteractive('df-856c5bb0-2198-42ce-ab3b-fbeda2e8c689')\"\n",
              "              title=\"Convert this dataframe to an interactive table.\"\n",
              "              style=\"display:none;\">\n",
              "        \n",
              "  <svg xmlns=\"http://www.w3.org/2000/svg\" height=\"24px\"viewBox=\"0 0 24 24\"\n",
              "       width=\"24px\">\n",
              "    <path d=\"M0 0h24v24H0V0z\" fill=\"none\"/>\n",
              "    <path d=\"M18.56 5.44l.94 2.06.94-2.06 2.06-.94-2.06-.94-.94-2.06-.94 2.06-2.06.94zm-11 1L8.5 8.5l.94-2.06 2.06-.94-2.06-.94L8.5 2.5l-.94 2.06-2.06.94zm10 10l.94 2.06.94-2.06 2.06-.94-2.06-.94-.94-2.06-.94 2.06-2.06.94z\"/><path d=\"M17.41 7.96l-1.37-1.37c-.4-.4-.92-.59-1.43-.59-.52 0-1.04.2-1.43.59L10.3 9.45l-7.72 7.72c-.78.78-.78 2.05 0 2.83L4 21.41c.39.39.9.59 1.41.59.51 0 1.02-.2 1.41-.59l7.78-7.78 2.81-2.81c.8-.78.8-2.07 0-2.86zM5.41 20L4 18.59l7.72-7.72 1.47 1.35L5.41 20z\"/>\n",
              "  </svg>\n",
              "      </button>\n",
              "      \n",
              "  <style>\n",
              "    .colab-df-container {\n",
              "      display:flex;\n",
              "      flex-wrap:wrap;\n",
              "      gap: 12px;\n",
              "    }\n",
              "\n",
              "    .colab-df-convert {\n",
              "      background-color: #E8F0FE;\n",
              "      border: none;\n",
              "      border-radius: 50%;\n",
              "      cursor: pointer;\n",
              "      display: none;\n",
              "      fill: #1967D2;\n",
              "      height: 32px;\n",
              "      padding: 0 0 0 0;\n",
              "      width: 32px;\n",
              "    }\n",
              "\n",
              "    .colab-df-convert:hover {\n",
              "      background-color: #E2EBFA;\n",
              "      box-shadow: 0px 1px 2px rgba(60, 64, 67, 0.3), 0px 1px 3px 1px rgba(60, 64, 67, 0.15);\n",
              "      fill: #174EA6;\n",
              "    }\n",
              "\n",
              "    [theme=dark] .colab-df-convert {\n",
              "      background-color: #3B4455;\n",
              "      fill: #D2E3FC;\n",
              "    }\n",
              "\n",
              "    [theme=dark] .colab-df-convert:hover {\n",
              "      background-color: #434B5C;\n",
              "      box-shadow: 0px 1px 3px 1px rgba(0, 0, 0, 0.15);\n",
              "      filter: drop-shadow(0px 1px 2px rgba(0, 0, 0, 0.3));\n",
              "      fill: #FFFFFF;\n",
              "    }\n",
              "  </style>\n",
              "\n",
              "      <script>\n",
              "        const buttonEl =\n",
              "          document.querySelector('#df-856c5bb0-2198-42ce-ab3b-fbeda2e8c689 button.colab-df-convert');\n",
              "        buttonEl.style.display =\n",
              "          google.colab.kernel.accessAllowed ? 'block' : 'none';\n",
              "\n",
              "        async function convertToInteractive(key) {\n",
              "          const element = document.querySelector('#df-856c5bb0-2198-42ce-ab3b-fbeda2e8c689');\n",
              "          const dataTable =\n",
              "            await google.colab.kernel.invokeFunction('convertToInteractive',\n",
              "                                                     [key], {});\n",
              "          if (!dataTable) return;\n",
              "\n",
              "          const docLinkHtml = 'Like what you see? Visit the ' +\n",
              "            '<a target=\"_blank\" href=https://colab.research.google.com/notebooks/data_table.ipynb>data table notebook</a>'\n",
              "            + ' to learn more about interactive tables.';\n",
              "          element.innerHTML = '';\n",
              "          dataTable['output_type'] = 'display_data';\n",
              "          await google.colab.output.renderOutput(dataTable, element);\n",
              "          const docLink = document.createElement('div');\n",
              "          docLink.innerHTML = docLinkHtml;\n",
              "          element.appendChild(docLink);\n",
              "        }\n",
              "      </script>\n",
              "    </div>\n",
              "  </div>\n",
              "  "
            ]
          },
          "metadata": {},
          "execution_count": 65
        }
      ]
    },
    {
      "cell_type": "markdown",
      "source": [
        "# First Metric | Average Interactions per post"
      ],
      "metadata": {
        "id": "J2wc5Gd5HhJM"
      }
    },
    {
      "cell_type": "code",
      "source": [
        "%%time\n",
        "df_user = pd.DataFrame(df.user.unique(),columns=['user_name'])\n",
        "\n",
        "# no. of posts\n",
        "df_user['#posts'] = [len(df[df['user']== i]) for i in df_user.user_name]\n",
        "\n",
        "# no. of retweets\n",
        "df_user['#retweets'] = 0\n",
        "for user in df_user['user_name']:\n",
        "    list_of_tweets = df[df['user'] == user]['text']\n",
        "    retweets = len(df.loc[df['text'].isin(list_of_tweets)])\n",
        "    if retweets != len(list_of_tweets):\n",
        "        df_user.loc[df_user.user_name == user,'#retweets']= retweets - len(list_of_tweets)"
      ],
      "metadata": {
        "colab": {
          "base_uri": "https://localhost:8080/"
        },
        "id": "JKpEqrdeac5K",
        "outputId": "32bbf00b-9540-403e-b2d0-79a6a735140e"
      },
      "execution_count": 91,
      "outputs": [
        {
          "output_type": "stream",
          "name": "stdout",
          "text": [
            "CPU times: user 1min 52s, sys: 1.33 s, total: 1min 53s\n",
            "Wall time: 1min 52s\n"
          ]
        }
      ]
    },
    {
      "cell_type": "markdown",
      "source": [
        "The dataset didn't include likes or comments, so the only interaction is by retweeting."
      ],
      "metadata": {
        "id": "44UnYNyMQWh6"
      }
    },
    {
      "cell_type": "code",
      "source": [
        "df_user['#retweets'].unique()"
      ],
      "metadata": {
        "colab": {
          "base_uri": "https://localhost:8080/"
        },
        "id": "R8t34eYQW_J5",
        "outputId": "432daa8e-1540-4e47-a02e-e330b91f8a1c"
      },
      "execution_count": 94,
      "outputs": [
        {
          "output_type": "execute_result",
          "data": {
            "text/plain": [
              "array([0, 1, 3])"
            ]
          },
          "metadata": {},
          "execution_count": 94
        }
      ]
    },
    {
      "cell_type": "code",
      "source": [
        "# compute metric\n",
        "df_user['avg_interaction'] = df_user['#retweets']/df_user['#posts']\n",
        "df_user.iloc[14:20]"
      ],
      "metadata": {
        "colab": {
          "base_uri": "https://localhost:8080/",
          "height": 237
        },
        "id": "_Ot6F14iG1eD",
        "outputId": "b1279552-90b2-4237-b864-cfc079455f4c"
      },
      "execution_count": 92,
      "outputs": [
        {
          "output_type": "execute_result",
          "data": {
            "text/plain": [
              "          user_name  #posts  #retweets  avg_interaction\n",
              "14       BrunaBenne       1          0              0.0\n",
              "15      widyatarina       2          0              0.0\n",
              "16        JoeRialiS       1          0              0.0\n",
              "17     swaqqsoosiQk       1          0              0.0\n",
              "18  Justasimplegirl       2          0              0.0\n",
              "19       carinayeyy       1          0              0.0"
            ],
            "text/html": [
              "\n",
              "  <div id=\"df-f1206d5d-ebf3-4831-9c86-318f8108dd70\">\n",
              "    <div class=\"colab-df-container\">\n",
              "      <div>\n",
              "<style scoped>\n",
              "    .dataframe tbody tr th:only-of-type {\n",
              "        vertical-align: middle;\n",
              "    }\n",
              "\n",
              "    .dataframe tbody tr th {\n",
              "        vertical-align: top;\n",
              "    }\n",
              "\n",
              "    .dataframe thead th {\n",
              "        text-align: right;\n",
              "    }\n",
              "</style>\n",
              "<table border=\"1\" class=\"dataframe\">\n",
              "  <thead>\n",
              "    <tr style=\"text-align: right;\">\n",
              "      <th></th>\n",
              "      <th>user_name</th>\n",
              "      <th>#posts</th>\n",
              "      <th>#retweets</th>\n",
              "      <th>avg_interaction</th>\n",
              "    </tr>\n",
              "  </thead>\n",
              "  <tbody>\n",
              "    <tr>\n",
              "      <th>14</th>\n",
              "      <td>BrunaBenne</td>\n",
              "      <td>1</td>\n",
              "      <td>0</td>\n",
              "      <td>0.0</td>\n",
              "    </tr>\n",
              "    <tr>\n",
              "      <th>15</th>\n",
              "      <td>widyatarina</td>\n",
              "      <td>2</td>\n",
              "      <td>0</td>\n",
              "      <td>0.0</td>\n",
              "    </tr>\n",
              "    <tr>\n",
              "      <th>16</th>\n",
              "      <td>JoeRialiS</td>\n",
              "      <td>1</td>\n",
              "      <td>0</td>\n",
              "      <td>0.0</td>\n",
              "    </tr>\n",
              "    <tr>\n",
              "      <th>17</th>\n",
              "      <td>swaqqsoosiQk</td>\n",
              "      <td>1</td>\n",
              "      <td>0</td>\n",
              "      <td>0.0</td>\n",
              "    </tr>\n",
              "    <tr>\n",
              "      <th>18</th>\n",
              "      <td>Justasimplegirl</td>\n",
              "      <td>2</td>\n",
              "      <td>0</td>\n",
              "      <td>0.0</td>\n",
              "    </tr>\n",
              "    <tr>\n",
              "      <th>19</th>\n",
              "      <td>carinayeyy</td>\n",
              "      <td>1</td>\n",
              "      <td>0</td>\n",
              "      <td>0.0</td>\n",
              "    </tr>\n",
              "  </tbody>\n",
              "</table>\n",
              "</div>\n",
              "      <button class=\"colab-df-convert\" onclick=\"convertToInteractive('df-f1206d5d-ebf3-4831-9c86-318f8108dd70')\"\n",
              "              title=\"Convert this dataframe to an interactive table.\"\n",
              "              style=\"display:none;\">\n",
              "        \n",
              "  <svg xmlns=\"http://www.w3.org/2000/svg\" height=\"24px\"viewBox=\"0 0 24 24\"\n",
              "       width=\"24px\">\n",
              "    <path d=\"M0 0h24v24H0V0z\" fill=\"none\"/>\n",
              "    <path d=\"M18.56 5.44l.94 2.06.94-2.06 2.06-.94-2.06-.94-.94-2.06-.94 2.06-2.06.94zm-11 1L8.5 8.5l.94-2.06 2.06-.94-2.06-.94L8.5 2.5l-.94 2.06-2.06.94zm10 10l.94 2.06.94-2.06 2.06-.94-2.06-.94-.94-2.06-.94 2.06-2.06.94z\"/><path d=\"M17.41 7.96l-1.37-1.37c-.4-.4-.92-.59-1.43-.59-.52 0-1.04.2-1.43.59L10.3 9.45l-7.72 7.72c-.78.78-.78 2.05 0 2.83L4 21.41c.39.39.9.59 1.41.59.51 0 1.02-.2 1.41-.59l7.78-7.78 2.81-2.81c.8-.78.8-2.07 0-2.86zM5.41 20L4 18.59l7.72-7.72 1.47 1.35L5.41 20z\"/>\n",
              "  </svg>\n",
              "      </button>\n",
              "      \n",
              "  <style>\n",
              "    .colab-df-container {\n",
              "      display:flex;\n",
              "      flex-wrap:wrap;\n",
              "      gap: 12px;\n",
              "    }\n",
              "\n",
              "    .colab-df-convert {\n",
              "      background-color: #E8F0FE;\n",
              "      border: none;\n",
              "      border-radius: 50%;\n",
              "      cursor: pointer;\n",
              "      display: none;\n",
              "      fill: #1967D2;\n",
              "      height: 32px;\n",
              "      padding: 0 0 0 0;\n",
              "      width: 32px;\n",
              "    }\n",
              "\n",
              "    .colab-df-convert:hover {\n",
              "      background-color: #E2EBFA;\n",
              "      box-shadow: 0px 1px 2px rgba(60, 64, 67, 0.3), 0px 1px 3px 1px rgba(60, 64, 67, 0.15);\n",
              "      fill: #174EA6;\n",
              "    }\n",
              "\n",
              "    [theme=dark] .colab-df-convert {\n",
              "      background-color: #3B4455;\n",
              "      fill: #D2E3FC;\n",
              "    }\n",
              "\n",
              "    [theme=dark] .colab-df-convert:hover {\n",
              "      background-color: #434B5C;\n",
              "      box-shadow: 0px 1px 3px 1px rgba(0, 0, 0, 0.15);\n",
              "      filter: drop-shadow(0px 1px 2px rgba(0, 0, 0, 0.3));\n",
              "      fill: #FFFFFF;\n",
              "    }\n",
              "  </style>\n",
              "\n",
              "      <script>\n",
              "        const buttonEl =\n",
              "          document.querySelector('#df-f1206d5d-ebf3-4831-9c86-318f8108dd70 button.colab-df-convert');\n",
              "        buttonEl.style.display =\n",
              "          google.colab.kernel.accessAllowed ? 'block' : 'none';\n",
              "\n",
              "        async function convertToInteractive(key) {\n",
              "          const element = document.querySelector('#df-f1206d5d-ebf3-4831-9c86-318f8108dd70');\n",
              "          const dataTable =\n",
              "            await google.colab.kernel.invokeFunction('convertToInteractive',\n",
              "                                                     [key], {});\n",
              "          if (!dataTable) return;\n",
              "\n",
              "          const docLinkHtml = 'Like what you see? Visit the ' +\n",
              "            '<a target=\"_blank\" href=https://colab.research.google.com/notebooks/data_table.ipynb>data table notebook</a>'\n",
              "            + ' to learn more about interactive tables.';\n",
              "          element.innerHTML = '';\n",
              "          dataTable['output_type'] = 'display_data';\n",
              "          await google.colab.output.renderOutput(dataTable, element);\n",
              "          const docLink = document.createElement('div');\n",
              "          docLink.innerHTML = docLinkHtml;\n",
              "          element.appendChild(docLink);\n",
              "        }\n",
              "      </script>\n",
              "    </div>\n",
              "  </div>\n",
              "  "
            ]
          },
          "metadata": {},
          "execution_count": 92
        }
      ]
    },
    {
      "cell_type": "markdown",
      "source": [
        "# Second Metric | Passion Point"
      ],
      "metadata": {
        "id": "ouCAsLo_LxsF"
      }
    },
    {
      "cell_type": "code",
      "source": [
        "# no. of positive posts\n",
        "df_user['#positive_posts'] = [len(df.loc[(df['user']== i) & (df['target'] == 4)]) for i in df_user.user_name]"
      ],
      "metadata": {
        "id": "c0tP7bEWLxQa"
      },
      "execution_count": 75,
      "outputs": []
    },
    {
      "cell_type": "code",
      "source": [
        "df_user.hist(['#positive_posts'], log=True)"
      ],
      "metadata": {
        "colab": {
          "base_uri": "https://localhost:8080/",
          "height": 315
        },
        "id": "-4vcKZvjOjz7",
        "outputId": "d26f98fc-dd73-4d9d-d474-372d297a9c3a"
      },
      "execution_count": 76,
      "outputs": [
        {
          "output_type": "execute_result",
          "data": {
            "text/plain": [
              "array([[<matplotlib.axes._subplots.AxesSubplot object at 0x7f9132efd610>]],\n",
              "      dtype=object)"
            ]
          },
          "metadata": {},
          "execution_count": 76
        },
        {
          "output_type": "display_data",
          "data": {
            "text/plain": [
              "<Figure size 432x288 with 1 Axes>"
            ],
            "image/png": "[encoded data removed]"
          },
          "metadata": {
            "needs_background": "light"
          }
        }
      ]
    },
    {
      "cell_type": "code",
      "source": [
        "# quantile?\n",
        "# if we find quantile we can find ranking and then passion point of users"
      ],
      "metadata": {
        "id": "dzYh8QjvX7LU"
      },
      "execution_count": null,
      "outputs": []
    },
    {
      "cell_type": "markdown",
      "source": [
        "# Third Metric | Content Creation"
      ],
      "metadata": {
        "id": "xpma1HILYJh9"
      }
    },
    {
      "cell_type": "markdown",
      "source": [
        "In order to find the number of positine words in tweets, it's helpful to find the word similarities to positive words in tweets."
      ],
      "metadata": {
        "id": "LXOmN-66YRCT"
      }
    },
    {
      "cell_type": "markdown",
      "source": [
        "## Pre-Process dataset"
      ],
      "metadata": {
        "id": "0ac_09VtWDDQ"
      }
    },
    {
      "cell_type": "code",
      "source": [
        "nltk.download('stopwords')\n",
        "stop_words = stopwords.words(\"english\")\n",
        "stemmer = SnowballStemmer(\"english\")\n",
        "\n",
        "def preprocess(text, stem=False):\n",
        "    # Remove link,user and special characters\n",
        "    text = re.sub(TEXT_CLEANING_RE, ' ', str(text).lower()).strip()\n",
        "    tokens = []\n",
        "    for token in text.split():\n",
        "        if token not in stop_words:\n",
        "            if stem:\n",
        "                tokens.append(stemmer.stem(token))\n",
        "            else:\n",
        "                tokens.append(token)\n",
        "    return \" \".join(tokens)"
      ],
      "metadata": {
        "colab": {
          "base_uri": "https://localhost:8080/"
        },
        "id": "HfNkLnqRUnTE",
        "outputId": "ffcf868f-0c2c-404f-e23c-e6eaa72010c2"
      },
      "execution_count": null,
      "outputs": [
        {
          "output_type": "stream",
          "name": "stdout",
          "text": [
            "[nltk_data] Downloading package stopwords to /root/nltk_data...\n",
            "[nltk_data]   Unzipping corpora/stopwords.zip.\n"
          ]
        }
      ]
    },
    {
      "cell_type": "code",
      "source": [
        "%%time\n",
        "df.text = df.text.apply(lambda x: preprocess(x))"
      ],
      "metadata": {
        "colab": {
          "base_uri": "https://localhost:8080/"
        },
        "id": "62Ow1ej-WZdZ",
        "outputId": "cdf6f8bb-067c-4deb-8c21-14d8200f29b3"
      },
      "execution_count": null,
      "outputs": [
        {
          "output_type": "stream",
          "name": "stdout",
          "text": [
            "CPU times: user 59.8 s, sys: 288 ms, total: 1min\n",
            "Wall time: 1min\n"
          ]
        }
      ]
    },
    {
      "cell_type": "markdown",
      "source": [
        "## Word2Vec"
      ],
      "metadata": {
        "id": "RRjTOhgJXf_Z"
      }
    },
    {
      "cell_type": "code",
      "source": [
        "%%time\n",
        "documents = [_text.split() for _text in df.text] "
      ],
      "metadata": {
        "colab": {
          "base_uri": "https://localhost:8080/"
        },
        "id": "Q-wyGCZ0WZzP",
        "outputId": "cd612f88-80aa-4049-8f25-2514af837f66"
      },
      "execution_count": null,
      "outputs": [
        {
          "output_type": "stream",
          "name": "stdout",
          "text": [
            "CPU times: user 4.44 s, sys: 723 ms, total: 5.17 s\n",
            "Wall time: 5.16 s\n"
          ]
        }
      ]
    },
    {
      "cell_type": "code",
      "source": [
        "#load the model\n",
        "w2v_model = gensim.models.word2vec.Word2Vec.load(path_saved_files + \"/model.w2v\")"
      ],
      "metadata": {
        "colab": {
          "base_uri": "https://localhost:8080/"
        },
        "id": "eLBFLxs-8kUA",
        "outputId": "e6b2646c-102a-4b3b-dc5e-d7a305455062"
      },
      "execution_count": null,
      "outputs": [
        {
          "output_type": "stream",
          "name": "stderr",
          "text": [
            "2022-03-17 17:41:26,173 : INFO : loading Word2Vec object from drive/MyDrive/prav_tests/model.w2v\n",
            "2022-03-17 17:41:27,951 : INFO : loading wv recursively from drive/MyDrive/prav_tests/model.w2v.wv.* with mmap=None\n",
            "2022-03-17 17:41:27,954 : INFO : setting ignored attribute vectors_norm to None\n",
            "2022-03-17 17:41:27,956 : INFO : loading vocabulary recursively from drive/MyDrive/prav_tests/model.w2v.vocabulary.* with mmap=None\n",
            "2022-03-17 17:41:27,958 : INFO : loading trainables recursively from drive/MyDrive/prav_tests/model.w2v.trainables.* with mmap=None\n",
            "2022-03-17 17:41:27,965 : INFO : setting ignored attribute cum_table to None\n",
            "2022-03-17 17:41:27,969 : INFO : loaded drive/MyDrive/prav_tests/model.w2v\n"
          ]
        }
      ]
    },
    {
      "cell_type": "code",
      "source": [
        "words = w2v_model.wv.vocab.keys()\n",
        "vocab_size = len(words)\n",
        "print(\"Vocab size\", vocab_size)"
      ],
      "metadata": {
        "colab": {
          "base_uri": "https://localhost:8080/"
        },
        "id": "Lv28056D-GBx",
        "outputId": "567a12ea-eb05-4a76-aec0-6afb8c0177c4"
      },
      "execution_count": null,
      "outputs": [
        {
          "output_type": "stream",
          "name": "stdout",
          "text": [
            "Vocab size 30369\n"
          ]
        }
      ]
    },
    {
      "cell_type": "code",
      "source": [
        "w2v_model.wv.most_similar(\"love\")"
      ],
      "metadata": {
        "colab": {
          "base_uri": "https://localhost:8080/"
        },
        "id": "FjjrGhKl-Pj4",
        "outputId": "b0cff4eb-3236-4f4d-ce76-9359fccd9273"
      },
      "execution_count": null,
      "outputs": [
        {
          "output_type": "execute_result",
          "data": {
            "text/plain": [
              "[('luv', 0.5732780694961548),\n",
              " ('loves', 0.5623787045478821),\n",
              " ('loved', 0.5373271703720093),\n",
              " ('amazing', 0.5026600360870361),\n",
              " ('adore', 0.4942743480205536),\n",
              " ('looove', 0.47235167026519775),\n",
              " ('awesome', 0.4598265290260315),\n",
              " ('lovee', 0.45823752880096436),\n",
              " ('loveee', 0.4531649351119995),\n",
              " ('loooove', 0.44260522723197937)]"
            ]
          },
          "metadata": {},
          "execution_count": 30
        }
      ]
    },
    {
      "cell_type": "code",
      "source": [
        ""
      ],
      "metadata": {
        "id": "lsbOr0CfUcjp"
      },
      "execution_count": null,
      "outputs": []
    }
  ]
}