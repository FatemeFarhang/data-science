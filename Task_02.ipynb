{
  "nbformat": 4,
  "nbformat_minor": 0,
  "metadata": {
    "colab": {
      "name": "Task_02.ipynb",
      "provenance": [],
      "collapsed_sections": [
        "0oi3v3cD5yrf",
        "pBlzavgE-O9S",
        "xpma1HILYJh9"
      ],
      "authorship_tag": "ABX9TyNWq7jW0egoPlSageTiOFpM",
      "include_colab_link": true
    },
    "kernelspec": {
      "name": "python3",
      "display_name": "Python 3"
    },
    "language_info": {
      "name": "python"
    }
  },
  "cells": [
    {
      "cell_type": "markdown",
      "metadata": {
        "id": "view-in-github",
        "colab_type": "text"
      },
      "source": [
        "<a href=\"https://colab.research.google.com/github/FatemeFarhang/data-science/blob/main/Task_02.ipynb\" target=\"_parent\"><img src=\"https://colab.research.google.com/assets/colab-badge.svg\" alt=\"Open In Colab\"/></a>"
      ]
    },
    {
      "cell_type": "markdown",
      "source": [
        "For more convenience, I switched my data to random tweets to include reply and like counts as well as retweet counts.\n",
        "\n",
        "Alternative toy data set is included at the end of the notebook."
      ],
      "metadata": {
        "id": "kGfoRO4NLmoW"
      }
    },
    {
      "cell_type": "markdown",
      "source": [
        "## Import data and inquiries"
      ],
      "metadata": {
        "id": "UjPA0y3rJ7GP"
      }
    },
    {
      "cell_type": "markdown",
      "source": [
        "### Libraries"
      ],
      "metadata": {
        "id": "0oi3v3cD5yrf"
      }
    },
    {
      "cell_type": "code",
      "source": [
        "# DataFrame\n",
        "import pandas as pd\n",
        "pd.set_option(\"max_colwidth\", 200)\n",
        "\n",
        "# Matplot\n",
        "import matplotlib.pyplot as plt\n",
        "%matplotlib inline\n",
        "\n",
        "# # Scikit-learn\n",
        "# from sklearn.model_selection import train_test_split\n",
        "# from sklearn.preprocessing import LabelEncoder\n",
        "# from sklearn.metrics import confusion_matrix, classification_report, accuracy_score\n",
        "# from sklearn.manifold import TSNE\n",
        "# from sklearn.feature_extraction.text import TfidfVectorizer\n",
        "\n",
        "# Keras\n",
        "from tensorflow import keras\n",
        "from keras.preprocessing.text import Tokenizer\n",
        "from keras.preprocessing.sequence import pad_sequences\n",
        "# from keras.models import Sequential\n",
        "# from keras.layers import Activation, Dense, Dropout, Embedding, Flatten, Conv1D, MaxPooling1D, LSTM\n",
        "# from keras import utils\n",
        "# from keras.callbacks import ReduceLROnPlateau, EarlyStopping\n",
        "\n",
        "# nltk\n",
        "import nltk\n",
        "from nltk.corpus import stopwords\n",
        "from  nltk.stem import SnowballStemmer\n",
        "\n",
        "# Word2vec\n",
        "import gensim\n",
        "\n",
        "# Utility\n",
        "import re\n",
        "import numpy as np\n",
        "import os\n",
        "from collections import Counter\n",
        "import time\n",
        "import pickle\n",
        "from datetime import datetime, timedelta"
      ],
      "metadata": {
        "id": "gN2C_M_bSLgx"
      },
      "execution_count": 1,
      "outputs": []
    },
    {
      "cell_type": "markdown",
      "source": [
        "### Import Data"
      ],
      "metadata": {
        "id": "0-Zuenq3Mx5t"
      }
    },
    {
      "cell_type": "code",
      "source": [
        "url = \"https://github.com/sraeisi/MachineLearning_Physics/blob/master/Data/random_tweets.csv?raw=true\"\n",
        "df = pd.read_csv(url,\n",
        "                 usecols = [2,6,7,10,11,15,16,17]\n",
        "                 )\n",
        "df = df[df['language']=='en'].drop(['language'], axis=1)\n",
        "df.drop_duplicates(ignore_index=True, inplace=True)\n",
        "# df = df.sample(random_state=0, frac= .5, ignore_index = True)\n",
        "\n",
        "print(f'There are a total number of {len(df)} tweets in this dataset.')\n",
        "df.head()\n"
      ],
      "metadata": {
        "colab": {
          "base_uri": "https://localhost:8080/",
          "height": 371
        },
        "id": "50avRpNTFJV4",
        "outputId": "e1c72431-e876-4c61-dc9d-092db7d271d1"
      },
      "execution_count": 202,
      "outputs": [
        {
          "output_type": "stream",
          "name": "stdout",
          "text": [
            "There are a total number of 17513 tweets in this dataset.\n"
          ]
        },
        {
          "output_type": "execute_result",
          "data": {
            "text/plain": [
              "                created_at              user_id  username  \\\n",
              "0  2021-10-02 23:59:59 UTC  1127431975520882688   maudi63   \n",
              "1  2021-10-02 23:59:58 UTC            793331593   tee_asz   \n",
              "2  2021-10-02 23:59:58 UTC            386317180  swtlovex   \n",
              "3  2021-10-02 23:59:56 UTC  1264612627516293121  kiergzn_   \n",
              "4  2021-10-02 23:59:56 UTC            265209421   mewiyev   \n",
              "\n",
              "                                                                                                                                                                                                     tweet  \\\n",
              "0  @Timodc I just looked up where he grew up. Lowell, Massachusetts. I live near there now. My 3 kids all got their degrees the same place as him, UMass Lowell. There were lots of ‘tough towns’ in MA...   \n",
              "1                                                                               Good morning to the ICAC commissioners in NSW who were doing the job they were tasked to do and enforcing the rule of law.   \n",
              "2                                          U see some of us that can’t dance just like Whitemoney? U have no idea how we dance beautifully in our heads.   The only problem is the execution in real steps   \n",
              "3                                                                                                         Thank you for all the killings and making the country more divided EVER in history. #SalamatPRRD   \n",
              "4                                                                                                                                  the bookworm swordsman #Xingqiu #GenshinImapct  https://t.co/OpVuz7rAG6   \n",
              "\n",
              "   replies_count  retweets_count  likes_count  \n",
              "0             28              13          214  \n",
              "1              7             107          584  \n",
              "2              8              10           41  \n",
              "3              5              17          125  \n",
              "4              1             101          534  "
            ],
            "text/html": [
              "\n",
              "  <div id=\"df-0e985499-ed9c-4f1b-9656-de09042334cf\">\n",
              "    <div class=\"colab-df-container\">\n",
              "      <div>\n",
              "<style scoped>\n",
              "    .dataframe tbody tr th:only-of-type {\n",
              "        vertical-align: middle;\n",
              "    }\n",
              "\n",
              "    .dataframe tbody tr th {\n",
              "        vertical-align: top;\n",
              "    }\n",
              "\n",
              "    .dataframe thead th {\n",
              "        text-align: right;\n",
              "    }\n",
              "</style>\n",
              "<table border=\"1\" class=\"dataframe\">\n",
              "  <thead>\n",
              "    <tr style=\"text-align: right;\">\n",
              "      <th></th>\n",
              "      <th>created_at</th>\n",
              "      <th>user_id</th>\n",
              "      <th>username</th>\n",
              "      <th>tweet</th>\n",
              "      <th>replies_count</th>\n",
              "      <th>retweets_count</th>\n",
              "      <th>likes_count</th>\n",
              "    </tr>\n",
              "  </thead>\n",
              "  <tbody>\n",
              "    <tr>\n",
              "      <th>0</th>\n",
              "      <td>2021-10-02 23:59:59 UTC</td>\n",
              "      <td>1127431975520882688</td>\n",
              "      <td>maudi63</td>\n",
              "      <td>@Timodc I just looked up where he grew up. Lowell, Massachusetts. I live near there now. My 3 kids all got their degrees the same place as him, UMass Lowell. There were lots of ‘tough towns’ in MA...</td>\n",
              "      <td>28</td>\n",
              "      <td>13</td>\n",
              "      <td>214</td>\n",
              "    </tr>\n",
              "    <tr>\n",
              "      <th>1</th>\n",
              "      <td>2021-10-02 23:59:58 UTC</td>\n",
              "      <td>793331593</td>\n",
              "      <td>tee_asz</td>\n",
              "      <td>Good morning to the ICAC commissioners in NSW who were doing the job they were tasked to do and enforcing the rule of law.</td>\n",
              "      <td>7</td>\n",
              "      <td>107</td>\n",
              "      <td>584</td>\n",
              "    </tr>\n",
              "    <tr>\n",
              "      <th>2</th>\n",
              "      <td>2021-10-02 23:59:58 UTC</td>\n",
              "      <td>386317180</td>\n",
              "      <td>swtlovex</td>\n",
              "      <td>U see some of us that can’t dance just like Whitemoney? U have no idea how we dance beautifully in our heads.   The only problem is the execution in real steps</td>\n",
              "      <td>8</td>\n",
              "      <td>10</td>\n",
              "      <td>41</td>\n",
              "    </tr>\n",
              "    <tr>\n",
              "      <th>3</th>\n",
              "      <td>2021-10-02 23:59:56 UTC</td>\n",
              "      <td>1264612627516293121</td>\n",
              "      <td>kiergzn_</td>\n",
              "      <td>Thank you for all the killings and making the country more divided EVER in history. #SalamatPRRD</td>\n",
              "      <td>5</td>\n",
              "      <td>17</td>\n",
              "      <td>125</td>\n",
              "    </tr>\n",
              "    <tr>\n",
              "      <th>4</th>\n",
              "      <td>2021-10-02 23:59:56 UTC</td>\n",
              "      <td>265209421</td>\n",
              "      <td>mewiyev</td>\n",
              "      <td>the bookworm swordsman #Xingqiu #GenshinImapct  https://t.co/OpVuz7rAG6</td>\n",
              "      <td>1</td>\n",
              "      <td>101</td>\n",
              "      <td>534</td>\n",
              "    </tr>\n",
              "  </tbody>\n",
              "</table>\n",
              "</div>\n",
              "      <button class=\"colab-df-convert\" onclick=\"convertToInteractive('df-0e985499-ed9c-4f1b-9656-de09042334cf')\"\n",
              "              title=\"Convert this dataframe to an interactive table.\"\n",
              "              style=\"display:none;\">\n",
              "        \n",
              "  <svg xmlns=\"http://www.w3.org/2000/svg\" height=\"24px\"viewBox=\"0 0 24 24\"\n",
              "       width=\"24px\">\n",
              "    <path d=\"M0 0h24v24H0V0z\" fill=\"none\"/>\n",
              "    <path d=\"M18.56 5.44l.94 2.06.94-2.06 2.06-.94-2.06-.94-.94-2.06-.94 2.06-2.06.94zm-11 1L8.5 8.5l.94-2.06 2.06-.94-2.06-.94L8.5 2.5l-.94 2.06-2.06.94zm10 10l.94 2.06.94-2.06 2.06-.94-2.06-.94-.94-2.06-.94 2.06-2.06.94z\"/><path d=\"M17.41 7.96l-1.37-1.37c-.4-.4-.92-.59-1.43-.59-.52 0-1.04.2-1.43.59L10.3 9.45l-7.72 7.72c-.78.78-.78 2.05 0 2.83L4 21.41c.39.39.9.59 1.41.59.51 0 1.02-.2 1.41-.59l7.78-7.78 2.81-2.81c.8-.78.8-2.07 0-2.86zM5.41 20L4 18.59l7.72-7.72 1.47 1.35L5.41 20z\"/>\n",
              "  </svg>\n",
              "      </button>\n",
              "      \n",
              "  <style>\n",
              "    .colab-df-container {\n",
              "      display:flex;\n",
              "      flex-wrap:wrap;\n",
              "      gap: 12px;\n",
              "    }\n",
              "\n",
              "    .colab-df-convert {\n",
              "      background-color: #E8F0FE;\n",
              "      border: none;\n",
              "      border-radius: 50%;\n",
              "      cursor: pointer;\n",
              "      display: none;\n",
              "      fill: #1967D2;\n",
              "      height: 32px;\n",
              "      padding: 0 0 0 0;\n",
              "      width: 32px;\n",
              "    }\n",
              "\n",
              "    .colab-df-convert:hover {\n",
              "      background-color: #E2EBFA;\n",
              "      box-shadow: 0px 1px 2px rgba(60, 64, 67, 0.3), 0px 1px 3px 1px rgba(60, 64, 67, 0.15);\n",
              "      fill: #174EA6;\n",
              "    }\n",
              "\n",
              "    [theme=dark] .colab-df-convert {\n",
              "      background-color: #3B4455;\n",
              "      fill: #D2E3FC;\n",
              "    }\n",
              "\n",
              "    [theme=dark] .colab-df-convert:hover {\n",
              "      background-color: #434B5C;\n",
              "      box-shadow: 0px 1px 3px 1px rgba(0, 0, 0, 0.15);\n",
              "      filter: drop-shadow(0px 1px 2px rgba(0, 0, 0, 0.3));\n",
              "      fill: #FFFFFF;\n",
              "    }\n",
              "  </style>\n",
              "\n",
              "      <script>\n",
              "        const buttonEl =\n",
              "          document.querySelector('#df-0e985499-ed9c-4f1b-9656-de09042334cf button.colab-df-convert');\n",
              "        buttonEl.style.display =\n",
              "          google.colab.kernel.accessAllowed ? 'block' : 'none';\n",
              "\n",
              "        async function convertToInteractive(key) {\n",
              "          const element = document.querySelector('#df-0e985499-ed9c-4f1b-9656-de09042334cf');\n",
              "          const dataTable =\n",
              "            await google.colab.kernel.invokeFunction('convertToInteractive',\n",
              "                                                     [key], {});\n",
              "          if (!dataTable) return;\n",
              "\n",
              "          const docLinkHtml = 'Like what you see? Visit the ' +\n",
              "            '<a target=\"_blank\" href=https://colab.research.google.com/notebooks/data_table.ipynb>data table notebook</a>'\n",
              "            + ' to learn more about interactive tables.';\n",
              "          element.innerHTML = '';\n",
              "          dataTable['output_type'] = 'display_data';\n",
              "          await google.colab.output.renderOutput(dataTable, element);\n",
              "          const docLink = document.createElement('div');\n",
              "          docLink.innerHTML = docLinkHtml;\n",
              "          element.appendChild(docLink);\n",
              "        }\n",
              "      </script>\n",
              "    </div>\n",
              "  </div>\n",
              "  "
            ]
          },
          "metadata": {},
          "execution_count": 202
        }
      ]
    },
    {
      "cell_type": "code",
      "source": [
        "# convert time\n",
        "df['created_at'] = [datetime.strptime(df.iloc[i]['created_at'], \"%Y-%d-%m %H:%M:%S %Z\") for i in range(len(df))]"
      ],
      "metadata": {
        "id": "-lck5N7oy71A"
      },
      "execution_count": 203,
      "outputs": []
    },
    {
      "cell_type": "markdown",
      "source": [
        "# First Metric | Average Interactions per Post"
      ],
      "metadata": {
        "id": "J2wc5Gd5HhJM"
      }
    },
    {
      "cell_type": "code",
      "source": [
        "users = df.user_id.unique()\n",
        "n_posts = [len(df[df['user_id']== u]) for u in users]\n",
        "df_user = pd.DataFrame({'id':users,\n",
        "                             'n_posts': n_posts})"
      ],
      "metadata": {
        "id": "JKpEqrdeac5K"
      },
      "execution_count": 204,
      "outputs": []
    },
    {
      "cell_type": "code",
      "source": [
        "%%time\n",
        "# average interactions per post\n",
        "for i,r in df.iterrows():\n",
        "    row = df.at[i, 'tweet']\n",
        "    sub_df = df[df['tweet'] == row]\n",
        "    n_int = 0\n",
        "    if ( abs(sub_df['created_at'].diff()) ).sum() < timedelta(hours = 4): #only take into account the tweets that are created within approximately 4 hours\n",
        "        n_int = n_int + np.sum(sub_df['likes_count'] + sub_df['retweets_count'] + sub_df['replies_count'])\n",
        "        df.at[i,'avg_int'] = round(float( n_int / df_user.loc[df_user['id']==df.iloc[i]['user_id'], 'n_posts'] ),2)\n",
        "    else:\n",
        "        origin = df.index[(df['tweet']==row) & (df['created_at']==min(sub_df['created_at']))][0] #the original tweet index\n",
        "        n_int = n_int + np.sum(df.iloc[origin]['likes_count'] + df.iloc[origin]['retweets_count'] + df.iloc[origin]['replies_count'])\n",
        "        df.at[origin,'avg_int'] = round(float( n_int / df_user.loc[df_user['id']==df.iloc[i]['user_id'], 'n_posts'] ),2)\n"
      ],
      "metadata": {
        "id": "43ioOSbfpA2a",
        "colab": {
          "base_uri": "https://localhost:8080/"
        },
        "outputId": "441348b1-9f1b-4e4f-8f65-1565c4642f05"
      },
      "execution_count": 205,
      "outputs": [
        {
          "output_type": "stream",
          "name": "stdout",
          "text": [
            "CPU times: user 1min 30s, sys: 766 ms, total: 1min 31s\n",
            "Wall time: 1min 37s\n"
          ]
        }
      ]
    },
    {
      "cell_type": "code",
      "source": [
        "df.head(5)"
      ],
      "metadata": {
        "colab": {
          "base_uri": "https://localhost:8080/",
          "height": 354
        },
        "id": "ILMOoIZ-QHC9",
        "outputId": "67796524-deea-482c-f966-9273325f2416"
      },
      "execution_count": 206,
      "outputs": [
        {
          "output_type": "execute_result",
          "data": {
            "text/plain": [
              "           created_at              user_id  username  \\\n",
              "0 2021-02-10 23:59:59  1127431975520882688   maudi63   \n",
              "1 2021-02-10 23:59:58            793331593   tee_asz   \n",
              "2 2021-02-10 23:59:58            386317180  swtlovex   \n",
              "3 2021-02-10 23:59:56  1264612627516293121  kiergzn_   \n",
              "4 2021-02-10 23:59:56            265209421   mewiyev   \n",
              "\n",
              "                                                                                                                                                                                                     tweet  \\\n",
              "0  @Timodc I just looked up where he grew up. Lowell, Massachusetts. I live near there now. My 3 kids all got their degrees the same place as him, UMass Lowell. There were lots of ‘tough towns’ in MA...   \n",
              "1                                                                               Good morning to the ICAC commissioners in NSW who were doing the job they were tasked to do and enforcing the rule of law.   \n",
              "2                                          U see some of us that can’t dance just like Whitemoney? U have no idea how we dance beautifully in our heads.   The only problem is the execution in real steps   \n",
              "3                                                                                                         Thank you for all the killings and making the country more divided EVER in history. #SalamatPRRD   \n",
              "4                                                                                                                                  the bookworm swordsman #Xingqiu #GenshinImapct  https://t.co/OpVuz7rAG6   \n",
              "\n",
              "   replies_count  retweets_count  likes_count  avg_int  \n",
              "0             28              13          214    255.0  \n",
              "1              7             107          584    698.0  \n",
              "2              8              10           41     59.0  \n",
              "3              5              17          125    147.0  \n",
              "4              1             101          534    636.0  "
            ],
            "text/html": [
              "\n",
              "  <div id=\"df-2a226960-b536-4852-9f37-36e423b3e670\">\n",
              "    <div class=\"colab-df-container\">\n",
              "      <div>\n",
              "<style scoped>\n",
              "    .dataframe tbody tr th:only-of-type {\n",
              "        vertical-align: middle;\n",
              "    }\n",
              "\n",
              "    .dataframe tbody tr th {\n",
              "        vertical-align: top;\n",
              "    }\n",
              "\n",
              "    .dataframe thead th {\n",
              "        text-align: right;\n",
              "    }\n",
              "</style>\n",
              "<table border=\"1\" class=\"dataframe\">\n",
              "  <thead>\n",
              "    <tr style=\"text-align: right;\">\n",
              "      <th></th>\n",
              "      <th>created_at</th>\n",
              "      <th>user_id</th>\n",
              "      <th>username</th>\n",
              "      <th>tweet</th>\n",
              "      <th>replies_count</th>\n",
              "      <th>retweets_count</th>\n",
              "      <th>likes_count</th>\n",
              "      <th>avg_int</th>\n",
              "    </tr>\n",
              "  </thead>\n",
              "  <tbody>\n",
              "    <tr>\n",
              "      <th>0</th>\n",
              "      <td>2021-02-10 23:59:59</td>\n",
              "      <td>1127431975520882688</td>\n",
              "      <td>maudi63</td>\n",
              "      <td>@Timodc I just looked up where he grew up. Lowell, Massachusetts. I live near there now. My 3 kids all got their degrees the same place as him, UMass Lowell. There were lots of ‘tough towns’ in MA...</td>\n",
              "      <td>28</td>\n",
              "      <td>13</td>\n",
              "      <td>214</td>\n",
              "      <td>255.0</td>\n",
              "    </tr>\n",
              "    <tr>\n",
              "      <th>1</th>\n",
              "      <td>2021-02-10 23:59:58</td>\n",
              "      <td>793331593</td>\n",
              "      <td>tee_asz</td>\n",
              "      <td>Good morning to the ICAC commissioners in NSW who were doing the job they were tasked to do and enforcing the rule of law.</td>\n",
              "      <td>7</td>\n",
              "      <td>107</td>\n",
              "      <td>584</td>\n",
              "      <td>698.0</td>\n",
              "    </tr>\n",
              "    <tr>\n",
              "      <th>2</th>\n",
              "      <td>2021-02-10 23:59:58</td>\n",
              "      <td>386317180</td>\n",
              "      <td>swtlovex</td>\n",
              "      <td>U see some of us that can’t dance just like Whitemoney? U have no idea how we dance beautifully in our heads.   The only problem is the execution in real steps</td>\n",
              "      <td>8</td>\n",
              "      <td>10</td>\n",
              "      <td>41</td>\n",
              "      <td>59.0</td>\n",
              "    </tr>\n",
              "    <tr>\n",
              "      <th>3</th>\n",
              "      <td>2021-02-10 23:59:56</td>\n",
              "      <td>1264612627516293121</td>\n",
              "      <td>kiergzn_</td>\n",
              "      <td>Thank you for all the killings and making the country more divided EVER in history. #SalamatPRRD</td>\n",
              "      <td>5</td>\n",
              "      <td>17</td>\n",
              "      <td>125</td>\n",
              "      <td>147.0</td>\n",
              "    </tr>\n",
              "    <tr>\n",
              "      <th>4</th>\n",
              "      <td>2021-02-10 23:59:56</td>\n",
              "      <td>265209421</td>\n",
              "      <td>mewiyev</td>\n",
              "      <td>the bookworm swordsman #Xingqiu #GenshinImapct  https://t.co/OpVuz7rAG6</td>\n",
              "      <td>1</td>\n",
              "      <td>101</td>\n",
              "      <td>534</td>\n",
              "      <td>636.0</td>\n",
              "    </tr>\n",
              "  </tbody>\n",
              "</table>\n",
              "</div>\n",
              "      <button class=\"colab-df-convert\" onclick=\"convertToInteractive('df-2a226960-b536-4852-9f37-36e423b3e670')\"\n",
              "              title=\"Convert this dataframe to an interactive table.\"\n",
              "              style=\"display:none;\">\n",
              "        \n",
              "  <svg xmlns=\"http://www.w3.org/2000/svg\" height=\"24px\"viewBox=\"0 0 24 24\"\n",
              "       width=\"24px\">\n",
              "    <path d=\"M0 0h24v24H0V0z\" fill=\"none\"/>\n",
              "    <path d=\"M18.56 5.44l.94 2.06.94-2.06 2.06-.94-2.06-.94-.94-2.06-.94 2.06-2.06.94zm-11 1L8.5 8.5l.94-2.06 2.06-.94-2.06-.94L8.5 2.5l-.94 2.06-2.06.94zm10 10l.94 2.06.94-2.06 2.06-.94-2.06-.94-.94-2.06-.94 2.06-2.06.94z\"/><path d=\"M17.41 7.96l-1.37-1.37c-.4-.4-.92-.59-1.43-.59-.52 0-1.04.2-1.43.59L10.3 9.45l-7.72 7.72c-.78.78-.78 2.05 0 2.83L4 21.41c.39.39.9.59 1.41.59.51 0 1.02-.2 1.41-.59l7.78-7.78 2.81-2.81c.8-.78.8-2.07 0-2.86zM5.41 20L4 18.59l7.72-7.72 1.47 1.35L5.41 20z\"/>\n",
              "  </svg>\n",
              "      </button>\n",
              "      \n",
              "  <style>\n",
              "    .colab-df-container {\n",
              "      display:flex;\n",
              "      flex-wrap:wrap;\n",
              "      gap: 12px;\n",
              "    }\n",
              "\n",
              "    .colab-df-convert {\n",
              "      background-color: #E8F0FE;\n",
              "      border: none;\n",
              "      border-radius: 50%;\n",
              "      cursor: pointer;\n",
              "      display: none;\n",
              "      fill: #1967D2;\n",
              "      height: 32px;\n",
              "      padding: 0 0 0 0;\n",
              "      width: 32px;\n",
              "    }\n",
              "\n",
              "    .colab-df-convert:hover {\n",
              "      background-color: #E2EBFA;\n",
              "      box-shadow: 0px 1px 2px rgba(60, 64, 67, 0.3), 0px 1px 3px 1px rgba(60, 64, 67, 0.15);\n",
              "      fill: #174EA6;\n",
              "    }\n",
              "\n",
              "    [theme=dark] .colab-df-convert {\n",
              "      background-color: #3B4455;\n",
              "      fill: #D2E3FC;\n",
              "    }\n",
              "\n",
              "    [theme=dark] .colab-df-convert:hover {\n",
              "      background-color: #434B5C;\n",
              "      box-shadow: 0px 1px 3px 1px rgba(0, 0, 0, 0.15);\n",
              "      filter: drop-shadow(0px 1px 2px rgba(0, 0, 0, 0.3));\n",
              "      fill: #FFFFFF;\n",
              "    }\n",
              "  </style>\n",
              "\n",
              "      <script>\n",
              "        const buttonEl =\n",
              "          document.querySelector('#df-2a226960-b536-4852-9f37-36e423b3e670 button.colab-df-convert');\n",
              "        buttonEl.style.display =\n",
              "          google.colab.kernel.accessAllowed ? 'block' : 'none';\n",
              "\n",
              "        async function convertToInteractive(key) {\n",
              "          const element = document.querySelector('#df-2a226960-b536-4852-9f37-36e423b3e670');\n",
              "          const dataTable =\n",
              "            await google.colab.kernel.invokeFunction('convertToInteractive',\n",
              "                                                     [key], {});\n",
              "          if (!dataTable) return;\n",
              "\n",
              "          const docLinkHtml = 'Like what you see? Visit the ' +\n",
              "            '<a target=\"_blank\" href=https://colab.research.google.com/notebooks/data_table.ipynb>data table notebook</a>'\n",
              "            + ' to learn more about interactive tables.';\n",
              "          element.innerHTML = '';\n",
              "          dataTable['output_type'] = 'display_data';\n",
              "          await google.colab.output.renderOutput(dataTable, element);\n",
              "          const docLink = document.createElement('div');\n",
              "          docLink.innerHTML = docLinkHtml;\n",
              "          element.appendChild(docLink);\n",
              "        }\n",
              "      </script>\n",
              "    </div>\n",
              "  </div>\n",
              "  "
            ]
          },
          "metadata": {},
          "execution_count": 206
        }
      ]
    },
    {
      "cell_type": "code",
      "source": [
        "df.hist(['avg_int'],bins=30, log=True, figsize=(7,4))"
      ],
      "metadata": {
        "colab": {
          "base_uri": "https://localhost:8080/",
          "height": 315
        },
        "id": "rVQlAHAOQbEL",
        "outputId": "8aa52238-9ff4-4351-8f40-fa9e8ff493de"
      },
      "execution_count": 215,
      "outputs": [
        {
          "output_type": "execute_result",
          "data": {
            "text/plain": [
              "array([[<matplotlib.axes._subplots.AxesSubplot object at 0x7f3c116e9fd0>]],\n",
              "      dtype=object)"
            ]
          },
          "metadata": {},
          "execution_count": 215
        },
        {
          "output_type": "display_data",
          "data": {
            "text/plain": [
              "<Figure size 504x288 with 1 Axes>"
            ],
            "image/png": "[encoded data removed]"
          },
          "metadata": {
            "needs_background": "light"
          }
        }
      ]
    },
    {
      "cell_type": "markdown",
      "source": [
        "# Second Metric | Passion Point"
      ],
      "metadata": {
        "id": "ouCAsLo_LxsF"
      }
    },
    {
      "cell_type": "markdown",
      "source": [
        "For this part we need to label positive and negative tweets. <br/>\n",
        "Since _emojis_ are the most common seperators of negative and positive tweets, I will annotate the dataset mainly based on those in my first attempt."
      ],
      "metadata": {
        "id": "0g7XwNfFVEML"
      }
    },
    {
      "cell_type": "code",
      "source": [
        "semantic_list = []\n",
        "for i,r in df.iterrows():\n",
        "    for word in df.at[i,'tweet'].lower().split(\" \"):\n",
        "        # positive\n",
        "        if word in[':)', ':p', ':d', ':-)', ':))', 'love', 'great', 'thanks', 'thank', 'happy', 'nice', 'good', 'love', 'awesome', '&lt;3', 'follow']:\n",
        "            semantic_list.append(1)\n",
        "        # negative\n",
        "        elif word in[':(((', ':((', ':(', ':-(', 'sad', 'miss', 'sorry']:\n",
        "            semantic_list.append(0)\n",
        "        else:\n",
        "            semantic_list.append(0)\n",
        "\n",
        "print(f'Total number of tweets annonated as positive = {np.sum(semantic_list)}')"
      ],
      "metadata": {
        "colab": {
          "base_uri": "https://localhost:8080/"
        },
        "id": "PrQohjfOmkjk",
        "outputId": "d3741483-d186-40a0-b4a8-67f433dde362"
      },
      "execution_count": null,
      "outputs": [
        {
          "output_type": "stream",
          "name": "stdout",
          "text": [
            "Total number of tweets annonated as positive = 2572\n"
          ]
        }
      ]
    },
    {
      "cell_type": "markdown",
      "source": [
        "So, this annotation is likely to be biased since it considers only a few expressions. <br/>\n",
        "Therefore I will use **transfer learning** to annotate tweets."
      ],
      "metadata": {
        "id": "ihqZCme36bJA"
      }
    },
    {
      "cell_type": "markdown",
      "source": [
        "### Download saved model"
      ],
      "metadata": {
        "id": "pBlzavgE-O9S"
      }
    },
    {
      "cell_type": "code",
      "source": [
        "from google.colab import drive\n",
        "drive.mount('/content/drive')\n",
        "os.environ['KAGGLE_CONFIG_DIR'] = \"/content/drive/My Drive\"\n",
        "if os.path.isdir('~/.kaggle')==0:\n",
        "    os.makedirs('~/.kaggle')\n",
        "! cp /content/drive/MyDrive/kaggle.json ~/.kaggle/kaggle.json"
      ],
      "metadata": {
        "id": "UZQOMV49WXYz",
        "colab": {
          "base_uri": "https://localhost:8080/"
        },
        "outputId": "5ff141ea-7a73-454b-98cf-cdbed88d2e52"
      },
      "execution_count": null,
      "outputs": [
        {
          "output_type": "stream",
          "name": "stdout",
          "text": [
            "Mounted at /content/drive\n",
            "cp: cannot create regular file '/root/.kaggle/kaggle.json': No such file or directory\n"
          ]
        }
      ]
    },
    {
      "cell_type": "code",
      "source": [
        "# download saved model\n",
        "!kaggle kernels output paoloripamonti/twitter-sentiment-analysis"
      ],
      "metadata": {
        "colab": {
          "base_uri": "https://localhost:8080/"
        },
        "id": "FU266GqaQUNT",
        "outputId": "e08a1fd3-52a2-4ff6-caa5-5da05091dfa3"
      },
      "execution_count": null,
      "outputs": [
        {
          "output_type": "stream",
          "name": "stdout",
          "text": [
            "Output file downloaded to /content/encoder.pkl\n",
            "Output file downloaded to /content/model.h5\n",
            "Output file downloaded to /content/model.w2v\n",
            "Output file downloaded to /content/tokenizer.pkl\n",
            "Kernel log downloaded to /content/twitter-sentiment-analysis.log \n"
          ]
        }
      ]
    },
    {
      "cell_type": "markdown",
      "source": [
        "### Tokenize text"
      ],
      "metadata": {
        "id": "vZFQuf7uRO-n"
      }
    },
    {
      "cell_type": "markdown",
      "source": [
        "In order to use the saved model, I have to use the same tokenizer as the model was trained on. <br/>\n",
        "The downside to this is that the model won't observe new words from my dataset. However the vocabulary is large enough to yield nice results."
      ],
      "metadata": {
        "id": "Cdu2TjoqkjqG"
      }
    },
    {
      "cell_type": "code",
      "source": [
        "%%time\n",
        "with open('tokenizer.pkl', 'rb') as tk:\n",
        "    tokenizer = pickle.load(tk)\n",
        "\n",
        "vocab_size = len(tokenizer.word_index) + 1\n",
        "print(\"Total words\", vocab_size)"
      ],
      "metadata": {
        "colab": {
          "base_uri": "https://localhost:8080/"
        },
        "id": "7u2pWKhbRRmm",
        "outputId": "0b5b5084-1132-46d1-8818-e41a11966375"
      },
      "execution_count": null,
      "outputs": [
        {
          "output_type": "stream",
          "name": "stdout",
          "text": [
            "Total words 290419\n",
            "CPU times: user 653 ms, sys: 65.3 ms, total: 718 ms\n",
            "Wall time: 706 ms\n"
          ]
        }
      ]
    },
    {
      "cell_type": "markdown",
      "source": [
        "## Load model and predict"
      ],
      "metadata": {
        "id": "_fQ_OxsQRAi7"
      }
    },
    {
      "cell_type": "code",
      "source": [
        "model = keras.models.load_model('model.h5')\n",
        "model.summary()"
      ],
      "metadata": {
        "colab": {
          "base_uri": "https://localhost:8080/"
        },
        "id": "g6_8Qs_idnld",
        "outputId": "19789c14-f8be-4500-fed8-7b170add1877"
      },
      "execution_count": null,
      "outputs": [
        {
          "output_type": "stream",
          "name": "stdout",
          "text": [
            "Model: \"sequential_1\"\n",
            "_________________________________________________________________\n",
            " Layer (type)                Output Shape              Param #   \n",
            "=================================================================\n",
            " embedding_1 (Embedding)     (None, 300, 300)          87125700  \n",
            "                                                                 \n",
            " dropout_1 (Dropout)         (None, 300, 300)          0         \n",
            "                                                                 \n",
            " lstm_1 (LSTM)               (None, 100)               160400    \n",
            "                                                                 \n",
            " dense_1 (Dense)             (None, 1)                 101       \n",
            "                                                                 \n",
            "=================================================================\n",
            "Total params: 87,286,201\n",
            "Trainable params: 160,501\n",
            "Non-trainable params: 87,125,700\n",
            "_________________________________________________________________\n"
          ]
        }
      ]
    },
    {
      "cell_type": "markdown",
      "source": [
        "### Predict"
      ],
      "metadata": {
        "id": "SHJshaosSc-7"
      }
    },
    {
      "cell_type": "code",
      "source": [
        "def decode_sentiment(score, include_neutral=True):\n",
        "    if include_neutral:        \n",
        "        label = 'NEUTRAL'\n",
        "        if score <= 0.4:\n",
        "            label = 'NEGATIVE'\n",
        "        elif score >= 0.6:\n",
        "            label = 'POSITIVE'\n",
        "\n",
        "        return label\n",
        "    else:\n",
        "        return 'NEGATIVE' if score < 0.5 else 'POSITIVE'"
      ],
      "metadata": {
        "id": "nFVWjn_NSfOr"
      },
      "execution_count": null,
      "outputs": []
    },
    {
      "cell_type": "code",
      "source": [
        "def predict(text, include_neutral=True):\n",
        "    start_at = time.time()\n",
        "    # Tokenize text\n",
        "    x_test = pad_sequences(tokenizer.texts_to_sequences([text]), maxlen=300)\n",
        "    # Predict\n",
        "    score = model.predict([x_test])[0]\n",
        "    # Decode sentiment\n",
        "    label = decode_sentiment(score, include_neutral=include_neutral)\n",
        "\n",
        "    return {\"label\": label, \"score\": float(score),\n",
        "       \"elapsed_time\": time.time()-start_at}  "
      ],
      "metadata": {
        "id": "4aFUly2hSjS7"
      },
      "execution_count": null,
      "outputs": []
    },
    {
      "cell_type": "code",
      "source": [
        "%%time\n",
        "for i,r in df.iterrows():\n",
        "    df.at[i, 'semantic'] = predict(df.at[i, 'tweet'])['label']"
      ],
      "metadata": {
        "colab": {
          "base_uri": "https://localhost:8080/"
        },
        "id": "lE3Lhh8tUcvp",
        "outputId": "1778af76-0682-40e7-a448-664489c49b70"
      },
      "execution_count": null,
      "outputs": [
        {
          "output_type": "stream",
          "name": "stdout",
          "text": [
            "CPU times: user 40min 29s, sys: 37.5 s, total: 41min 6s\n",
            "Wall time: 28min 52s\n"
          ]
        }
      ]
    },
    {
      "cell_type": "code",
      "source": [
        "df.tail()"
      ],
      "metadata": {
        "colab": {
          "base_uri": "https://localhost:8080/",
          "height": 423
        },
        "id": "BtbbqiJksas3",
        "outputId": "40b74f24-8cb7-4c20-cd3d-7e8b74732664"
      },
      "execution_count": null,
      "outputs": [
        {
          "output_type": "execute_result",
          "data": {
            "text/plain": [
              "               created_at              user_id         username  \\\n",
              "17508 2021-02-10 23:52:51  1348203628910108681         _tannie5   \n",
              "17509 2021-02-10 23:52:51            418171272       thedano9er   \n",
              "17510 2021-02-10 23:52:51  1378288666485747715  pinocchioplyric   \n",
              "17511 2021-02-10 23:52:51           2777152740      leepavelich   \n",
              "17512 2021-02-10 23:52:51   923672752086757377   writtentherapy   \n",
              "\n",
              "                                                                                                                                                                                                         tweet  \\\n",
              "17508  @dylanbehavior @chartdata @coldplay @BTS_twt Deserved!😍💜 Its such  beautiful song, not just because the music and lyrics are incredible, but the message of love across boundaries and borders is so...   \n",
              "17509                                                                                                                           @spinnershells Can’t take credit, but love this idea.  https://t.co/84j3Uu1471   \n",
              "17510                                                                                                          Now with a smile worn down by the sands of time, I'm well on pace for my wrinkle-filled finale.   \n",
              "17511                                                                                                                                                     @tszzl @gbrl_dick The 100 Trillion-Year Boomer Reich   \n",
              "17512                                                                                              waking early to watch the creation of another day - light being born  #poetry #writing #storyin12 #creation   \n",
              "\n",
              "       replies_count  retweets_count  likes_count  n_posts  avg_int  semantic  \n",
              "17508              0               0            5      4.0        1  POSITIVE  \n",
              "17509              2               1           36      1.0       39  POSITIVE  \n",
              "17510              0               3            2      1.0        5  POSITIVE  \n",
              "17511              1               1            9      1.0       11   NEUTRAL  \n",
              "17512              0               2            8      2.0        5  POSITIVE  "
            ],
            "text/html": [
              "\n",
              "  <div id=\"df-07470ceb-cd6b-44f9-b46e-1e72cc4e97a5\">\n",
              "    <div class=\"colab-df-container\">\n",
              "      <div>\n",
              "<style scoped>\n",
              "    .dataframe tbody tr th:only-of-type {\n",
              "        vertical-align: middle;\n",
              "    }\n",
              "\n",
              "    .dataframe tbody tr th {\n",
              "        vertical-align: top;\n",
              "    }\n",
              "\n",
              "    .dataframe thead th {\n",
              "        text-align: right;\n",
              "    }\n",
              "</style>\n",
              "<table border=\"1\" class=\"dataframe\">\n",
              "  <thead>\n",
              "    <tr style=\"text-align: right;\">\n",
              "      <th></th>\n",
              "      <th>created_at</th>\n",
              "      <th>user_id</th>\n",
              "      <th>username</th>\n",
              "      <th>tweet</th>\n",
              "      <th>replies_count</th>\n",
              "      <th>retweets_count</th>\n",
              "      <th>likes_count</th>\n",
              "      <th>n_posts</th>\n",
              "      <th>avg_int</th>\n",
              "      <th>semantic</th>\n",
              "    </tr>\n",
              "  </thead>\n",
              "  <tbody>\n",
              "    <tr>\n",
              "      <th>17508</th>\n",
              "      <td>2021-02-10 23:52:51</td>\n",
              "      <td>1348203628910108681</td>\n",
              "      <td>_tannie5</td>\n",
              "      <td>@dylanbehavior @chartdata @coldplay @BTS_twt Deserved!😍💜 Its such  beautiful song, not just because the music and lyrics are incredible, but the message of love across boundaries and borders is so...</td>\n",
              "      <td>0</td>\n",
              "      <td>0</td>\n",
              "      <td>5</td>\n",
              "      <td>4.0</td>\n",
              "      <td>1</td>\n",
              "      <td>POSITIVE</td>\n",
              "    </tr>\n",
              "    <tr>\n",
              "      <th>17509</th>\n",
              "      <td>2021-02-10 23:52:51</td>\n",
              "      <td>418171272</td>\n",
              "      <td>thedano9er</td>\n",
              "      <td>@spinnershells Can’t take credit, but love this idea.  https://t.co/84j3Uu1471</td>\n",
              "      <td>2</td>\n",
              "      <td>1</td>\n",
              "      <td>36</td>\n",
              "      <td>1.0</td>\n",
              "      <td>39</td>\n",
              "      <td>POSITIVE</td>\n",
              "    </tr>\n",
              "    <tr>\n",
              "      <th>17510</th>\n",
              "      <td>2021-02-10 23:52:51</td>\n",
              "      <td>1378288666485747715</td>\n",
              "      <td>pinocchioplyric</td>\n",
              "      <td>Now with a smile worn down by the sands of time, I'm well on pace for my wrinkle-filled finale.</td>\n",
              "      <td>0</td>\n",
              "      <td>3</td>\n",
              "      <td>2</td>\n",
              "      <td>1.0</td>\n",
              "      <td>5</td>\n",
              "      <td>POSITIVE</td>\n",
              "    </tr>\n",
              "    <tr>\n",
              "      <th>17511</th>\n",
              "      <td>2021-02-10 23:52:51</td>\n",
              "      <td>2777152740</td>\n",
              "      <td>leepavelich</td>\n",
              "      <td>@tszzl @gbrl_dick The 100 Trillion-Year Boomer Reich</td>\n",
              "      <td>1</td>\n",
              "      <td>1</td>\n",
              "      <td>9</td>\n",
              "      <td>1.0</td>\n",
              "      <td>11</td>\n",
              "      <td>NEUTRAL</td>\n",
              "    </tr>\n",
              "    <tr>\n",
              "      <th>17512</th>\n",
              "      <td>2021-02-10 23:52:51</td>\n",
              "      <td>923672752086757377</td>\n",
              "      <td>writtentherapy</td>\n",
              "      <td>waking early to watch the creation of another day - light being born  #poetry #writing #storyin12 #creation</td>\n",
              "      <td>0</td>\n",
              "      <td>2</td>\n",
              "      <td>8</td>\n",
              "      <td>2.0</td>\n",
              "      <td>5</td>\n",
              "      <td>POSITIVE</td>\n",
              "    </tr>\n",
              "  </tbody>\n",
              "</table>\n",
              "</div>\n",
              "      <button class=\"colab-df-convert\" onclick=\"convertToInteractive('df-07470ceb-cd6b-44f9-b46e-1e72cc4e97a5')\"\n",
              "              title=\"Convert this dataframe to an interactive table.\"\n",
              "              style=\"display:none;\">\n",
              "        \n",
              "  <svg xmlns=\"http://www.w3.org/2000/svg\" height=\"24px\"viewBox=\"0 0 24 24\"\n",
              "       width=\"24px\">\n",
              "    <path d=\"M0 0h24v24H0V0z\" fill=\"none\"/>\n",
              "    <path d=\"M18.56 5.44l.94 2.06.94-2.06 2.06-.94-2.06-.94-.94-2.06-.94 2.06-2.06.94zm-11 1L8.5 8.5l.94-2.06 2.06-.94-2.06-.94L8.5 2.5l-.94 2.06-2.06.94zm10 10l.94 2.06.94-2.06 2.06-.94-2.06-.94-.94-2.06-.94 2.06-2.06.94z\"/><path d=\"M17.41 7.96l-1.37-1.37c-.4-.4-.92-.59-1.43-.59-.52 0-1.04.2-1.43.59L10.3 9.45l-7.72 7.72c-.78.78-.78 2.05 0 2.83L4 21.41c.39.39.9.59 1.41.59.51 0 1.02-.2 1.41-.59l7.78-7.78 2.81-2.81c.8-.78.8-2.07 0-2.86zM5.41 20L4 18.59l7.72-7.72 1.47 1.35L5.41 20z\"/>\n",
              "  </svg>\n",
              "      </button>\n",
              "      \n",
              "  <style>\n",
              "    .colab-df-container {\n",
              "      display:flex;\n",
              "      flex-wrap:wrap;\n",
              "      gap: 12px;\n",
              "    }\n",
              "\n",
              "    .colab-df-convert {\n",
              "      background-color: #E8F0FE;\n",
              "      border: none;\n",
              "      border-radius: 50%;\n",
              "      cursor: pointer;\n",
              "      display: none;\n",
              "      fill: #1967D2;\n",
              "      height: 32px;\n",
              "      padding: 0 0 0 0;\n",
              "      width: 32px;\n",
              "    }\n",
              "\n",
              "    .colab-df-convert:hover {\n",
              "      background-color: #E2EBFA;\n",
              "      box-shadow: 0px 1px 2px rgba(60, 64, 67, 0.3), 0px 1px 3px 1px rgba(60, 64, 67, 0.15);\n",
              "      fill: #174EA6;\n",
              "    }\n",
              "\n",
              "    [theme=dark] .colab-df-convert {\n",
              "      background-color: #3B4455;\n",
              "      fill: #D2E3FC;\n",
              "    }\n",
              "\n",
              "    [theme=dark] .colab-df-convert:hover {\n",
              "      background-color: #434B5C;\n",
              "      box-shadow: 0px 1px 3px 1px rgba(0, 0, 0, 0.15);\n",
              "      filter: drop-shadow(0px 1px 2px rgba(0, 0, 0, 0.3));\n",
              "      fill: #FFFFFF;\n",
              "    }\n",
              "  </style>\n",
              "\n",
              "      <script>\n",
              "        const buttonEl =\n",
              "          document.querySelector('#df-07470ceb-cd6b-44f9-b46e-1e72cc4e97a5 button.colab-df-convert');\n",
              "        buttonEl.style.display =\n",
              "          google.colab.kernel.accessAllowed ? 'block' : 'none';\n",
              "\n",
              "        async function convertToInteractive(key) {\n",
              "          const element = document.querySelector('#df-07470ceb-cd6b-44f9-b46e-1e72cc4e97a5');\n",
              "          const dataTable =\n",
              "            await google.colab.kernel.invokeFunction('convertToInteractive',\n",
              "                                                     [key], {});\n",
              "          if (!dataTable) return;\n",
              "\n",
              "          const docLinkHtml = 'Like what you see? Visit the ' +\n",
              "            '<a target=\"_blank\" href=https://colab.research.google.com/notebooks/data_table.ipynb>data table notebook</a>'\n",
              "            + ' to learn more about interactive tables.';\n",
              "          element.innerHTML = '';\n",
              "          dataTable['output_type'] = 'display_data';\n",
              "          await google.colab.output.renderOutput(dataTable, element);\n",
              "          const docLink = document.createElement('div');\n",
              "          docLink.innerHTML = docLinkHtml;\n",
              "          element.appendChild(docLink);\n",
              "        }\n",
              "      </script>\n",
              "    </div>\n",
              "  </div>\n",
              "  "
            ]
          },
          "metadata": {},
          "execution_count": 17
        }
      ]
    },
    {
      "cell_type": "code",
      "source": [
        "df.to_csv('drive/MyDrive/semantic_analysed_tweets.csv')"
      ],
      "metadata": {
        "id": "YUQtnGu8HavN"
      },
      "execution_count": null,
      "outputs": []
    },
    {
      "cell_type": "code",
      "source": [
        "# no. of positive posts of each user\n",
        "df_user['n_positives'] = [len(df.loc[(df['user_id']== i) & (df['semantic'] == 'POSITIVE')]) for i in users]"
      ],
      "metadata": {
        "id": "S16JRdV1ugVb"
      },
      "execution_count": null,
      "outputs": []
    },
    {
      "cell_type": "code",
      "source": [
        "df_user.hist(['n_positives'],log=True)"
      ],
      "metadata": {
        "colab": {
          "base_uri": "https://localhost:8080/",
          "height": 315
        },
        "id": "ybcu0M2sU6qn",
        "outputId": "a78aec4f-41c4-4d95-f07b-de12aac4edaa"
      },
      "execution_count": null,
      "outputs": [
        {
          "output_type": "execute_result",
          "data": {
            "text/plain": [
              "array([[<matplotlib.axes._subplots.AxesSubplot object at 0x7fc4dd79c310>]],\n",
              "      dtype=object)"
            ]
          },
          "metadata": {},
          "execution_count": 62
        },
        {
          "output_type": "display_data",
          "data": {
            "text/plain": [
              "<Figure size 432x288 with 1 Axes>"
            ],
            "image/png": "[encoded data removed]"
          },
          "metadata": {
            "needs_background": "light"
          }
        }
      ]
    },
    {
      "cell_type": "code",
      "source": [
        "# ranking of users\n",
        "def rank_user(n_plus, n_post):\n",
        "    z = 1.96 # for 95% confidence level\n",
        "    r = n_plus/n_post\n",
        "    return  float(( r + z**2/(2*n_post) ) / (1 + z**2/n_post) - z/ (1+ z**2/n_post)*np.sqrt(r*(1-r)/n_post + z**2/(4*n_post**2)) )\n",
        "\n",
        "# passion point of users\n",
        "def ppoint(n_plus, rank, n_day, n_post):\n",
        "    return round(float( n_plus/n_day * (rank + np.log(n_post)) ),3)"
      ],
      "metadata": {
        "id": "wr5O5tRXauZT"
      },
      "execution_count": null,
      "outputs": []
    },
    {
      "cell_type": "code",
      "source": [
        "n_positive = df_user['n_positives'].values\n",
        "n_post = df_user['n_posts'].values\n",
        "df_user['rank'] = [rank_user( n_positive[u] , n_post[u] ) for u in range(len(users))]\n",
        "\n",
        "n_day = [abs(df.loc[df['user_id'] == u, 'created_at'].diff()).sum().days for u in users]\n",
        "print(f'since all time daltas are equal to {np.sum(n_day)} days, I will put n_day = 1 for all datapoints.')\n",
        "\n",
        "rank = df_user['rank'].values\n",
        "df_user['ppoint'] = [ppoint(n_positive[u], rank[u], 1, n_post[u]) for u in range(len(users))]"
      ],
      "metadata": {
        "colab": {
          "base_uri": "https://localhost:8080/"
        },
        "id": "wkXdhay4axOV",
        "outputId": "649928a9-3ee1-498c-8a51-04667e2322a6"
      },
      "execution_count": null,
      "outputs": [
        {
          "output_type": "stream",
          "name": "stdout",
          "text": [
            "since all time daltas are equal to 0 days, I will put n_day = 1 for all datapoints.\n"
          ]
        }
      ]
    },
    {
      "cell_type": "code",
      "source": [
        "df_user.sort_values('ppoint', axis=0, ascending=False)"
      ],
      "metadata": {
        "colab": {
          "base_uri": "https://localhost:8080/",
          "height": 423
        },
        "id": "tTXKTwc2Xte7",
        "outputId": "d7169143-bf4f-4139-fa05-757032002f0a"
      },
      "execution_count": null,
      "outputs": [
        {
          "output_type": "execute_result",
          "data": {
            "text/plain": [
              "                        id  n_posts  n_positives          rank   ppoint\n",
              "106    1344497314052890625     39.0           33  7.027023e-01  144.087\n",
              "815     986480658888511488     15.0           15  7.961107e-01   52.562\n",
              "6191   1142549820797849601     12.0           12  7.574992e-01   38.909\n",
              "6890              32779145     11.0           11  7.411600e-01   34.530\n",
              "148                1917731     16.0            9  3.317820e-01   27.939\n",
              "...                    ...      ...          ...           ...      ...\n",
              "7645            3148707080      1.0            0 -5.551115e-17   -0.000\n",
              "7646   1195552169946238978      1.0            0 -5.551115e-17   -0.000\n",
              "7647   1017553698359271424      1.0            0 -5.551115e-17   -0.000\n",
              "7648              44239034      1.0            0 -5.551115e-17   -0.000\n",
              "15583           2777152740      1.0            0 -5.551115e-17   -0.000\n",
              "\n",
              "[15584 rows x 5 columns]"
            ],
            "text/html": [
              "\n",
              "  <div id=\"df-20a4b828-7c32-46dc-aa66-6d6c4c305274\">\n",
              "    <div class=\"colab-df-container\">\n",
              "      <div>\n",
              "<style scoped>\n",
              "    .dataframe tbody tr th:only-of-type {\n",
              "        vertical-align: middle;\n",
              "    }\n",
              "\n",
              "    .dataframe tbody tr th {\n",
              "        vertical-align: top;\n",
              "    }\n",
              "\n",
              "    .dataframe thead th {\n",
              "        text-align: right;\n",
              "    }\n",
              "</style>\n",
              "<table border=\"1\" class=\"dataframe\">\n",
              "  <thead>\n",
              "    <tr style=\"text-align: right;\">\n",
              "      <th></th>\n",
              "      <th>id</th>\n",
              "      <th>n_posts</th>\n",
              "      <th>n_positives</th>\n",
              "      <th>rank</th>\n",
              "      <th>ppoint</th>\n",
              "    </tr>\n",
              "  </thead>\n",
              "  <tbody>\n",
              "    <tr>\n",
              "      <th>106</th>\n",
              "      <td>1344497314052890625</td>\n",
              "      <td>39.0</td>\n",
              "      <td>33</td>\n",
              "      <td>7.027023e-01</td>\n",
              "      <td>144.087</td>\n",
              "    </tr>\n",
              "    <tr>\n",
              "      <th>815</th>\n",
              "      <td>986480658888511488</td>\n",
              "      <td>15.0</td>\n",
              "      <td>15</td>\n",
              "      <td>7.961107e-01</td>\n",
              "      <td>52.562</td>\n",
              "    </tr>\n",
              "    <tr>\n",
              "      <th>6191</th>\n",
              "      <td>1142549820797849601</td>\n",
              "      <td>12.0</td>\n",
              "      <td>12</td>\n",
              "      <td>7.574992e-01</td>\n",
              "      <td>38.909</td>\n",
              "    </tr>\n",
              "    <tr>\n",
              "      <th>6890</th>\n",
              "      <td>32779145</td>\n",
              "      <td>11.0</td>\n",
              "      <td>11</td>\n",
              "      <td>7.411600e-01</td>\n",
              "      <td>34.530</td>\n",
              "    </tr>\n",
              "    <tr>\n",
              "      <th>148</th>\n",
              "      <td>1917731</td>\n",
              "      <td>16.0</td>\n",
              "      <td>9</td>\n",
              "      <td>3.317820e-01</td>\n",
              "      <td>27.939</td>\n",
              "    </tr>\n",
              "    <tr>\n",
              "      <th>...</th>\n",
              "      <td>...</td>\n",
              "      <td>...</td>\n",
              "      <td>...</td>\n",
              "      <td>...</td>\n",
              "      <td>...</td>\n",
              "    </tr>\n",
              "    <tr>\n",
              "      <th>7645</th>\n",
              "      <td>3148707080</td>\n",
              "      <td>1.0</td>\n",
              "      <td>0</td>\n",
              "      <td>-5.551115e-17</td>\n",
              "      <td>-0.000</td>\n",
              "    </tr>\n",
              "    <tr>\n",
              "      <th>7646</th>\n",
              "      <td>1195552169946238978</td>\n",
              "      <td>1.0</td>\n",
              "      <td>0</td>\n",
              "      <td>-5.551115e-17</td>\n",
              "      <td>-0.000</td>\n",
              "    </tr>\n",
              "    <tr>\n",
              "      <th>7647</th>\n",
              "      <td>1017553698359271424</td>\n",
              "      <td>1.0</td>\n",
              "      <td>0</td>\n",
              "      <td>-5.551115e-17</td>\n",
              "      <td>-0.000</td>\n",
              "    </tr>\n",
              "    <tr>\n",
              "      <th>7648</th>\n",
              "      <td>44239034</td>\n",
              "      <td>1.0</td>\n",
              "      <td>0</td>\n",
              "      <td>-5.551115e-17</td>\n",
              "      <td>-0.000</td>\n",
              "    </tr>\n",
              "    <tr>\n",
              "      <th>15583</th>\n",
              "      <td>2777152740</td>\n",
              "      <td>1.0</td>\n",
              "      <td>0</td>\n",
              "      <td>-5.551115e-17</td>\n",
              "      <td>-0.000</td>\n",
              "    </tr>\n",
              "  </tbody>\n",
              "</table>\n",
              "<p>15584 rows × 5 columns</p>\n",
              "</div>\n",
              "      <button class=\"colab-df-convert\" onclick=\"convertToInteractive('df-20a4b828-7c32-46dc-aa66-6d6c4c305274')\"\n",
              "              title=\"Convert this dataframe to an interactive table.\"\n",
              "              style=\"display:none;\">\n",
              "        \n",
              "  <svg xmlns=\"http://www.w3.org/2000/svg\" height=\"24px\"viewBox=\"0 0 24 24\"\n",
              "       width=\"24px\">\n",
              "    <path d=\"M0 0h24v24H0V0z\" fill=\"none\"/>\n",
              "    <path d=\"M18.56 5.44l.94 2.06.94-2.06 2.06-.94-2.06-.94-.94-2.06-.94 2.06-2.06.94zm-11 1L8.5 8.5l.94-2.06 2.06-.94-2.06-.94L8.5 2.5l-.94 2.06-2.06.94zm10 10l.94 2.06.94-2.06 2.06-.94-2.06-.94-.94-2.06-.94 2.06-2.06.94z\"/><path d=\"M17.41 7.96l-1.37-1.37c-.4-.4-.92-.59-1.43-.59-.52 0-1.04.2-1.43.59L10.3 9.45l-7.72 7.72c-.78.78-.78 2.05 0 2.83L4 21.41c.39.39.9.59 1.41.59.51 0 1.02-.2 1.41-.59l7.78-7.78 2.81-2.81c.8-.78.8-2.07 0-2.86zM5.41 20L4 18.59l7.72-7.72 1.47 1.35L5.41 20z\"/>\n",
              "  </svg>\n",
              "      </button>\n",
              "      \n",
              "  <style>\n",
              "    .colab-df-container {\n",
              "      display:flex;\n",
              "      flex-wrap:wrap;\n",
              "      gap: 12px;\n",
              "    }\n",
              "\n",
              "    .colab-df-convert {\n",
              "      background-color: #E8F0FE;\n",
              "      border: none;\n",
              "      border-radius: 50%;\n",
              "      cursor: pointer;\n",
              "      display: none;\n",
              "      fill: #1967D2;\n",
              "      height: 32px;\n",
              "      padding: 0 0 0 0;\n",
              "      width: 32px;\n",
              "    }\n",
              "\n",
              "    .colab-df-convert:hover {\n",
              "      background-color: #E2EBFA;\n",
              "      box-shadow: 0px 1px 2px rgba(60, 64, 67, 0.3), 0px 1px 3px 1px rgba(60, 64, 67, 0.15);\n",
              "      fill: #174EA6;\n",
              "    }\n",
              "\n",
              "    [theme=dark] .colab-df-convert {\n",
              "      background-color: #3B4455;\n",
              "      fill: #D2E3FC;\n",
              "    }\n",
              "\n",
              "    [theme=dark] .colab-df-convert:hover {\n",
              "      background-color: #434B5C;\n",
              "      box-shadow: 0px 1px 3px 1px rgba(0, 0, 0, 0.15);\n",
              "      filter: drop-shadow(0px 1px 2px rgba(0, 0, 0, 0.3));\n",
              "      fill: #FFFFFF;\n",
              "    }\n",
              "  </style>\n",
              "\n",
              "      <script>\n",
              "        const buttonEl =\n",
              "          document.querySelector('#df-20a4b828-7c32-46dc-aa66-6d6c4c305274 button.colab-df-convert');\n",
              "        buttonEl.style.display =\n",
              "          google.colab.kernel.accessAllowed ? 'block' : 'none';\n",
              "\n",
              "        async function convertToInteractive(key) {\n",
              "          const element = document.querySelector('#df-20a4b828-7c32-46dc-aa66-6d6c4c305274');\n",
              "          const dataTable =\n",
              "            await google.colab.kernel.invokeFunction('convertToInteractive',\n",
              "                                                     [key], {});\n",
              "          if (!dataTable) return;\n",
              "\n",
              "          const docLinkHtml = 'Like what you see? Visit the ' +\n",
              "            '<a target=\"_blank\" href=https://colab.research.google.com/notebooks/data_table.ipynb>data table notebook</a>'\n",
              "            + ' to learn more about interactive tables.';\n",
              "          element.innerHTML = '';\n",
              "          dataTable['output_type'] = 'display_data';\n",
              "          await google.colab.output.renderOutput(dataTable, element);\n",
              "          const docLink = document.createElement('div');\n",
              "          docLink.innerHTML = docLinkHtml;\n",
              "          element.appendChild(docLink);\n",
              "        }\n",
              "      </script>\n",
              "    </div>\n",
              "  </div>\n",
              "  "
            ]
          },
          "metadata": {},
          "execution_count": 91
        }
      ]
    },
    {
      "cell_type": "markdown",
      "source": [
        "# Third Metric | Content Creation"
      ],
      "metadata": {
        "id": "xpma1HILYJh9"
      }
    },
    {
      "cell_type": "markdown",
      "source": [
        "## Pre-Process dataset"
      ],
      "metadata": {
        "id": "0ac_09VtWDDQ"
      }
    },
    {
      "cell_type": "code",
      "source": [
        "nltk.download('stopwords')\n",
        "stop_words = stopwords.words(\"english\")\n",
        "stemmer = SnowballStemmer(\"english\")\n",
        "TEXT_CLEANING_RE = \"@\\S+|https?:\\S+|http?:\\S|[^A-Za-z0-9]+\"\n",
        "\n",
        "def preprocess(text, stem=False):\n",
        "    # Remove link,user and special characters\n",
        "    text = re.sub(TEXT_CLEANING_RE, ' ', str(text).lower()).strip()\n",
        "    tokens = []\n",
        "    for token in text.split():\n",
        "        if token not in stop_words:\n",
        "            if stem:\n",
        "                tokens.append(stemmer.stem(token))\n",
        "            else:\n",
        "                tokens.append(token)\n",
        "    return tokens"
      ],
      "metadata": {
        "colab": {
          "base_uri": "https://localhost:8080/"
        },
        "id": "HfNkLnqRUnTE",
        "outputId": "e6727c1c-ec8a-4268-d7ea-cdebc6549967"
      },
      "execution_count": null,
      "outputs": [
        {
          "output_type": "stream",
          "name": "stdout",
          "text": [
            "[nltk_data] Downloading package stopwords to /root/nltk_data...\n",
            "[nltk_data]   Package stopwords is already up-to-date!\n"
          ]
        }
      ]
    },
    {
      "cell_type": "code",
      "source": [
        "%%time\n",
        "df_doc = df.tweet.apply(lambda x: preprocess(x))"
      ],
      "metadata": {
        "colab": {
          "base_uri": "https://localhost:8080/"
        },
        "id": "GP9TRspI-R73",
        "outputId": "54e6ede0-f107-4202-defe-0f16ffcc4b81"
      },
      "execution_count": null,
      "outputs": [
        {
          "output_type": "stream",
          "name": "stdout",
          "text": [
            "CPU times: user 1.65 s, sys: 21.9 ms, total: 1.67 s\n",
            "Wall time: 1.72 s\n"
          ]
        }
      ]
    },
    {
      "cell_type": "code",
      "source": [
        "%%time\n",
        "documents = [_text for _text in df_doc] "
      ],
      "metadata": {
        "colab": {
          "base_uri": "https://localhost:8080/"
        },
        "id": "AcagRnnj-VjL",
        "outputId": "c947f166-4877-4ba4-bc98-a96de7bc4ed9"
      },
      "execution_count": null,
      "outputs": [
        {
          "output_type": "stream",
          "name": "stdout",
          "text": [
            "CPU times: user 6.46 ms, sys: 0 ns, total: 6.46 ms\n",
            "Wall time: 6.46 ms\n"
          ]
        }
      ]
    },
    {
      "cell_type": "markdown",
      "source": [
        "In order to find the number of positive words in tweets, it's helpful to find the word similarities in tweets.\n",
        "\n"
      ],
      "metadata": {
        "id": "LXOmN-66YRCT"
      }
    },
    {
      "cell_type": "code",
      "source": [
        "#load the model\n",
        "w2v_model = gensim.models.word2vec.Word2Vec.load(\"model.w2v\")\n",
        "w2v_model.build_vocab(documents, update=True)\n",
        "words = w2v_model.wv.vocab.keys()\n",
        "vocab_size = len(words)\n",
        "print(\"Vocab size =\", vocab_size)"
      ],
      "metadata": {
        "colab": {
          "base_uri": "https://localhost:8080/"
        },
        "id": "eLBFLxs-8kUA",
        "outputId": "880f67a2-a0d9-4636-e95c-177c3d19fdde"
      },
      "execution_count": null,
      "outputs": [
        {
          "output_type": "stream",
          "name": "stdout",
          "text": [
            "Vocab size = 30577\n"
          ]
        }
      ]
    },
    {
      "cell_type": "markdown",
      "source": [
        "### Word2Vec"
      ],
      "metadata": {
        "id": "RRjTOhgJXf_Z"
      }
    },
    {
      "cell_type": "code",
      "source": [
        "# train the model\n",
        "%%time\n",
        "w2v_model.train(documents, total_examples=len(documents), epochs=32)"
      ],
      "metadata": {
        "colab": {
          "base_uri": "https://localhost:8080/"
        },
        "id": "oRF3SiY9FjuJ",
        "outputId": "759df14f-a345-4807-ac10-2375cd915a97"
      },
      "execution_count": null,
      "outputs": [
        {
          "metadata": {
            "tags": null
          },
          "name": "stdout",
          "output_type": "stream",
          "text": [
            "CPU times: user 36.3 s, sys: 227 ms, total: 36.5 s\n",
            "Wall time: 19.4 s\n"
          ]
        },
        {
          "data": {
            "text/plain": [
              "(6141736, 7290752)"
            ]
          },
          "execution_count": null,
          "metadata": {},
          "output_type": "execute_result"
        }
      ]
    },
    {
      "cell_type": "code",
      "source": [
        "suggest = ['love','happy', 'best', 'nice', 'thank', 'great', 'cheers','top','hi', 'follow','beautiful']\n",
        "words_scores = w2v_model.wv.most_similar(suggest, topn=300)\n",
        "positive_vocab =[]\n",
        "for i, w1 in enumerate(words_scores):\n",
        "    positive_vocab.append(w1[0])\n",
        "positive_vocab = np.concatenate((suggest, positive_vocab))"
      ],
      "metadata": {
        "id": "lsbOr0CfUcjp"
      },
      "execution_count": null,
      "outputs": []
    },
    {
      "cell_type": "code",
      "source": [
        "def n_pos_word(string_list, vocab):\n",
        "    w_pos= 0\n",
        "    for w in string_list:\n",
        "        if w in vocab:\n",
        "            w_pos += 1\n",
        "    return w_pos"
      ],
      "metadata": {
        "id": "_GB93AtV63V1"
      },
      "execution_count": null,
      "outputs": []
    },
    {
      "cell_type": "code",
      "source": [
        "%%time\n",
        "df['n_pos_words'] = df_doc.apply(lambda x: n_pos_word(x,positive_vocab))\n",
        "df['n_words'] = [len(df_doc[i]) for i in range(len(df_doc))]"
      ],
      "metadata": {
        "colab": {
          "base_uri": "https://localhost:8080/"
        },
        "id": "khd4GmaMADX0",
        "outputId": "57f65564-5af1-4881-d399-ddbc5bbb0a08"
      },
      "execution_count": null,
      "outputs": [
        {
          "output_type": "stream",
          "name": "stdout",
          "text": [
            "CPU times: user 2.95 s, sys: 15.6 ms, total: 2.97 s\n",
            "Wall time: 4.02 s\n"
          ]
        }
      ]
    },
    {
      "cell_type": "code",
      "source": [
        "%%time\n",
        "df_user['avg_words'] = [(np.sum(df.loc[df['user_id']== users[i], 'n_words'].values)/n_post[i]) for i in range(len(users))]"
      ],
      "metadata": {
        "colab": {
          "base_uri": "https://localhost:8080/"
        },
        "id": "Qi_83VV4HjRE",
        "outputId": "49d99eb4-60bb-41d7-9a83-54795d209271"
      },
      "execution_count": null,
      "outputs": [
        {
          "output_type": "stream",
          "name": "stdout",
          "text": [
            "CPU times: user 9.92 s, sys: 36.5 ms, total: 9.96 s\n",
            "Wall time: 22.6 s\n"
          ]
        }
      ]
    },
    {
      "cell_type": "code",
      "source": [
        "for i in range(len(users)):\n",
        "    w = df_user.at[i,'avg_words']\n",
        "    sub_df2 = df[df['n_words']>w]\n",
        "    quality = np.sum(sub_df2['n_pos_words'].values/sub_df2['n_words'].values)/len(sub_df2)\n",
        "    df_user.at[i,'quality'] = quality\n",
        "    df_user.at[i, 'content_score'] = np.log(quality) + df_user.at[i, 'ppoint']"
      ],
      "metadata": {
        "colab": {
          "base_uri": "https://localhost:8080/"
        },
        "id": "DUOWR-N7PAKI",
        "outputId": "9fd133d0-87c3-47d5-e202-e2e4a2f8136f"
      },
      "execution_count": null,
      "outputs": [
        {
          "output_type": "stream",
          "name": "stderr",
          "text": [
            "/usr/local/lib/python3.7/dist-packages/ipykernel_launcher.py:4: RuntimeWarning: invalid value encountered in double_scalars\n",
            "  after removing the cwd from sys.path.\n"
          ]
        }
      ]
    },
    {
      "cell_type": "code",
      "source": [
        "df_user.sort_values('content_score', ascending=False)"
      ],
      "metadata": {
        "colab": {
          "base_uri": "https://localhost:8080/",
          "height": 423
        },
        "id": "gzRemOXaNL7w",
        "outputId": "e5630ee7-76f9-4be7-a6d2-48633c7d9379"
      },
      "execution_count": null,
      "outputs": [
        {
          "output_type": "execute_result",
          "data": {
            "text/plain": [
              "                        id  n_posts  n_positives          rank   ppoint  \\\n",
              "106    1344497314052890625     39.0           33  7.027023e-01  144.087   \n",
              "815     986480658888511488     15.0           15  7.961107e-01   52.562   \n",
              "6191   1142549820797849601     12.0           12  7.574992e-01   38.909   \n",
              "6890              32779145     11.0           11  7.411600e-01   34.530   \n",
              "148                1917731     16.0            9  3.317820e-01   27.939   \n",
              "...                    ...      ...          ...           ...      ...   \n",
              "11354            111332093      1.0            0 -5.551115e-17   -0.000   \n",
              "15162            247081633      1.0            0 -5.551115e-17   -0.000   \n",
              "11356  1441178543723986945      1.0            0 -5.551115e-17   -0.000   \n",
              "8922             243301984      1.0            0 -5.551115e-17   -0.000   \n",
              "7689    850137218484187136      1.0            1  2.065433e-01    0.207   \n",
              "\n",
              "       avg_words   quality  content_score  \n",
              "106     4.564103  0.031130     140.617430  \n",
              "815     9.466667  0.028858      49.016638  \n",
              "6191   19.250000  0.025599      35.243793  \n",
              "6890   16.181818  0.026616      30.903761  \n",
              "148    10.562500  0.028575      24.383790  \n",
              "...          ...       ...            ...  \n",
              "11354  46.000000  0.008182      -4.805859  \n",
              "15162  57.000000  0.008013      -4.826688  \n",
              "11356  62.000000  0.007885      -4.842806  \n",
              "8922   60.000000  0.007168      -4.938117  \n",
              "7689   85.000000       NaN            NaN  \n",
              "\n",
              "[15584 rows x 8 columns]"
            ],
            "text/html": [
              "\n",
              "  <div id=\"df-b3ad5c33-7321-4134-a5cc-770ffdadc659\">\n",
              "    <div class=\"colab-df-container\">\n",
              "      <div>\n",
              "<style scoped>\n",
              "    .dataframe tbody tr th:only-of-type {\n",
              "        vertical-align: middle;\n",
              "    }\n",
              "\n",
              "    .dataframe tbody tr th {\n",
              "        vertical-align: top;\n",
              "    }\n",
              "\n",
              "    .dataframe thead th {\n",
              "        text-align: right;\n",
              "    }\n",
              "</style>\n",
              "<table border=\"1\" class=\"dataframe\">\n",
              "  <thead>\n",
              "    <tr style=\"text-align: right;\">\n",
              "      <th></th>\n",
              "      <th>id</th>\n",
              "      <th>n_posts</th>\n",
              "      <th>n_positives</th>\n",
              "      <th>rank</th>\n",
              "      <th>ppoint</th>\n",
              "      <th>avg_words</th>\n",
              "      <th>quality</th>\n",
              "      <th>content_score</th>\n",
              "    </tr>\n",
              "  </thead>\n",
              "  <tbody>\n",
              "    <tr>\n",
              "      <th>106</th>\n",
              "      <td>1344497314052890625</td>\n",
              "      <td>39.0</td>\n",
              "      <td>33</td>\n",
              "      <td>7.027023e-01</td>\n",
              "      <td>144.087</td>\n",
              "      <td>4.564103</td>\n",
              "      <td>0.031130</td>\n",
              "      <td>140.617430</td>\n",
              "    </tr>\n",
              "    <tr>\n",
              "      <th>815</th>\n",
              "      <td>986480658888511488</td>\n",
              "      <td>15.0</td>\n",
              "      <td>15</td>\n",
              "      <td>7.961107e-01</td>\n",
              "      <td>52.562</td>\n",
              "      <td>9.466667</td>\n",
              "      <td>0.028858</td>\n",
              "      <td>49.016638</td>\n",
              "    </tr>\n",
              "    <tr>\n",
              "      <th>6191</th>\n",
              "      <td>1142549820797849601</td>\n",
              "      <td>12.0</td>\n",
              "      <td>12</td>\n",
              "      <td>7.574992e-01</td>\n",
              "      <td>38.909</td>\n",
              "      <td>19.250000</td>\n",
              "      <td>0.025599</td>\n",
              "      <td>35.243793</td>\n",
              "    </tr>\n",
              "    <tr>\n",
              "      <th>6890</th>\n",
              "      <td>32779145</td>\n",
              "      <td>11.0</td>\n",
              "      <td>11</td>\n",
              "      <td>7.411600e-01</td>\n",
              "      <td>34.530</td>\n",
              "      <td>16.181818</td>\n",
              "      <td>0.026616</td>\n",
              "      <td>30.903761</td>\n",
              "    </tr>\n",
              "    <tr>\n",
              "      <th>148</th>\n",
              "      <td>1917731</td>\n",
              "      <td>16.0</td>\n",
              "      <td>9</td>\n",
              "      <td>3.317820e-01</td>\n",
              "      <td>27.939</td>\n",
              "      <td>10.562500</td>\n",
              "      <td>0.028575</td>\n",
              "      <td>24.383790</td>\n",
              "    </tr>\n",
              "    <tr>\n",
              "      <th>...</th>\n",
              "      <td>...</td>\n",
              "      <td>...</td>\n",
              "      <td>...</td>\n",
              "      <td>...</td>\n",
              "      <td>...</td>\n",
              "      <td>...</td>\n",
              "      <td>...</td>\n",
              "      <td>...</td>\n",
              "    </tr>\n",
              "    <tr>\n",
              "      <th>11354</th>\n",
              "      <td>111332093</td>\n",
              "      <td>1.0</td>\n",
              "      <td>0</td>\n",
              "      <td>-5.551115e-17</td>\n",
              "      <td>-0.000</td>\n",
              "      <td>46.000000</td>\n",
              "      <td>0.008182</td>\n",
              "      <td>-4.805859</td>\n",
              "    </tr>\n",
              "    <tr>\n",
              "      <th>15162</th>\n",
              "      <td>247081633</td>\n",
              "      <td>1.0</td>\n",
              "      <td>0</td>\n",
              "      <td>-5.551115e-17</td>\n",
              "      <td>-0.000</td>\n",
              "      <td>57.000000</td>\n",
              "      <td>0.008013</td>\n",
              "      <td>-4.826688</td>\n",
              "    </tr>\n",
              "    <tr>\n",
              "      <th>11356</th>\n",
              "      <td>1441178543723986945</td>\n",
              "      <td>1.0</td>\n",
              "      <td>0</td>\n",
              "      <td>-5.551115e-17</td>\n",
              "      <td>-0.000</td>\n",
              "      <td>62.000000</td>\n",
              "      <td>0.007885</td>\n",
              "      <td>-4.842806</td>\n",
              "    </tr>\n",
              "    <tr>\n",
              "      <th>8922</th>\n",
              "      <td>243301984</td>\n",
              "      <td>1.0</td>\n",
              "      <td>0</td>\n",
              "      <td>-5.551115e-17</td>\n",
              "      <td>-0.000</td>\n",
              "      <td>60.000000</td>\n",
              "      <td>0.007168</td>\n",
              "      <td>-4.938117</td>\n",
              "    </tr>\n",
              "    <tr>\n",
              "      <th>7689</th>\n",
              "      <td>850137218484187136</td>\n",
              "      <td>1.0</td>\n",
              "      <td>1</td>\n",
              "      <td>2.065433e-01</td>\n",
              "      <td>0.207</td>\n",
              "      <td>85.000000</td>\n",
              "      <td>NaN</td>\n",
              "      <td>NaN</td>\n",
              "    </tr>\n",
              "  </tbody>\n",
              "</table>\n",
              "<p>15584 rows × 8 columns</p>\n",
              "</div>\n",
              "      <button class=\"colab-df-convert\" onclick=\"convertToInteractive('df-b3ad5c33-7321-4134-a5cc-770ffdadc659')\"\n",
              "              title=\"Convert this dataframe to an interactive table.\"\n",
              "              style=\"display:none;\">\n",
              "        \n",
              "  <svg xmlns=\"http://www.w3.org/2000/svg\" height=\"24px\"viewBox=\"0 0 24 24\"\n",
              "       width=\"24px\">\n",
              "    <path d=\"M0 0h24v24H0V0z\" fill=\"none\"/>\n",
              "    <path d=\"M18.56 5.44l.94 2.06.94-2.06 2.06-.94-2.06-.94-.94-2.06-.94 2.06-2.06.94zm-11 1L8.5 8.5l.94-2.06 2.06-.94-2.06-.94L8.5 2.5l-.94 2.06-2.06.94zm10 10l.94 2.06.94-2.06 2.06-.94-2.06-.94-.94-2.06-.94 2.06-2.06.94z\"/><path d=\"M17.41 7.96l-1.37-1.37c-.4-.4-.92-.59-1.43-.59-.52 0-1.04.2-1.43.59L10.3 9.45l-7.72 7.72c-.78.78-.78 2.05 0 2.83L4 21.41c.39.39.9.59 1.41.59.51 0 1.02-.2 1.41-.59l7.78-7.78 2.81-2.81c.8-.78.8-2.07 0-2.86zM5.41 20L4 18.59l7.72-7.72 1.47 1.35L5.41 20z\"/>\n",
              "  </svg>\n",
              "      </button>\n",
              "      \n",
              "  <style>\n",
              "    .colab-df-container {\n",
              "      display:flex;\n",
              "      flex-wrap:wrap;\n",
              "      gap: 12px;\n",
              "    }\n",
              "\n",
              "    .colab-df-convert {\n",
              "      background-color: #E8F0FE;\n",
              "      border: none;\n",
              "      border-radius: 50%;\n",
              "      cursor: pointer;\n",
              "      display: none;\n",
              "      fill: #1967D2;\n",
              "      height: 32px;\n",
              "      padding: 0 0 0 0;\n",
              "      width: 32px;\n",
              "    }\n",
              "\n",
              "    .colab-df-convert:hover {\n",
              "      background-color: #E2EBFA;\n",
              "      box-shadow: 0px 1px 2px rgba(60, 64, 67, 0.3), 0px 1px 3px 1px rgba(60, 64, 67, 0.15);\n",
              "      fill: #174EA6;\n",
              "    }\n",
              "\n",
              "    [theme=dark] .colab-df-convert {\n",
              "      background-color: #3B4455;\n",
              "      fill: #D2E3FC;\n",
              "    }\n",
              "\n",
              "    [theme=dark] .colab-df-convert:hover {\n",
              "      background-color: #434B5C;\n",
              "      box-shadow: 0px 1px 3px 1px rgba(0, 0, 0, 0.15);\n",
              "      filter: drop-shadow(0px 1px 2px rgba(0, 0, 0, 0.3));\n",
              "      fill: #FFFFFF;\n",
              "    }\n",
              "  </style>\n",
              "\n",
              "      <script>\n",
              "        const buttonEl =\n",
              "          document.querySelector('#df-b3ad5c33-7321-4134-a5cc-770ffdadc659 button.colab-df-convert');\n",
              "        buttonEl.style.display =\n",
              "          google.colab.kernel.accessAllowed ? 'block' : 'none';\n",
              "\n",
              "        async function convertToInteractive(key) {\n",
              "          const element = document.querySelector('#df-b3ad5c33-7321-4134-a5cc-770ffdadc659');\n",
              "          const dataTable =\n",
              "            await google.colab.kernel.invokeFunction('convertToInteractive',\n",
              "                                                     [key], {});\n",
              "          if (!dataTable) return;\n",
              "\n",
              "          const docLinkHtml = 'Like what you see? Visit the ' +\n",
              "            '<a target=\"_blank\" href=https://colab.research.google.com/notebooks/data_table.ipynb>data table notebook</a>'\n",
              "            + ' to learn more about interactive tables.';\n",
              "          element.innerHTML = '';\n",
              "          dataTable['output_type'] = 'display_data';\n",
              "          await google.colab.output.renderOutput(dataTable, element);\n",
              "          const docLink = document.createElement('div');\n",
              "          docLink.innerHTML = docLinkHtml;\n",
              "          element.appendChild(docLink);\n",
              "        }\n",
              "      </script>\n",
              "    </div>\n",
              "  </div>\n",
              "  "
            ]
          },
          "metadata": {},
          "execution_count": 177
        }
      ]
    },
    {
      "cell_type": "markdown",
      "source": [
        "# Toy data set analysis"
      ],
      "metadata": {
        "id": "icT6diSQ7yEl"
      }
    },
    {
      "cell_type": "code",
      "source": [
        "pip install randomtimestamp"
      ],
      "metadata": {
        "colab": {
          "base_uri": "https://localhost:8080/"
        },
        "id": "-BV2v7VIWAna",
        "outputId": "c2b9d54a-9cae-4b68-b4af-889e57661e97"
      },
      "execution_count": 113,
      "outputs": [
        {
          "output_type": "stream",
          "name": "stdout",
          "text": [
            "Collecting randomtimestamp\n",
            "  Downloading randomtimestamp-2.2-py3-none-any.whl (19 kB)\n",
            "Installing collected packages: randomtimestamp\n",
            "Successfully installed randomtimestamp-2.2\n"
          ]
        }
      ]
    },
    {
      "cell_type": "code",
      "source": [
        "from randomtimestamp import randomtimestamp\n",
        "created_at = [randomtimestamp(start= datetime(2021, 12, 5, 11, 20, 10), end= datetime(2021, 12, 8, 11, 20, 10), pattern=\"%Y-%d-%m %H:%M:%S %Z\") for i in range(10000)]\n",
        "\n",
        "# generating random data\n",
        "user_id = np.random.normal(18401399840984, scale= np.random.randint(800,3000,size= 10000), size= 10000).astype(int)\n",
        "replies_count = abs(np.random.normal(0, scale= np.random.randint(1,30,size= 10000), size= 10000).astype(int))\n",
        "retweets_count = abs(np.random.normal(0, scale= np.random.randint(1,20,size= 10000), size= 10000).astype(int))\n",
        "likes_count = abs(np.random.normal(0,30, size= 10000).astype(int))\n",
        "n_positive_words = abs(np.random.normal(0, scale= np.random.randint(1,5,size= 10000), size= 10000).astype(int))\n",
        "n_words = abs(np.random.normal(20, scale= np.random.randint(1,5,size= 10000), size= 10000).astype(int))\n",
        "semantic = np.random.choice(['POSITIVE', 'NEGATIVE', 'NEUTRAL'], 10000)\n",
        "\n",
        "# create data frame of the random data\n",
        "df_toy = pd.DataFrame(\n",
        "                    np.array([user_id,replies_count, retweets_count, likes_count, n_positive_words, n_words]).T,\n",
        "                    columns = ['user_id','replies_count', 'retweets_count', 'likes_count', 'n_positive_words', 'n_words'],\n",
        "                    dtype=int\n",
        "                    )\n",
        "df_toy['semantic'] = semantic\n",
        "df_toy.insert(0, 'created_at', created_at)"
      ],
      "metadata": {
        "id": "Sv39ExaKWTxV"
      },
      "execution_count": 285,
      "outputs": []
    },
    {
      "cell_type": "code",
      "source": [
        "df_toy.head()"
      ],
      "metadata": {
        "colab": {
          "base_uri": "https://localhost:8080/",
          "height": 206
        },
        "id": "WSwQFUWA8zVe",
        "outputId": "88b8849d-6166-4b0e-b72c-c12be104e292"
      },
      "execution_count": 286,
      "outputs": [
        {
          "output_type": "execute_result",
          "data": {
            "text/plain": [
              "           created_at         user_id  replies_count  retweets_count  \\\n",
              "0 2021-12-05 14:44:22  18401399837088              8              11   \n",
              "1 2021-12-08 03:03:57  18401399844881              3              27   \n",
              "2 2021-12-05 23:04:44  18401399842168             13              29   \n",
              "3 2021-12-06 16:57:22  18401399843909             14               7   \n",
              "4 2021-12-05 14:33:50  18401399842316              4              16   \n",
              "\n",
              "   likes_count  n_positive_words  n_words  semantic  \n",
              "0           10                 3       18  POSITIVE  \n",
              "1           39                 2       18  POSITIVE  \n",
              "2           33                10       15  POSITIVE  \n",
              "3            2                 0       16   NEUTRAL  \n",
              "4           80                 0       21  NEGATIVE  "
            ],
            "text/html": [
              "\n",
              "  <div id=\"df-494d1850-8f2b-4140-b360-661022e1908a\">\n",
              "    <div class=\"colab-df-container\">\n",
              "      <div>\n",
              "<style scoped>\n",
              "    .dataframe tbody tr th:only-of-type {\n",
              "        vertical-align: middle;\n",
              "    }\n",
              "\n",
              "    .dataframe tbody tr th {\n",
              "        vertical-align: top;\n",
              "    }\n",
              "\n",
              "    .dataframe thead th {\n",
              "        text-align: right;\n",
              "    }\n",
              "</style>\n",
              "<table border=\"1\" class=\"dataframe\">\n",
              "  <thead>\n",
              "    <tr style=\"text-align: right;\">\n",
              "      <th></th>\n",
              "      <th>created_at</th>\n",
              "      <th>user_id</th>\n",
              "      <th>replies_count</th>\n",
              "      <th>retweets_count</th>\n",
              "      <th>likes_count</th>\n",
              "      <th>n_positive_words</th>\n",
              "      <th>n_words</th>\n",
              "      <th>semantic</th>\n",
              "    </tr>\n",
              "  </thead>\n",
              "  <tbody>\n",
              "    <tr>\n",
              "      <th>0</th>\n",
              "      <td>2021-12-05 14:44:22</td>\n",
              "      <td>18401399837088</td>\n",
              "      <td>8</td>\n",
              "      <td>11</td>\n",
              "      <td>10</td>\n",
              "      <td>3</td>\n",
              "      <td>18</td>\n",
              "      <td>POSITIVE</td>\n",
              "    </tr>\n",
              "    <tr>\n",
              "      <th>1</th>\n",
              "      <td>2021-12-08 03:03:57</td>\n",
              "      <td>18401399844881</td>\n",
              "      <td>3</td>\n",
              "      <td>27</td>\n",
              "      <td>39</td>\n",
              "      <td>2</td>\n",
              "      <td>18</td>\n",
              "      <td>POSITIVE</td>\n",
              "    </tr>\n",
              "    <tr>\n",
              "      <th>2</th>\n",
              "      <td>2021-12-05 23:04:44</td>\n",
              "      <td>18401399842168</td>\n",
              "      <td>13</td>\n",
              "      <td>29</td>\n",
              "      <td>33</td>\n",
              "      <td>10</td>\n",
              "      <td>15</td>\n",
              "      <td>POSITIVE</td>\n",
              "    </tr>\n",
              "    <tr>\n",
              "      <th>3</th>\n",
              "      <td>2021-12-06 16:57:22</td>\n",
              "      <td>18401399843909</td>\n",
              "      <td>14</td>\n",
              "      <td>7</td>\n",
              "      <td>2</td>\n",
              "      <td>0</td>\n",
              "      <td>16</td>\n",
              "      <td>NEUTRAL</td>\n",
              "    </tr>\n",
              "    <tr>\n",
              "      <th>4</th>\n",
              "      <td>2021-12-05 14:33:50</td>\n",
              "      <td>18401399842316</td>\n",
              "      <td>4</td>\n",
              "      <td>16</td>\n",
              "      <td>80</td>\n",
              "      <td>0</td>\n",
              "      <td>21</td>\n",
              "      <td>NEGATIVE</td>\n",
              "    </tr>\n",
              "  </tbody>\n",
              "</table>\n",
              "</div>\n",
              "      <button class=\"colab-df-convert\" onclick=\"convertToInteractive('df-494d1850-8f2b-4140-b360-661022e1908a')\"\n",
              "              title=\"Convert this dataframe to an interactive table.\"\n",
              "              style=\"display:none;\">\n",
              "        \n",
              "  <svg xmlns=\"http://www.w3.org/2000/svg\" height=\"24px\"viewBox=\"0 0 24 24\"\n",
              "       width=\"24px\">\n",
              "    <path d=\"M0 0h24v24H0V0z\" fill=\"none\"/>\n",
              "    <path d=\"M18.56 5.44l.94 2.06.94-2.06 2.06-.94-2.06-.94-.94-2.06-.94 2.06-2.06.94zm-11 1L8.5 8.5l.94-2.06 2.06-.94-2.06-.94L8.5 2.5l-.94 2.06-2.06.94zm10 10l.94 2.06.94-2.06 2.06-.94-2.06-.94-.94-2.06-.94 2.06-2.06.94z\"/><path d=\"M17.41 7.96l-1.37-1.37c-.4-.4-.92-.59-1.43-.59-.52 0-1.04.2-1.43.59L10.3 9.45l-7.72 7.72c-.78.78-.78 2.05 0 2.83L4 21.41c.39.39.9.59 1.41.59.51 0 1.02-.2 1.41-.59l7.78-7.78 2.81-2.81c.8-.78.8-2.07 0-2.86zM5.41 20L4 18.59l7.72-7.72 1.47 1.35L5.41 20z\"/>\n",
              "  </svg>\n",
              "      </button>\n",
              "      \n",
              "  <style>\n",
              "    .colab-df-container {\n",
              "      display:flex;\n",
              "      flex-wrap:wrap;\n",
              "      gap: 12px;\n",
              "    }\n",
              "\n",
              "    .colab-df-convert {\n",
              "      background-color: #E8F0FE;\n",
              "      border: none;\n",
              "      border-radius: 50%;\n",
              "      cursor: pointer;\n",
              "      display: none;\n",
              "      fill: #1967D2;\n",
              "      height: 32px;\n",
              "      padding: 0 0 0 0;\n",
              "      width: 32px;\n",
              "    }\n",
              "\n",
              "    .colab-df-convert:hover {\n",
              "      background-color: #E2EBFA;\n",
              "      box-shadow: 0px 1px 2px rgba(60, 64, 67, 0.3), 0px 1px 3px 1px rgba(60, 64, 67, 0.15);\n",
              "      fill: #174EA6;\n",
              "    }\n",
              "\n",
              "    [theme=dark] .colab-df-convert {\n",
              "      background-color: #3B4455;\n",
              "      fill: #D2E3FC;\n",
              "    }\n",
              "\n",
              "    [theme=dark] .colab-df-convert:hover {\n",
              "      background-color: #434B5C;\n",
              "      box-shadow: 0px 1px 3px 1px rgba(0, 0, 0, 0.15);\n",
              "      filter: drop-shadow(0px 1px 2px rgba(0, 0, 0, 0.3));\n",
              "      fill: #FFFFFF;\n",
              "    }\n",
              "  </style>\n",
              "\n",
              "      <script>\n",
              "        const buttonEl =\n",
              "          document.querySelector('#df-494d1850-8f2b-4140-b360-661022e1908a button.colab-df-convert');\n",
              "        buttonEl.style.display =\n",
              "          google.colab.kernel.accessAllowed ? 'block' : 'none';\n",
              "\n",
              "        async function convertToInteractive(key) {\n",
              "          const element = document.querySelector('#df-494d1850-8f2b-4140-b360-661022e1908a');\n",
              "          const dataTable =\n",
              "            await google.colab.kernel.invokeFunction('convertToInteractive',\n",
              "                                                     [key], {});\n",
              "          if (!dataTable) return;\n",
              "\n",
              "          const docLinkHtml = 'Like what you see? Visit the ' +\n",
              "            '<a target=\"_blank\" href=https://colab.research.google.com/notebooks/data_table.ipynb>data table notebook</a>'\n",
              "            + ' to learn more about interactive tables.';\n",
              "          element.innerHTML = '';\n",
              "          dataTable['output_type'] = 'display_data';\n",
              "          await google.colab.output.renderOutput(dataTable, element);\n",
              "          const docLink = document.createElement('div');\n",
              "          docLink.innerHTML = docLinkHtml;\n",
              "          element.appendChild(docLink);\n",
              "        }\n",
              "      </script>\n",
              "    </div>\n",
              "  </div>\n",
              "  "
            ]
          },
          "metadata": {},
          "execution_count": 286
        }
      ]
    },
    {
      "cell_type": "code",
      "source": [
        "df_toy.hist(['replies_count','likes_count','n_positive_words'],figsize=(20,4),layout=(1,3))"
      ],
      "metadata": {
        "colab": {
          "base_uri": "https://localhost:8080/",
          "height": 350
        },
        "id": "uyJgbLAF_3_n",
        "outputId": "faa5b1f6-7710-473d-8725-e3512c47abac"
      },
      "execution_count": 287,
      "outputs": [
        {
          "output_type": "execute_result",
          "data": {
            "text/plain": [
              "array([[<matplotlib.axes._subplots.AxesSubplot object at 0x7f3c0cb0c0d0>,\n",
              "        <matplotlib.axes._subplots.AxesSubplot object at 0x7f3c0cdde050>,\n",
              "        <matplotlib.axes._subplots.AxesSubplot object at 0x7f3c0cbc80d0>]],\n",
              "      dtype=object)"
            ]
          },
          "metadata": {},
          "execution_count": 287
        },
        {
          "output_type": "display_data",
          "data": {
            "text/plain": [
              "<Figure size 1440x288 with 3 Axes>"
            ],
            "image/png": "[encoded data removed]"
          },
          "metadata": {
            "needs_background": "light"
          }
        }
      ]
    },
    {
      "cell_type": "markdown",
      "source": [
        "### First Metric | Average Interactions per Post"
      ],
      "metadata": {
        "id": "ExXhZeimQGje"
      }
    },
    {
      "cell_type": "code",
      "source": [
        "%%time\n",
        "users_toy = df_toy.user_id.unique()\n",
        "n_posts_toy = [len(df_toy[df_toy['user_id']== u]) for u in users_toy]\n",
        "df_toy_users = pd.DataFrame({'id':users_toy,\n",
        "                             'n_posts': n_posts_toy})\n",
        "\n",
        "for i,r in df_toy.iterrows():\n",
        "    sub_df = df_toy.loc[df_toy['user_id']== df_toy.at[i,'user_id']]\n",
        "    if ( abs(sub_df['created_at'].diff()) ).sum() < timedelta(hours = 4): #only take into account the tweets that are created within approximately 4 hours\n",
        "        n_int = 0\n",
        "        n_int = n_int + np.sum(sub_df['likes_count'] + sub_df['retweets_count'] + sub_df['replies_count'])\n",
        "        df_toy.at[i,'avg_int'] = round(float(n_int / df_toy_users.loc[df_toy_users['id']==df_toy.iloc[i]['user_id'] , 'n_posts']),2)\n",
        "    else:\n",
        "        n_int = 0\n",
        "        n_int = n_int + np.sum(df_toy.at[i,'likes_count'] + df_toy.at[i,'retweets_count'] + df_toy.at[i,'replies_count'])\n",
        "        df_toy.at[i, 'avg_int'] = round(float(n_int / df_toy_users.loc[df_toy_users['id']==df_toy.iloc[i]['user_id'] , 'n_posts'] ),2)"
      ],
      "metadata": {
        "colab": {
          "base_uri": "https://localhost:8080/"
        },
        "id": "o5bnm63ZQGjl",
        "outputId": "0aa97f1a-13b6-4e0a-d31e-e5deffc64f72"
      },
      "execution_count": 288,
      "outputs": [
        {
          "output_type": "stream",
          "name": "stdout",
          "text": [
            "CPU times: user 21 s, sys: 453 ms, total: 21.5 s\n",
            "Wall time: 21 s\n"
          ]
        }
      ]
    },
    {
      "cell_type": "code",
      "source": [
        "df_toy.head(5)"
      ],
      "metadata": {
        "colab": {
          "base_uri": "https://localhost:8080/",
          "height": 206
        },
        "id": "x2ImvA-Qh-dO",
        "outputId": "b0dd7fae-c228-482f-a06c-2fdf15e0da6a"
      },
      "execution_count": 289,
      "outputs": [
        {
          "output_type": "execute_result",
          "data": {
            "text/plain": [
              "           created_at         user_id  replies_count  retweets_count  \\\n",
              "0 2021-12-05 14:44:22  18401399837088              8              11   \n",
              "1 2021-12-08 03:03:57  18401399844881              3              27   \n",
              "2 2021-12-05 23:04:44  18401399842168             13              29   \n",
              "3 2021-12-06 16:57:22  18401399843909             14               7   \n",
              "4 2021-12-05 14:33:50  18401399842316              4              16   \n",
              "\n",
              "   likes_count  n_positive_words  n_words  semantic  avg_int  \n",
              "0           10                 3       18  POSITIVE     29.0  \n",
              "1           39                 2       18  POSITIVE     69.0  \n",
              "2           33                10       15  POSITIVE     25.0  \n",
              "3            2                 0       16   NEUTRAL     23.0  \n",
              "4           80                 0       21  NEGATIVE     25.0  "
            ],
            "text/html": [
              "\n",
              "  <div id=\"df-3b5c189e-d17e-4ea3-a0f1-ba5e2971aecd\">\n",
              "    <div class=\"colab-df-container\">\n",
              "      <div>\n",
              "<style scoped>\n",
              "    .dataframe tbody tr th:only-of-type {\n",
              "        vertical-align: middle;\n",
              "    }\n",
              "\n",
              "    .dataframe tbody tr th {\n",
              "        vertical-align: top;\n",
              "    }\n",
              "\n",
              "    .dataframe thead th {\n",
              "        text-align: right;\n",
              "    }\n",
              "</style>\n",
              "<table border=\"1\" class=\"dataframe\">\n",
              "  <thead>\n",
              "    <tr style=\"text-align: right;\">\n",
              "      <th></th>\n",
              "      <th>created_at</th>\n",
              "      <th>user_id</th>\n",
              "      <th>replies_count</th>\n",
              "      <th>retweets_count</th>\n",
              "      <th>likes_count</th>\n",
              "      <th>n_positive_words</th>\n",
              "      <th>n_words</th>\n",
              "      <th>semantic</th>\n",
              "      <th>avg_int</th>\n",
              "    </tr>\n",
              "  </thead>\n",
              "  <tbody>\n",
              "    <tr>\n",
              "      <th>0</th>\n",
              "      <td>2021-12-05 14:44:22</td>\n",
              "      <td>18401399837088</td>\n",
              "      <td>8</td>\n",
              "      <td>11</td>\n",
              "      <td>10</td>\n",
              "      <td>3</td>\n",
              "      <td>18</td>\n",
              "      <td>POSITIVE</td>\n",
              "      <td>29.0</td>\n",
              "    </tr>\n",
              "    <tr>\n",
              "      <th>1</th>\n",
              "      <td>2021-12-08 03:03:57</td>\n",
              "      <td>18401399844881</td>\n",
              "      <td>3</td>\n",
              "      <td>27</td>\n",
              "      <td>39</td>\n",
              "      <td>2</td>\n",
              "      <td>18</td>\n",
              "      <td>POSITIVE</td>\n",
              "      <td>69.0</td>\n",
              "    </tr>\n",
              "    <tr>\n",
              "      <th>2</th>\n",
              "      <td>2021-12-05 23:04:44</td>\n",
              "      <td>18401399842168</td>\n",
              "      <td>13</td>\n",
              "      <td>29</td>\n",
              "      <td>33</td>\n",
              "      <td>10</td>\n",
              "      <td>15</td>\n",
              "      <td>POSITIVE</td>\n",
              "      <td>25.0</td>\n",
              "    </tr>\n",
              "    <tr>\n",
              "      <th>3</th>\n",
              "      <td>2021-12-06 16:57:22</td>\n",
              "      <td>18401399843909</td>\n",
              "      <td>14</td>\n",
              "      <td>7</td>\n",
              "      <td>2</td>\n",
              "      <td>0</td>\n",
              "      <td>16</td>\n",
              "      <td>NEUTRAL</td>\n",
              "      <td>23.0</td>\n",
              "    </tr>\n",
              "    <tr>\n",
              "      <th>4</th>\n",
              "      <td>2021-12-05 14:33:50</td>\n",
              "      <td>18401399842316</td>\n",
              "      <td>4</td>\n",
              "      <td>16</td>\n",
              "      <td>80</td>\n",
              "      <td>0</td>\n",
              "      <td>21</td>\n",
              "      <td>NEGATIVE</td>\n",
              "      <td>25.0</td>\n",
              "    </tr>\n",
              "  </tbody>\n",
              "</table>\n",
              "</div>\n",
              "      <button class=\"colab-df-convert\" onclick=\"convertToInteractive('df-3b5c189e-d17e-4ea3-a0f1-ba5e2971aecd')\"\n",
              "              title=\"Convert this dataframe to an interactive table.\"\n",
              "              style=\"display:none;\">\n",
              "        \n",
              "  <svg xmlns=\"http://www.w3.org/2000/svg\" height=\"24px\"viewBox=\"0 0 24 24\"\n",
              "       width=\"24px\">\n",
              "    <path d=\"M0 0h24v24H0V0z\" fill=\"none\"/>\n",
              "    <path d=\"M18.56 5.44l.94 2.06.94-2.06 2.06-.94-2.06-.94-.94-2.06-.94 2.06-2.06.94zm-11 1L8.5 8.5l.94-2.06 2.06-.94-2.06-.94L8.5 2.5l-.94 2.06-2.06.94zm10 10l.94 2.06.94-2.06 2.06-.94-2.06-.94-.94-2.06-.94 2.06-2.06.94z\"/><path d=\"M17.41 7.96l-1.37-1.37c-.4-.4-.92-.59-1.43-.59-.52 0-1.04.2-1.43.59L10.3 9.45l-7.72 7.72c-.78.78-.78 2.05 0 2.83L4 21.41c.39.39.9.59 1.41.59.51 0 1.02-.2 1.41-.59l7.78-7.78 2.81-2.81c.8-.78.8-2.07 0-2.86zM5.41 20L4 18.59l7.72-7.72 1.47 1.35L5.41 20z\"/>\n",
              "  </svg>\n",
              "      </button>\n",
              "      \n",
              "  <style>\n",
              "    .colab-df-container {\n",
              "      display:flex;\n",
              "      flex-wrap:wrap;\n",
              "      gap: 12px;\n",
              "    }\n",
              "\n",
              "    .colab-df-convert {\n",
              "      background-color: #E8F0FE;\n",
              "      border: none;\n",
              "      border-radius: 50%;\n",
              "      cursor: pointer;\n",
              "      display: none;\n",
              "      fill: #1967D2;\n",
              "      height: 32px;\n",
              "      padding: 0 0 0 0;\n",
              "      width: 32px;\n",
              "    }\n",
              "\n",
              "    .colab-df-convert:hover {\n",
              "      background-color: #E2EBFA;\n",
              "      box-shadow: 0px 1px 2px rgba(60, 64, 67, 0.3), 0px 1px 3px 1px rgba(60, 64, 67, 0.15);\n",
              "      fill: #174EA6;\n",
              "    }\n",
              "\n",
              "    [theme=dark] .colab-df-convert {\n",
              "      background-color: #3B4455;\n",
              "      fill: #D2E3FC;\n",
              "    }\n",
              "\n",
              "    [theme=dark] .colab-df-convert:hover {\n",
              "      background-color: #434B5C;\n",
              "      box-shadow: 0px 1px 3px 1px rgba(0, 0, 0, 0.15);\n",
              "      filter: drop-shadow(0px 1px 2px rgba(0, 0, 0, 0.3));\n",
              "      fill: #FFFFFF;\n",
              "    }\n",
              "  </style>\n",
              "\n",
              "      <script>\n",
              "        const buttonEl =\n",
              "          document.querySelector('#df-3b5c189e-d17e-4ea3-a0f1-ba5e2971aecd button.colab-df-convert');\n",
              "        buttonEl.style.display =\n",
              "          google.colab.kernel.accessAllowed ? 'block' : 'none';\n",
              "\n",
              "        async function convertToInteractive(key) {\n",
              "          const element = document.querySelector('#df-3b5c189e-d17e-4ea3-a0f1-ba5e2971aecd');\n",
              "          const dataTable =\n",
              "            await google.colab.kernel.invokeFunction('convertToInteractive',\n",
              "                                                     [key], {});\n",
              "          if (!dataTable) return;\n",
              "\n",
              "          const docLinkHtml = 'Like what you see? Visit the ' +\n",
              "            '<a target=\"_blank\" href=https://colab.research.google.com/notebooks/data_table.ipynb>data table notebook</a>'\n",
              "            + ' to learn more about interactive tables.';\n",
              "          element.innerHTML = '';\n",
              "          dataTable['output_type'] = 'display_data';\n",
              "          await google.colab.output.renderOutput(dataTable, element);\n",
              "          const docLink = document.createElement('div');\n",
              "          docLink.innerHTML = docLinkHtml;\n",
              "          element.appendChild(docLink);\n",
              "        }\n",
              "      </script>\n",
              "    </div>\n",
              "  </div>\n",
              "  "
            ]
          },
          "metadata": {},
          "execution_count": 289
        }
      ]
    },
    {
      "cell_type": "markdown",
      "source": [
        "### Second Metric | Passion Point"
      ],
      "metadata": {
        "id": "awSW4uxDsJqH"
      }
    },
    {
      "cell_type": "code",
      "source": [
        "# no. of positive posts of each user\n",
        "df_toy_users['n_positives'] = [len(df_toy.loc[(df_toy['user_id']== i) & (df_toy['semantic'] == 'POSITIVE')]) for i in users_toy]"
      ],
      "metadata": {
        "id": "fq6X_sXosKTv"
      },
      "execution_count": 290,
      "outputs": []
    },
    {
      "cell_type": "code",
      "source": [
        "# ranking of users\n",
        "def rank_user(n_plus, n_post):\n",
        "    z = 1.96 # for 95% confidence level\n",
        "    r = n_plus/n_post\n",
        "    return  float(( r + z**2/(2*n_post) ) / (1 + z**2/n_post) - z/ (1+ z**2/n_post)*np.sqrt(r*(1-r)/n_post + z**2/(4*n_post**2)) )\n",
        "\n",
        "# passion point of users\n",
        "def ppoint(n_plus, rank,n_day, n_post):\n",
        "    return round(float( n_plus* (rank + np.log(n_post))/ n_day  ),3)"
      ],
      "metadata": {
        "id": "OCgy9SJ-tEt-"
      },
      "execution_count": 270,
      "outputs": []
    },
    {
      "cell_type": "code",
      "source": [
        "n_positive = df_toy_users['n_positives'].values\n",
        "df_toy_users['rank'] = [rank_user( n_positive[u] , n_posts_toy[u] ) for u in range(len(users_toy))]\n",
        "\n",
        "n_day = np.array([abs(df_toy.loc[df_toy['user_id'] == u, 'created_at'].diff()).sum().days for u in users_toy])\n",
        "n_day[n_day==0] = 1\n",
        "\n",
        "rank = df_toy_users['rank'].values\n",
        "df_toy_users['ppoint'] = [ppoint(n_positive[u], rank[u], n_day[u], n_posts_toy[u]) for u in range(len(users_toy))]"
      ],
      "metadata": {
        "id": "w1CbI5w-tx_B"
      },
      "execution_count": 291,
      "outputs": []
    },
    {
      "cell_type": "code",
      "source": [
        "df_toy_users"
      ],
      "metadata": {
        "colab": {
          "base_uri": "https://localhost:8080/",
          "height": 423
        },
        "id": "VNnmHjEnvy--",
        "outputId": "8bae6185-5ed7-45f4-e109-800bc3d83555"
      },
      "execution_count": 292,
      "outputs": [
        {
          "output_type": "execute_result",
          "data": {
            "text/plain": [
              "                  id  n_posts  n_positives          rank  ppoint\n",
              "0     18401399837088        1            1  2.065433e-01   0.207\n",
              "1     18401399844881        1            1  2.065433e-01   0.207\n",
              "2     18401399842168        3            2  2.076550e-01   2.613\n",
              "3     18401399843909        1            0 -5.551115e-17  -0.000\n",
              "4     18401399842316        4            0  0.000000e+00   0.000\n",
              "...              ...      ...          ...           ...     ...\n",
              "5376  18401399843510        1            0 -5.551115e-17  -0.000\n",
              "5377  18401399842705        1            1  2.065433e-01   0.207\n",
              "5378  18401399838954        1            1  2.065433e-01   0.207\n",
              "5379  18401399838122        1            1  2.065433e-01   0.207\n",
              "5380  18401399837367        1            0 -5.551115e-17  -0.000\n",
              "\n",
              "[5381 rows x 5 columns]"
            ],
            "text/html": [
              "\n",
              "  <div id=\"df-1aee8b53-2cd0-4d59-87f6-6f6ca0d584c5\">\n",
              "    <div class=\"colab-df-container\">\n",
              "      <div>\n",
              "<style scoped>\n",
              "    .dataframe tbody tr th:only-of-type {\n",
              "        vertical-align: middle;\n",
              "    }\n",
              "\n",
              "    .dataframe tbody tr th {\n",
              "        vertical-align: top;\n",
              "    }\n",
              "\n",
              "    .dataframe thead th {\n",
              "        text-align: right;\n",
              "    }\n",
              "</style>\n",
              "<table border=\"1\" class=\"dataframe\">\n",
              "  <thead>\n",
              "    <tr style=\"text-align: right;\">\n",
              "      <th></th>\n",
              "      <th>id</th>\n",
              "      <th>n_posts</th>\n",
              "      <th>n_positives</th>\n",
              "      <th>rank</th>\n",
              "      <th>ppoint</th>\n",
              "    </tr>\n",
              "  </thead>\n",
              "  <tbody>\n",
              "    <tr>\n",
              "      <th>0</th>\n",
              "      <td>18401399837088</td>\n",
              "      <td>1</td>\n",
              "      <td>1</td>\n",
              "      <td>2.065433e-01</td>\n",
              "      <td>0.207</td>\n",
              "    </tr>\n",
              "    <tr>\n",
              "      <th>1</th>\n",
              "      <td>18401399844881</td>\n",
              "      <td>1</td>\n",
              "      <td>1</td>\n",
              "      <td>2.065433e-01</td>\n",
              "      <td>0.207</td>\n",
              "    </tr>\n",
              "    <tr>\n",
              "      <th>2</th>\n",
              "      <td>18401399842168</td>\n",
              "      <td>3</td>\n",
              "      <td>2</td>\n",
              "      <td>2.076550e-01</td>\n",
              "      <td>2.613</td>\n",
              "    </tr>\n",
              "    <tr>\n",
              "      <th>3</th>\n",
              "      <td>18401399843909</td>\n",
              "      <td>1</td>\n",
              "      <td>0</td>\n",
              "      <td>-5.551115e-17</td>\n",
              "      <td>-0.000</td>\n",
              "    </tr>\n",
              "    <tr>\n",
              "      <th>4</th>\n",
              "      <td>18401399842316</td>\n",
              "      <td>4</td>\n",
              "      <td>0</td>\n",
              "      <td>0.000000e+00</td>\n",
              "      <td>0.000</td>\n",
              "    </tr>\n",
              "    <tr>\n",
              "      <th>...</th>\n",
              "      <td>...</td>\n",
              "      <td>...</td>\n",
              "      <td>...</td>\n",
              "      <td>...</td>\n",
              "      <td>...</td>\n",
              "    </tr>\n",
              "    <tr>\n",
              "      <th>5376</th>\n",
              "      <td>18401399843510</td>\n",
              "      <td>1</td>\n",
              "      <td>0</td>\n",
              "      <td>-5.551115e-17</td>\n",
              "      <td>-0.000</td>\n",
              "    </tr>\n",
              "    <tr>\n",
              "      <th>5377</th>\n",
              "      <td>18401399842705</td>\n",
              "      <td>1</td>\n",
              "      <td>1</td>\n",
              "      <td>2.065433e-01</td>\n",
              "      <td>0.207</td>\n",
              "    </tr>\n",
              "    <tr>\n",
              "      <th>5378</th>\n",
              "      <td>18401399838954</td>\n",
              "      <td>1</td>\n",
              "      <td>1</td>\n",
              "      <td>2.065433e-01</td>\n",
              "      <td>0.207</td>\n",
              "    </tr>\n",
              "    <tr>\n",
              "      <th>5379</th>\n",
              "      <td>18401399838122</td>\n",
              "      <td>1</td>\n",
              "      <td>1</td>\n",
              "      <td>2.065433e-01</td>\n",
              "      <td>0.207</td>\n",
              "    </tr>\n",
              "    <tr>\n",
              "      <th>5380</th>\n",
              "      <td>18401399837367</td>\n",
              "      <td>1</td>\n",
              "      <td>0</td>\n",
              "      <td>-5.551115e-17</td>\n",
              "      <td>-0.000</td>\n",
              "    </tr>\n",
              "  </tbody>\n",
              "</table>\n",
              "<p>5381 rows × 5 columns</p>\n",
              "</div>\n",
              "      <button class=\"colab-df-convert\" onclick=\"convertToInteractive('df-1aee8b53-2cd0-4d59-87f6-6f6ca0d584c5')\"\n",
              "              title=\"Convert this dataframe to an interactive table.\"\n",
              "              style=\"display:none;\">\n",
              "        \n",
              "  <svg xmlns=\"http://www.w3.org/2000/svg\" height=\"24px\"viewBox=\"0 0 24 24\"\n",
              "       width=\"24px\">\n",
              "    <path d=\"M0 0h24v24H0V0z\" fill=\"none\"/>\n",
              "    <path d=\"M18.56 5.44l.94 2.06.94-2.06 2.06-.94-2.06-.94-.94-2.06-.94 2.06-2.06.94zm-11 1L8.5 8.5l.94-2.06 2.06-.94-2.06-.94L8.5 2.5l-.94 2.06-2.06.94zm10 10l.94 2.06.94-2.06 2.06-.94-2.06-.94-.94-2.06-.94 2.06-2.06.94z\"/><path d=\"M17.41 7.96l-1.37-1.37c-.4-.4-.92-.59-1.43-.59-.52 0-1.04.2-1.43.59L10.3 9.45l-7.72 7.72c-.78.78-.78 2.05 0 2.83L4 21.41c.39.39.9.59 1.41.59.51 0 1.02-.2 1.41-.59l7.78-7.78 2.81-2.81c.8-.78.8-2.07 0-2.86zM5.41 20L4 18.59l7.72-7.72 1.47 1.35L5.41 20z\"/>\n",
              "  </svg>\n",
              "      </button>\n",
              "      \n",
              "  <style>\n",
              "    .colab-df-container {\n",
              "      display:flex;\n",
              "      flex-wrap:wrap;\n",
              "      gap: 12px;\n",
              "    }\n",
              "\n",
              "    .colab-df-convert {\n",
              "      background-color: #E8F0FE;\n",
              "      border: none;\n",
              "      border-radius: 50%;\n",
              "      cursor: pointer;\n",
              "      display: none;\n",
              "      fill: #1967D2;\n",
              "      height: 32px;\n",
              "      padding: 0 0 0 0;\n",
              "      width: 32px;\n",
              "    }\n",
              "\n",
              "    .colab-df-convert:hover {\n",
              "      background-color: #E2EBFA;\n",
              "      box-shadow: 0px 1px 2px rgba(60, 64, 67, 0.3), 0px 1px 3px 1px rgba(60, 64, 67, 0.15);\n",
              "      fill: #174EA6;\n",
              "    }\n",
              "\n",
              "    [theme=dark] .colab-df-convert {\n",
              "      background-color: #3B4455;\n",
              "      fill: #D2E3FC;\n",
              "    }\n",
              "\n",
              "    [theme=dark] .colab-df-convert:hover {\n",
              "      background-color: #434B5C;\n",
              "      box-shadow: 0px 1px 3px 1px rgba(0, 0, 0, 0.15);\n",
              "      filter: drop-shadow(0px 1px 2px rgba(0, 0, 0, 0.3));\n",
              "      fill: #FFFFFF;\n",
              "    }\n",
              "  </style>\n",
              "\n",
              "      <script>\n",
              "        const buttonEl =\n",
              "          document.querySelector('#df-1aee8b53-2cd0-4d59-87f6-6f6ca0d584c5 button.colab-df-convert');\n",
              "        buttonEl.style.display =\n",
              "          google.colab.kernel.accessAllowed ? 'block' : 'none';\n",
              "\n",
              "        async function convertToInteractive(key) {\n",
              "          const element = document.querySelector('#df-1aee8b53-2cd0-4d59-87f6-6f6ca0d584c5');\n",
              "          const dataTable =\n",
              "            await google.colab.kernel.invokeFunction('convertToInteractive',\n",
              "                                                     [key], {});\n",
              "          if (!dataTable) return;\n",
              "\n",
              "          const docLinkHtml = 'Like what you see? Visit the ' +\n",
              "            '<a target=\"_blank\" href=https://colab.research.google.com/notebooks/data_table.ipynb>data table notebook</a>'\n",
              "            + ' to learn more about interactive tables.';\n",
              "          element.innerHTML = '';\n",
              "          dataTable['output_type'] = 'display_data';\n",
              "          await google.colab.output.renderOutput(dataTable, element);\n",
              "          const docLink = document.createElement('div');\n",
              "          docLink.innerHTML = docLinkHtml;\n",
              "          element.appendChild(docLink);\n",
              "        }\n",
              "      </script>\n",
              "    </div>\n",
              "  </div>\n",
              "  "
            ]
          },
          "metadata": {},
          "execution_count": 292
        }
      ]
    },
    {
      "cell_type": "markdown",
      "source": [
        "### Third Metric | Content Creation"
      ],
      "metadata": {
        "id": "uv3F2UfEybwA"
      }
    },
    {
      "cell_type": "code",
      "source": [
        "df_toy_users['avg_words'] = [round(np.sum(df_toy[df_toy['user_id']==users_toy[u]]['n_words'])/n_posts_toy[u],2) for u in range(len(users_toy))]"
      ],
      "metadata": {
        "id": "oJvQFqy1ztsU"
      },
      "execution_count": 293,
      "outputs": []
    },
    {
      "cell_type": "code",
      "source": [
        "for i in range(len(users_toy)):\n",
        "    w = df_toy_users.at[i,'avg_words']\n",
        "    sub_df2 = df_toy[df_toy['n_words']>w]\n",
        "    quality = np.sum(sub_df2['n_positive_words'].values/sub_df2['n_words'].values)/len(sub_df2)\n",
        "    df_toy_users.at[i,'quality'] = quality\n",
        "    df_toy_users.at[i, 'content_score'] = np.log(quality) + df_toy_users.at[i, 'ppoint']"
      ],
      "metadata": {
        "id": "2omBA0vQvwHS"
      },
      "execution_count": 294,
      "outputs": []
    },
    {
      "cell_type": "code",
      "source": [
        "df_toy_users.sort_values('content_score', ascending=False)"
      ],
      "metadata": {
        "colab": {
          "base_uri": "https://localhost:8080/",
          "height": 423
        },
        "id": "b_iksVGw2YTf",
        "outputId": "4f0d0a02-0180-49f5-a5ea-61d052a2f61b"
      },
      "execution_count": 295,
      "outputs": [
        {
          "output_type": "execute_result",
          "data": {
            "text/plain": [
              "                  id  n_posts  n_positives          rank  ppoint  avg_words  \\\n",
              "2015  18401399841620        4            4  5.101000e-01   7.586      20.25   \n",
              "776   18401399840007        6            6  6.096570e-01   7.204      18.67   \n",
              "1829  18401399840096        5            3  2.307199e-01   5.520      18.80   \n",
              "794   18401399840665        5            3  2.307199e-01   5.520      19.40   \n",
              "1995  18401399841051        5            3  2.307199e-01   5.520      20.20   \n",
              "...              ...      ...          ...           ...     ...        ...   \n",
              "3353  18401399840374        1            0 -5.551115e-17  -0.000      29.00   \n",
              "5059  18401399843051        1            0 -5.551115e-17  -0.000      29.00   \n",
              "3322  18401399844854        1            0 -5.551115e-17  -0.000      29.00   \n",
              "4886  18401399839406        1            0 -5.551115e-17  -0.000      29.00   \n",
              "4289  18401399845040        1            0 -5.551115e-17  -0.000      29.00   \n",
              "\n",
              "       quality  content_score  \n",
              "2015  0.069045       4.913008  \n",
              "776   0.074436       4.606188  \n",
              "1829  0.074436       2.922188  \n",
              "794   0.072211       2.891836  \n",
              "1995  0.069045       2.847008  \n",
              "...        ...            ...  \n",
              "3353  0.042988      -3.146832  \n",
              "5059  0.042988      -3.146832  \n",
              "3322  0.042988      -3.146832  \n",
              "4886  0.042988      -3.146832  \n",
              "4289  0.042988      -3.146832  \n",
              "\n",
              "[5381 rows x 8 columns]"
            ],
            "text/html": [
              "\n",
              "  <div id=\"df-ae868f91-20df-40fb-9766-8620e2ad0c3e\">\n",
              "    <div class=\"colab-df-container\">\n",
              "      <div>\n",
              "<style scoped>\n",
              "    .dataframe tbody tr th:only-of-type {\n",
              "        vertical-align: middle;\n",
              "    }\n",
              "\n",
              "    .dataframe tbody tr th {\n",
              "        vertical-align: top;\n",
              "    }\n",
              "\n",
              "    .dataframe thead th {\n",
              "        text-align: right;\n",
              "    }\n",
              "</style>\n",
              "<table border=\"1\" class=\"dataframe\">\n",
              "  <thead>\n",
              "    <tr style=\"text-align: right;\">\n",
              "      <th></th>\n",
              "      <th>id</th>\n",
              "      <th>n_posts</th>\n",
              "      <th>n_positives</th>\n",
              "      <th>rank</th>\n",
              "      <th>ppoint</th>\n",
              "      <th>avg_words</th>\n",
              "      <th>quality</th>\n",
              "      <th>content_score</th>\n",
              "    </tr>\n",
              "  </thead>\n",
              "  <tbody>\n",
              "    <tr>\n",
              "      <th>2015</th>\n",
              "      <td>18401399841620</td>\n",
              "      <td>4</td>\n",
              "      <td>4</td>\n",
              "      <td>5.101000e-01</td>\n",
              "      <td>7.586</td>\n",
              "      <td>20.25</td>\n",
              "      <td>0.069045</td>\n",
              "      <td>4.913008</td>\n",
              "    </tr>\n",
              "    <tr>\n",
              "      <th>776</th>\n",
              "      <td>18401399840007</td>\n",
              "      <td>6</td>\n",
              "      <td>6</td>\n",
              "      <td>6.096570e-01</td>\n",
              "      <td>7.204</td>\n",
              "      <td>18.67</td>\n",
              "      <td>0.074436</td>\n",
              "      <td>4.606188</td>\n",
              "    </tr>\n",
              "    <tr>\n",
              "      <th>1829</th>\n",
              "      <td>18401399840096</td>\n",
              "      <td>5</td>\n",
              "      <td>3</td>\n",
              "      <td>2.307199e-01</td>\n",
              "      <td>5.520</td>\n",
              "      <td>18.80</td>\n",
              "      <td>0.074436</td>\n",
              "      <td>2.922188</td>\n",
              "    </tr>\n",
              "    <tr>\n",
              "      <th>794</th>\n",
              "      <td>18401399840665</td>\n",
              "      <td>5</td>\n",
              "      <td>3</td>\n",
              "      <td>2.307199e-01</td>\n",
              "      <td>5.520</td>\n",
              "      <td>19.40</td>\n",
              "      <td>0.072211</td>\n",
              "      <td>2.891836</td>\n",
              "    </tr>\n",
              "    <tr>\n",
              "      <th>1995</th>\n",
              "      <td>18401399841051</td>\n",
              "      <td>5</td>\n",
              "      <td>3</td>\n",
              "      <td>2.307199e-01</td>\n",
              "      <td>5.520</td>\n",
              "      <td>20.20</td>\n",
              "      <td>0.069045</td>\n",
              "      <td>2.847008</td>\n",
              "    </tr>\n",
              "    <tr>\n",
              "      <th>...</th>\n",
              "      <td>...</td>\n",
              "      <td>...</td>\n",
              "      <td>...</td>\n",
              "      <td>...</td>\n",
              "      <td>...</td>\n",
              "      <td>...</td>\n",
              "      <td>...</td>\n",
              "      <td>...</td>\n",
              "    </tr>\n",
              "    <tr>\n",
              "      <th>3353</th>\n",
              "      <td>18401399840374</td>\n",
              "      <td>1</td>\n",
              "      <td>0</td>\n",
              "      <td>-5.551115e-17</td>\n",
              "      <td>-0.000</td>\n",
              "      <td>29.00</td>\n",
              "      <td>0.042988</td>\n",
              "      <td>-3.146832</td>\n",
              "    </tr>\n",
              "    <tr>\n",
              "      <th>5059</th>\n",
              "      <td>18401399843051</td>\n",
              "      <td>1</td>\n",
              "      <td>0</td>\n",
              "      <td>-5.551115e-17</td>\n",
              "      <td>-0.000</td>\n",
              "      <td>29.00</td>\n",
              "      <td>0.042988</td>\n",
              "      <td>-3.146832</td>\n",
              "    </tr>\n",
              "    <tr>\n",
              "      <th>3322</th>\n",
              "      <td>18401399844854</td>\n",
              "      <td>1</td>\n",
              "      <td>0</td>\n",
              "      <td>-5.551115e-17</td>\n",
              "      <td>-0.000</td>\n",
              "      <td>29.00</td>\n",
              "      <td>0.042988</td>\n",
              "      <td>-3.146832</td>\n",
              "    </tr>\n",
              "    <tr>\n",
              "      <th>4886</th>\n",
              "      <td>18401399839406</td>\n",
              "      <td>1</td>\n",
              "      <td>0</td>\n",
              "      <td>-5.551115e-17</td>\n",
              "      <td>-0.000</td>\n",
              "      <td>29.00</td>\n",
              "      <td>0.042988</td>\n",
              "      <td>-3.146832</td>\n",
              "    </tr>\n",
              "    <tr>\n",
              "      <th>4289</th>\n",
              "      <td>18401399845040</td>\n",
              "      <td>1</td>\n",
              "      <td>0</td>\n",
              "      <td>-5.551115e-17</td>\n",
              "      <td>-0.000</td>\n",
              "      <td>29.00</td>\n",
              "      <td>0.042988</td>\n",
              "      <td>-3.146832</td>\n",
              "    </tr>\n",
              "  </tbody>\n",
              "</table>\n",
              "<p>5381 rows × 8 columns</p>\n",
              "</div>\n",
              "      <button class=\"colab-df-convert\" onclick=\"convertToInteractive('df-ae868f91-20df-40fb-9766-8620e2ad0c3e')\"\n",
              "              title=\"Convert this dataframe to an interactive table.\"\n",
              "              style=\"display:none;\">\n",
              "        \n",
              "  <svg xmlns=\"http://www.w3.org/2000/svg\" height=\"24px\"viewBox=\"0 0 24 24\"\n",
              "       width=\"24px\">\n",
              "    <path d=\"M0 0h24v24H0V0z\" fill=\"none\"/>\n",
              "    <path d=\"M18.56 5.44l.94 2.06.94-2.06 2.06-.94-2.06-.94-.94-2.06-.94 2.06-2.06.94zm-11 1L8.5 8.5l.94-2.06 2.06-.94-2.06-.94L8.5 2.5l-.94 2.06-2.06.94zm10 10l.94 2.06.94-2.06 2.06-.94-2.06-.94-.94-2.06-.94 2.06-2.06.94z\"/><path d=\"M17.41 7.96l-1.37-1.37c-.4-.4-.92-.59-1.43-.59-.52 0-1.04.2-1.43.59L10.3 9.45l-7.72 7.72c-.78.78-.78 2.05 0 2.83L4 21.41c.39.39.9.59 1.41.59.51 0 1.02-.2 1.41-.59l7.78-7.78 2.81-2.81c.8-.78.8-2.07 0-2.86zM5.41 20L4 18.59l7.72-7.72 1.47 1.35L5.41 20z\"/>\n",
              "  </svg>\n",
              "      </button>\n",
              "      \n",
              "  <style>\n",
              "    .colab-df-container {\n",
              "      display:flex;\n",
              "      flex-wrap:wrap;\n",
              "      gap: 12px;\n",
              "    }\n",
              "\n",
              "    .colab-df-convert {\n",
              "      background-color: #E8F0FE;\n",
              "      border: none;\n",
              "      border-radius: 50%;\n",
              "      cursor: pointer;\n",
              "      display: none;\n",
              "      fill: #1967D2;\n",
              "      height: 32px;\n",
              "      padding: 0 0 0 0;\n",
              "      width: 32px;\n",
              "    }\n",
              "\n",
              "    .colab-df-convert:hover {\n",
              "      background-color: #E2EBFA;\n",
              "      box-shadow: 0px 1px 2px rgba(60, 64, 67, 0.3), 0px 1px 3px 1px rgba(60, 64, 67, 0.15);\n",
              "      fill: #174EA6;\n",
              "    }\n",
              "\n",
              "    [theme=dark] .colab-df-convert {\n",
              "      background-color: #3B4455;\n",
              "      fill: #D2E3FC;\n",
              "    }\n",
              "\n",
              "    [theme=dark] .colab-df-convert:hover {\n",
              "      background-color: #434B5C;\n",
              "      box-shadow: 0px 1px 3px 1px rgba(0, 0, 0, 0.15);\n",
              "      filter: drop-shadow(0px 1px 2px rgba(0, 0, 0, 0.3));\n",
              "      fill: #FFFFFF;\n",
              "    }\n",
              "  </style>\n",
              "\n",
              "      <script>\n",
              "        const buttonEl =\n",
              "          document.querySelector('#df-ae868f91-20df-40fb-9766-8620e2ad0c3e button.colab-df-convert');\n",
              "        buttonEl.style.display =\n",
              "          google.colab.kernel.accessAllowed ? 'block' : 'none';\n",
              "\n",
              "        async function convertToInteractive(key) {\n",
              "          const element = document.querySelector('#df-ae868f91-20df-40fb-9766-8620e2ad0c3e');\n",
              "          const dataTable =\n",
              "            await google.colab.kernel.invokeFunction('convertToInteractive',\n",
              "                                                     [key], {});\n",
              "          if (!dataTable) return;\n",
              "\n",
              "          const docLinkHtml = 'Like what you see? Visit the ' +\n",
              "            '<a target=\"_blank\" href=https://colab.research.google.com/notebooks/data_table.ipynb>data table notebook</a>'\n",
              "            + ' to learn more about interactive tables.';\n",
              "          element.innerHTML = '';\n",
              "          dataTable['output_type'] = 'display_data';\n",
              "          await google.colab.output.renderOutput(dataTable, element);\n",
              "          const docLink = document.createElement('div');\n",
              "          docLink.innerHTML = docLinkHtml;\n",
              "          element.appendChild(docLink);\n",
              "        }\n",
              "      </script>\n",
              "    </div>\n",
              "  </div>\n",
              "  "
            ]
          },
          "metadata": {},
          "execution_count": 295
        }
      ]
    },
    {
      "cell_type": "code",
      "source": [
        ""
      ],
      "metadata": {
        "id": "V_aJ-7SX2agp"
      },
      "execution_count": null,
      "outputs": []
    }
  ]
}